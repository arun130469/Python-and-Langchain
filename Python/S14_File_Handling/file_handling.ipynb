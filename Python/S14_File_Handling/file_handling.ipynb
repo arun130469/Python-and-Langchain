{
 "cells": [
  {
   "cell_type": "markdown",
   "metadata": {},
   "source": [
    "#### Reading and Writing Files\n",
    "In Python, files can be opened for reading, writing, or appending. The basic operations involve opening a file, performing read/write operations, and then closing the file.\n",
    "\n",
    "##### Opening a File:\n",
    "To open a file, you use the built-in open() function, which takes two main arguments:\n",
    "\n",
    "- The file path or name.\n",
    "- The mode in which you want to open the file (e.g., reading, writing, appending).\n",
    "\n",
    "Modes and Descriptions\n",
    "- \"r\" :\tRead (default) The file must exist. \n",
    "- \"w\" :\tWrite. Overwrites the file if it exists, or creates a new file.\n",
    "- \"a\" :\tAppend. Adds content to the end of the file.\n",
    "- \"r+\":\tRead and write.\n",
    "- \"b\" :\tBinary mode (e.g., \"rb\" for reading a binary file).\n",
    "- \"t\" :\tText mode (e.g., \"rt\" for reading text; this is the default).\n",
    "\n",
    "\n",
    "Reading from a File:\n",
    "There are multiple ways to read from a file:\n",
    "\n",
    "- read(): Reads the entire file.\n",
    "- readline(): Reads one line at a time.\n",
    "- readlines(): Reads all the lines as a list."
   ]
  },
  {
   "cell_type": "code",
   "execution_count": 6,
   "metadata": {},
   "outputs": [
    {
     "name": "stdout",
     "output_type": "stream",
     "text": [
      "Hello, world!\n",
      "This is a new line.\n"
     ]
    }
   ],
   "source": [
    "# Open the file in read mode\n",
    "with open(\"example.txt\", \"r\") as file:\n",
    "    # Read the entire file content\n",
    "    content = file.read()\n",
    "\n",
    "print(content)\n"
   ]
  },
  {
   "cell_type": "markdown",
   "metadata": {},
   "source": [
    "#### writing to file\n",
    "- If the file exists, the content will be overwritten.\n",
    "- The with statement ensures that the file is automatically closed after the block is executed, even if an error occurs.\n",
    "\n",
    "You can write text to a file using the write() or writelines() methods."
   ]
  },
  {
   "cell_type": "code",
   "execution_count": 7,
   "metadata": {},
   "outputs": [],
   "source": [
    "# Open the file in write mode\n",
    "with open(\"example.txt\", \"w\") as file:\n",
    "    file.write(\"Hello, world!\\n\")\n",
    "    file.write(\"This is a new line.\")\n"
   ]
  },
  {
   "cell_type": "markdown",
   "metadata": {},
   "source": [
    "#### Appending to a File\n"
   ]
  },
  {
   "cell_type": "code",
   "execution_count": 8,
   "metadata": {},
   "outputs": [],
   "source": [
    "# Open the file in append mode\n",
    "with open(\"example.txt\", \"a\") as file:\n",
    "    file.write(\"\\nThis text is appended to the file.\")\n"
   ]
  },
  {
   "cell_type": "markdown",
   "metadata": {},
   "source": [
    "### Working with Different File Formats\n",
    "Python provides libraries to handle various file formats like CSV, JSON, Excel, Binary, etc"
   ]
  },
  {
   "cell_type": "markdown",
   "metadata": {},
   "source": [
    "#### Working with CSV Files\n",
    "Python has a built-in csv module to read from and write to CSV (Comma-Separated Values) files."
   ]
  },
  {
   "cell_type": "code",
   "execution_count": 9,
   "metadata": {},
   "outputs": [],
   "source": [
    "import csv\n",
    "\n",
    "# Writing to a CSV file\n",
    "with open(\"data.csv\", \"w\", newline=\"\") as csvfile:\n",
    "    csvwriter = csv.writer(csvfile)\n",
    "    csvwriter.writerow([\"Name\", \"Age\", \"City\"])  # Writing header\n",
    "    csvwriter.writerow([\"Alice\", 25, \"New York\"])  # Writing rows\n",
    "    csvwriter.writerow([\"Bob\", 30, \"San Francisco\"])\n"
   ]
  },
  {
   "cell_type": "code",
   "execution_count": 10,
   "metadata": {},
   "outputs": [
    {
     "name": "stdout",
     "output_type": "stream",
     "text": [
      "['Name', 'Age', 'City']\n",
      "['Alice', '25', 'New York']\n",
      "['Bob', '30', 'San Francisco']\n"
     ]
    }
   ],
   "source": [
    "import csv\n",
    "\n",
    "# Reading a CSV file\n",
    "with open(\"data.csv\", newline=\"\") as csvfile:\n",
    "    csvreader = csv.reader(csvfile)\n",
    "    for row in csvreader:\n",
    "        print(row)\n"
   ]
  },
  {
   "cell_type": "markdown",
   "metadata": {},
   "source": [
    "#### Working with JSON Files\n",
    "Python’s json module can be used to work with JSON (JavaScript Object Notation) files, which store structured data."
   ]
  },
  {
   "cell_type": "code",
   "execution_count": 11,
   "metadata": {},
   "outputs": [],
   "source": [
    "import json\n",
    "\n",
    "# Writing JSON data to a file\n",
    "data = {\n",
    "    \"name\": \"Alice\",\n",
    "    \"age\": 25,\n",
    "    \"city\": \"New York\"\n",
    "}\n",
    "\n",
    "with open(\"data.json\", \"w\") as jsonfile:\n",
    "    json.dump(data, jsonfile, indent=4)\n"
   ]
  },
  {
   "cell_type": "code",
   "execution_count": 12,
   "metadata": {},
   "outputs": [
    {
     "name": "stdout",
     "output_type": "stream",
     "text": [
      "{'name': 'Alice', 'age': 25, 'city': 'New York'}\n"
     ]
    }
   ],
   "source": [
    "import json\n",
    "\n",
    "# Reading JSON data from a file\n",
    "with open(\"data.json\", \"r\") as jsonfile:\n",
    "    data = json.load(jsonfile)\n",
    "    print(data)\n"
   ]
  },
  {
   "cell_type": "markdown",
   "metadata": {},
   "source": [
    "#### Working with Binary Files\n",
    "- For working with binary files, you need to open the file in binary mode by using \"rb\" (read binary) or \"wb\" (write binary). \n",
    "- This is useful when handling files such as images, videos, or non-text data."
   ]
  },
  {
   "cell_type": "code",
   "execution_count": 27,
   "metadata": {},
   "outputs": [],
   "source": [
    "# writing to binary file\n",
    "with open(\"output.bin\", \"wb\") as binary_file:\n",
    "    binary_file.write(b\"Binary data \\r here\")\n"
   ]
  },
  {
   "cell_type": "code",
   "execution_count": 28,
   "metadata": {},
   "outputs": [
    {
     "name": "stdout",
     "output_type": "stream",
     "text": [
      "b'Binary data \\r here'\n"
     ]
    }
   ],
   "source": [
    "with open(\"output.bin\", \"rb\") as binary_file:\n",
    "    binary_content = binary_file.read()\n",
    "    print(binary_content)\n"
   ]
  },
  {
   "cell_type": "markdown",
   "metadata": {},
   "source": [
    "## Working with Other File Formats:\n",
    "- XML: Use the xml.etree.ElementTree module for XML processing.\n",
    "- YAML: Use the PyYAML library (import yaml) for handling YAML files.\n",
    "- Pickle: Use the pickle module to serialize (save) and deserialize (load) Python objects in binary format."
   ]
  },
  {
   "cell_type": "markdown",
   "metadata": {},
   "source": [
    "#### pickle file"
   ]
  },
  {
   "cell_type": "code",
   "execution_count": 30,
   "metadata": {},
   "outputs": [],
   "source": [
    "# writing to pkl file \n",
    "import pickle\n",
    "\n",
    "# Saving an object to a binary file\n",
    "data = {\"name\": \"Alice\", \"age\": 25}\n",
    "with open(\"data.pkl\", \"wb\") as file:\n",
    "    pickle.dump(data, file)\n"
   ]
  },
  {
   "cell_type": "code",
   "execution_count": 32,
   "metadata": {},
   "outputs": [
    {
     "name": "stdout",
     "output_type": "stream",
     "text": [
      "{'name': 'Alice', 'age': 25}\n"
     ]
    }
   ],
   "source": [
    "# reading from .pkl file\n",
    "import pickle\n",
    "\n",
    "# Loading an object from a binary file\n",
    "with open(\"data.pkl\", \"rb\") as file:\n",
    "    loaded_data = pickle.load(file)\n",
    "    print(loaded_data)"
   ]
  },
  {
   "cell_type": "markdown",
   "metadata": {},
   "source": [
    "#### Working with XML Files"
   ]
  },
  {
   "cell_type": "code",
   "execution_count": 2,
   "metadata": {},
   "outputs": [],
   "source": [
    "import xml.etree.ElementTree as ET\n",
    "\n",
    "# Create the root element\n",
    "root = ET.Element(\"people\")\n",
    "\n",
    "# Create a person element\n",
    "person1 = ET.SubElement(root, \"person\")\n",
    "ET.SubElement(person1, \"name\").text = \"Alice\"\n",
    "ET.SubElement(person1, \"age\").text = \"25\"\n",
    "ET.SubElement(person1, \"city\").text = \"New York\"\n",
    "\n",
    "# Create another person element\n",
    "person2 = ET.SubElement(root, \"person\")\n",
    "ET.SubElement(person2, \"name\").text = \"Bob\"\n",
    "ET.SubElement(person2, \"age\").text = \"30\"\n",
    "ET.SubElement(person2, \"city\").text = \"San Francisco\"\n",
    "\n",
    "# Create an ElementTree object and write to a file\n",
    "tree = ET.ElementTree(root)\n",
    "tree.write(\"output.xml\")\n"
   ]
  },
  {
   "cell_type": "code",
   "execution_count": 3,
   "metadata": {},
   "outputs": [
    {
     "name": "stdout",
     "output_type": "stream",
     "text": [
      "Name: Alice, Age: 25, City: New York\n",
      "Name: Bob, Age: 30, City: San Francisco\n"
     ]
    }
   ],
   "source": [
    "import xml.etree.ElementTree as ET\n",
    "\n",
    "# Parse the XML file\n",
    "tree = ET.parse(\"output.xml\")\n",
    "root = tree.getroot()\n",
    "\n",
    "# Iterate over each person and print their information\n",
    "for person in root.findall(\"person\"):\n",
    "    name = person.find(\"name\").text\n",
    "    age = person.find(\"age\").text\n",
    "    city = person.find(\"city\").text\n",
    "    print(f\"Name: {name}, Age: {age}, City: {city}\")\n"
   ]
  },
  {
   "cell_type": "markdown",
   "metadata": {},
   "source": [
    "#### working with YAML files\n",
    "AML (YAML Ain't Markup Language) is a human-readable data format commonly used for configuration files. In Python, you can work with YAML files using the PyYAML library (yaml module)."
   ]
  },
  {
   "cell_type": "code",
   "execution_count": 4,
   "metadata": {},
   "outputs": [
    {
     "name": "stdout",
     "output_type": "stream",
     "text": [
      "Requirement already satisfied: pyyaml in /home/codespace/.local/lib/python3.12/site-packages (6.0.2)\n"
     ]
    }
   ],
   "source": [
    "!pip install pyyaml\n"
   ]
  },
  {
   "cell_type": "code",
   "execution_count": 5,
   "metadata": {},
   "outputs": [],
   "source": [
    "# writing to YAML file\n",
    "\n",
    "import yaml\n",
    "\n",
    "# Data to write to a YAML file\n",
    "data = {\n",
    "    'people': [\n",
    "        {'name': 'Alice', 'age': 25, 'city': 'New York'},\n",
    "        {'name': 'Bob', 'age': 30, 'city': 'San Francisco'}\n",
    "    ]\n",
    "}\n",
    "\n",
    "# Open the file and write the YAML data\n",
    "with open(\"output.yaml\", \"w\") as yamlfile:\n",
    "    yaml.dump(data, yamlfile, default_flow_style=False)\n"
   ]
  },
  {
   "cell_type": "code",
   "execution_count": 6,
   "metadata": {},
   "outputs": [
    {
     "name": "stdout",
     "output_type": "stream",
     "text": [
      "Name: Alice, Age: 25, City: New York\n",
      "Name: Bob, Age: 30, City: San Francisco\n"
     ]
    }
   ],
   "source": [
    "import yaml\n",
    "\n",
    "# Open and load the YAML file\n",
    "with open(\"output.yaml\", \"r\") as yamlfile:\n",
    "    data = yaml.safe_load(yamlfile)\n",
    "\n",
    "# Print the parsed data\n",
    "for person in data['people']:\n",
    "    print(f\"Name: {person['name']}, Age: {person['age']}, City: {person['city']}\")\n"
   ]
  }
 ],
 "metadata": {
  "kernelspec": {
   "display_name": "Python 3",
   "language": "python",
   "name": "python3"
  },
  "language_info": {
   "codemirror_mode": {
    "name": "ipython",
    "version": 3
   },
   "file_extension": ".py",
   "mimetype": "text/x-python",
   "name": "python",
   "nbconvert_exporter": "python",
   "pygments_lexer": "ipython3",
   "version": "3.12.1"
  }
 },
 "nbformat": 4,
 "nbformat_minor": 2
}
