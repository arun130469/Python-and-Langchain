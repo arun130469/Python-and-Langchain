{
 "cells": [
  {
   "cell_type": "markdown",
   "metadata": {},
   "source": [
    "Strings as Read-Only Arrays"
   ]
  },
  {
   "cell_type": "code",
   "execution_count": 1,
   "metadata": {},
   "outputs": [
    {
     "name": "stdout",
     "output_type": "stream",
     "text": [
      "H\n",
      "e\n"
     ]
    }
   ],
   "source": [
    "s = \"Hello\"\n",
    "print(s[0])  # Output: H\n",
    "print(s[1])  # Output: e\n",
    "\n",
    "# Attempting to modify the string will raise an error\n",
    "# s[0] = \"h\"  # TypeError: 'str' object does not support item assignment\n"
   ]
  },
  {
   "cell_type": "markdown",
   "metadata": {},
   "source": [
    "String Concatenation"
   ]
  },
  {
   "cell_type": "code",
   "execution_count": 2,
   "metadata": {},
   "outputs": [
    {
     "name": "stdout",
     "output_type": "stream",
     "text": [
      "Hello World\n",
      "Hello World\n"
     ]
    }
   ],
   "source": [
    "# Concatenation using +\n",
    "s1 = \"Hello\"\n",
    "s2 = \"World\"\n",
    "combined = s1 + \" \" + s2\n",
    "print(combined)  # Output: Hello World\n",
    "\n",
    "# Concatenation using join\n",
    "words = [\"Hello\", \"World\"]\n",
    "combined = \" \".join(words)\n",
    "print(combined)  # Output: Hello World\n"
   ]
  },
  {
   "cell_type": "markdown",
   "metadata": {},
   "source": [
    "String Internal Representation"
   ]
  },
  {
   "cell_type": "code",
   "execution_count": 3,
   "metadata": {},
   "outputs": [
    {
     "name": "stdout",
     "output_type": "stream",
     "text": [
      "H\n",
      "e\n",
      "l\n",
      "l\n",
      "o\n",
      ",\n",
      " \n",
      "世\n",
      "界\n"
     ]
    }
   ],
   "source": [
    "# Internally, Python strings are represented as arrays of Unicode code points (characters). \n",
    "# This allows Python to handle multi-language text and special characters.\n",
    "\n",
    "s = \"Hello, 世界\"\n",
    "for char in s:\n",
    "    print(char)  # Outputs each character including the Chinese characters\n"
   ]
  },
  {
   "cell_type": "markdown",
   "metadata": {},
   "source": [
    "String Methods"
   ]
  },
  {
   "cell_type": "code",
   "execution_count": 4,
   "metadata": {},
   "outputs": [
    {
     "name": "stdout",
     "output_type": "stream",
     "text": [
      "Uppercase: HELLO, THIS IS A PYTHON STRING EXAMPLE.\n",
      "Lowercase: hello, this is a python string example.\n",
      "Replaced: Hello, this is a sample string example.\n",
      "Split: ['Hello,', 'this', 'is', 'a', 'Python', 'string', 'example.']\n",
      "Position of 'Python': 17\n",
      "Starts with 'Hello': True\n",
      "Ends with 'example.': True\n"
     ]
    }
   ],
   "source": [
    "# Original string\n",
    "text = \"Hello, this is a Python string example.\"\n",
    "\n",
    "# Convert the string to uppercase\n",
    "upper_text = text.upper()\n",
    "print(\"Uppercase:\", upper_text)\n",
    "# Output: HELLO, THIS IS A PYTHON STRING EXAMPLE.\n",
    "\n",
    "# Convert the string to lowercase\n",
    "lower_text = text.lower()\n",
    "print(\"Lowercase:\", lower_text)\n",
    "# Output: hello, this is a python string example.\n",
    "\n",
    "# Replace part of the string\n",
    "replaced_text = text.replace(\"Python\", \"sample\")\n",
    "print(\"Replaced:\", replaced_text)\n",
    "# Output: Hello, this is a sample string example.\n",
    "\n",
    "# Split the string into a list of words\n",
    "split_text = text.split()\n",
    "print(\"Split:\", split_text)\n",
    "# Output: ['Hello,', 'this', 'is', 'a', 'Python', 'string', 'example.']\n",
    "\n",
    "# Find the position of a substring\n",
    "position = text.find(\"Python\")\n",
    "print(\"Position of 'Python':\", position)\n",
    "# Output: 18 (the starting index of the substring \"Python\")\n",
    "\n",
    "# Check if the string starts with \"Hello\"\n",
    "starts_with_hello = text.startswith(\"Hello\")\n",
    "print(\"Starts with 'Hello':\", starts_with_hello)\n",
    "# Output: True\n",
    "\n",
    "# Check if the string ends with \"example.\"\n",
    "ends_with_example = text.endswith(\"example.\")\n",
    "print(\"Ends with 'example.':\", ends_with_example)\n",
    "# Output: True\n"
   ]
  },
  {
   "cell_type": "markdown",
   "metadata": {},
   "source": [
    "F-Strings for Formatting Strings"
   ]
  },
  {
   "cell_type": "code",
   "execution_count": 5,
   "metadata": {},
   "outputs": [
    {
     "name": "stdout",
     "output_type": "stream",
     "text": [
      "My name is Jayant and I am 24 years old.\n"
     ]
    }
   ],
   "source": [
    "name = \"Jayant\"\n",
    "age = 24\n",
    "greeting = f\"My name is {name} and I am {age} years old.\"\n",
    "print(greeting)  # Output: My name is Jayant and I am 24 years old.\n"
   ]
  },
  {
   "cell_type": "markdown",
   "metadata": {},
   "source": [
    "Replacement Field {} Specification"
   ]
  },
  {
   "cell_type": "code",
   "execution_count": 6,
   "metadata": {},
   "outputs": [
    {
     "name": "stdout",
     "output_type": "stream",
     "text": [
      "Formatted number: 1234.57\n"
     ]
    }
   ],
   "source": [
    "value = 1234.56789\n",
    "formatted_value = f\"Formatted number: {value:.2f}\"  # Limit to 2 decimal places\n",
    "print(formatted_value)  # Output: Formatted number: 1234.57\n"
   ]
  },
  {
   "cell_type": "markdown",
   "metadata": {},
   "source": [
    "Optional Conversion Operators:"
   ]
  },
  {
   "cell_type": "code",
   "execution_count": 7,
   "metadata": {},
   "outputs": [
    {
     "name": "stdout",
     "output_type": "stream",
     "text": [
      "repr of text: 'Hello\\nWorld'\n",
      "str of text: Hello\n",
      "World\n",
      "ascii of unicode_text: 'H\\xe9llo'\n"
     ]
    }
   ],
   "source": [
    "# Defining some variables\n",
    "text = \"Hello\\nWorld\"       # Contains a newline character\n",
    "unicode_text = \"Héllo\"      # Contains a non-ASCII character\n",
    "\n",
    "# Using !r to show the raw (debug) representation of the string\n",
    "print(f\"repr of text: {text!r}\")  # Output: 'Hello\\nWorld' (shows the newline escape sequence)\n",
    "\n",
    "# Using !s to show the regular string representation (default behavior)\n",
    "print(f\"str of text: {text!s}\")   # Output: Hello\n",
    "                                  #         World  (newline is printed)\n",
    "\n",
    "# Using !a to escape non-ASCII characters\n",
    "print(f\"ascii of unicode_text: {unicode_text!a}\")  # Output: 'H\\u00e9llo' (non-ASCII character é is escaped)\n"
   ]
  },
  {
   "cell_type": "markdown",
   "metadata": {},
   "source": [
    "Fill + Align + Sign + Width"
   ]
  },
  {
   "cell_type": "code",
   "execution_count": 9,
   "metadata": {},
   "outputs": [
    {
     "name": "stdout",
     "output_type": "stream",
     "text": [
      "Hello     \n",
      "     Hello\n",
      "  Hello   \n"
     ]
    }
   ],
   "source": [
    "#Alignment\n",
    "\n",
    "# Left-align\n",
    "print(f\"{'Hello':<10}\")  # Output: Hello     (padded with spaces on the right)\n",
    "\n",
    "# Right-align\n",
    "print(f\"{'Hello':>10}\")  # Output:      Hello (padded with spaces on the left)\n",
    "\n",
    "# Center-align\n",
    "print(f\"{'Hello':^10}\")  # Output:   Hello   (centered with spaces)\n"
   ]
  },
  {
   "cell_type": "code",
   "execution_count": 12,
   "metadata": {},
   "outputs": [
    {
     "name": "stdout",
     "output_type": "stream",
     "text": [
      "00042\n"
     ]
    }
   ],
   "source": [
    "# Fill\n",
    "\n",
    "# Fill with zeros\n",
    "print(f\"{42:05}\")  # Output: 00042\n"
   ]
  },
  {
   "cell_type": "code",
   "execution_count": 13,
   "metadata": {},
   "outputs": [
    {
     "name": "stdout",
     "output_type": "stream",
     "text": [
      "+42\n",
      "-42\n"
     ]
    }
   ],
   "source": [
    "# sign\n",
    "print(f\"{42:+}\")   # Output: +42 (include the sign)\n",
    "print(f\"{-42:+}\")  # Output: -42 (include the sign)\n"
   ]
  },
  {
   "cell_type": "markdown",
   "metadata": {},
   "source": [
    "Grouping Options"
   ]
  },
  {
   "cell_type": "code",
   "execution_count": 14,
   "metadata": {},
   "outputs": [
    {
     "name": "stdout",
     "output_type": "stream",
     "text": [
      "1,000,000\n"
     ]
    }
   ],
   "source": [
    "value = 1000000\n",
    "print(f\"{value:,}\")  # Output: 1,000,000\n"
   ]
  },
  {
   "cell_type": "markdown",
   "metadata": {},
   "source": [
    "The 0 (Zero) Character"
   ]
  },
  {
   "cell_type": "code",
   "execution_count": 15,
   "metadata": {},
   "outputs": [
    {
     "name": "stdout",
     "output_type": "stream",
     "text": [
      "00042\n"
     ]
    }
   ],
   "source": [
    "print(f\"{42:05}\")  # Output: 00042\n"
   ]
  },
  {
   "cell_type": "markdown",
   "metadata": {},
   "source": [
    "Presentation Types & the Character #"
   ]
  },
  {
   "cell_type": "code",
   "execution_count": 16,
   "metadata": {},
   "outputs": [
    {
     "name": "stdout",
     "output_type": "stream",
     "text": [
      "255\n",
      "0xff\n"
     ]
    }
   ],
   "source": [
    "# Decimal and hexadecimal\n",
    "print(f\"{255:d}\")   # Output: 255 (decimal)\n",
    "print(f\"{255:#x}\")  # Output: 0xff (hexadecimal with '0x' prefix)\n"
   ]
  }
 ],
 "metadata": {
  "kernelspec": {
   "display_name": "Python 3",
   "language": "python",
   "name": "python3"
  },
  "language_info": {
   "codemirror_mode": {
    "name": "ipython",
    "version": 3
   },
   "file_extension": ".py",
   "mimetype": "text/x-python",
   "name": "python",
   "nbconvert_exporter": "python",
   "pygments_lexer": "ipython3",
   "version": "3.12.1"
  }
 },
 "nbformat": 4,
 "nbformat_minor": 2
}
