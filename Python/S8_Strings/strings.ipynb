{
 "cells": [
  {
   "cell_type": "markdown",
   "metadata": {},
   "source": [
    "String Concatenation"
   ]
  },
  {
   "cell_type": "code",
   "execution_count": 2,
   "metadata": {},
   "outputs": [
    {
     "name": "stdout",
     "output_type": "stream",
     "text": [
      "Hello World\n",
      "Hello World\n"
     ]
    }
   ],
   "source": [
    "# Concatenation using +\n",
    "s1 = \"Hello\"\n",
    "s2 = \"World\"\n",
    "combined = s1 + \" \" + s2\n",
    "print(combined)  # Output: Hello World\n",
    "\n",
    "# Concatenation using join\n",
    "words = [\"Hello\", \"World\"]\n",
    "combined = \" \".join(words)\n",
    "print(combined)  # Output: Hello World\n"
   ]
  },
  {
   "cell_type": "markdown",
   "metadata": {},
   "source": [
    "String Internal Representation"
   ]
  },
  {
   "cell_type": "code",
   "execution_count": 3,
   "metadata": {},
   "outputs": [
    {
     "name": "stdout",
     "output_type": "stream",
     "text": [
      "H\n",
      "e\n",
      "l\n",
      "l\n",
      "o\n",
      ",\n",
      " \n",
      "世\n",
      "界\n"
     ]
    }
   ],
   "source": [
    "# Internally, Python strings are represented as arrays of Unicode code points (characters). \n",
    "# This allows Python to handle multi-language text and special characters.\n",
    "\n",
    "s = \"Hello, 世界\"\n",
    "for char in s:\n",
    "    print(char)  # Outputs each character including the Chinese characters\n"
   ]
  },
  {
   "cell_type": "markdown",
   "metadata": {},
   "source": [
    "String Methods"
   ]
  },
  {
   "cell_type": "code",
   "execution_count": 4,
   "metadata": {},
   "outputs": [
    {
     "name": "stdout",
     "output_type": "stream",
     "text": [
      "Uppercase: HELLO, THIS IS A PYTHON STRING EXAMPLE.\n",
      "Lowercase: hello, this is a python string example.\n",
      "Replaced: Hello, this is a sample string example.\n",
      "Split: ['Hello,', 'this', 'is', 'a', 'Python', 'string', 'example.']\n",
      "Position of 'Python': 17\n",
      "Starts with 'Hello': True\n",
      "Ends with 'example.': True\n"
     ]
    }
   ],
   "source": [
    "# Original string\n",
    "text = \"Hello, this is a Python string example.\"\n",
    "\n",
    "# Convert the string to uppercase\n",
    "upper_text = text.upper()\n",
    "print(\"Uppercase:\", upper_text)\n",
    "# Output: HELLO, THIS IS A PYTHON STRING EXAMPLE.\n",
    "\n",
    "# Convert the string to lowercase\n",
    "lower_text = text.lower()\n",
    "print(\"Lowercase:\", lower_text)\n",
    "# Output: hello, this is a python string example.\n",
    "\n",
    "# Replace part of the string\n",
    "replaced_text = text.replace(\"Python\", \"sample\")\n",
    "print(\"Replaced:\", replaced_text)\n",
    "# Output: Hello, this is a sample string example.\n",
    "\n",
    "# Split the string into a list of words\n",
    "split_text = text.split()\n",
    "print(\"Split:\", split_text)\n",
    "# Output: ['Hello,', 'this', 'is', 'a', 'Python', 'string', 'example.']\n",
    "\n",
    "# Find the position of a substring\n",
    "position = text.find(\"Python\")\n",
    "print(\"Position of 'Python':\", position)\n",
    "# Output: 18 (the starting index of the substring \"Python\")\n",
    "\n",
    "# Check if the string starts with \"Hello\"\n",
    "starts_with_hello = text.startswith(\"Hello\")\n",
    "print(\"Starts with 'Hello':\", starts_with_hello)\n",
    "# Output: True\n",
    "\n",
    "# Check if the string ends with \"example.\"\n",
    "ends_with_example = text.endswith(\"example.\")\n",
    "print(\"Ends with 'example.':\", ends_with_example)\n",
    "# Output: True\n"
   ]
  },
  {
   "cell_type": "markdown",
   "metadata": {},
   "source": [
    "### f-strings - formatted strings\n",
    "1. They are expressions\n",
    "2. Thus evaluated at runtime\n",
    "3. Older ways had limitations and were cumbersome.\n",
    "4. This is the most recent and preferred way.\n",
    "5. More here: https://peps.python.org/pep-0498/\n"
   ]
  },
  {
   "cell_type": "markdown",
   "metadata": {},
   "source": [
    "#### %-formatting\n",
    "1. This was a very old way"
   ]
  },
  {
   "cell_type": "code",
   "execution_count": 9,
   "metadata": {},
   "outputs": [
    {
     "name": "stdout",
     "output_type": "stream",
     "text": [
      "Good Morning Guido Rossum\n",
      "Good Morning ('Guido', 'Rossum')\n",
      "Good Morning ('Guido', 'Rossum')\n"
     ]
    }
   ],
   "source": [
    "name = 'Guido Rossum'\n",
    "print('Good Morning %s' %name )\n",
    "\n",
    "# Tuple\n",
    "name = ('Guido', 'Rossum')\n",
    "# \"Good Morning %s\" % name # will fail\n",
    "print('Good Morning %s' %(name,)) # We will need to do this. \n",
    "\n",
    "# with f-string\n",
    "print(f'Good Morning {name}') # much cleaner."
   ]
  },
  {
   "cell_type": "markdown",
   "metadata": {},
   "source": [
    "#### str.format()\n",
    "1. This construct was added to remove the limitations and issues of %-formatting.\n",
    "2. Allowed the use of multiple parameters\n",
    "3. Extensible through the `__format__()` method on objects.\n",
    "4. f-strings use much of the functionality of this method while being less verbose.\n"
   ]
  },
  {
   "cell_type": "code",
   "execution_count": 26,
   "metadata": {},
   "outputs": [
    {
     "data": {
      "text/plain": [
       "'ok     Hello I am A    '"
      ]
     },
     "execution_count": 26,
     "metadata": {},
     "output_type": "execute_result"
    }
   ],
   "source": [
    "class A:\n",
    "    def __format__(self, format_spec): # passes the format specifier\n",
    "        return format('Hello I am A', format_spec) # call the global format method.\n",
    "a = A()\n",
    "'ok {value:^20}'.format(value  = a) # This is verbose"
   ]
  },
  {
   "cell_type": "code",
   "execution_count": 1,
   "metadata": {},
   "outputs": [
    {
     "name": "stdout",
     "output_type": "stream",
     "text": [
      "My name is Guido and I am 24 years old.\n"
     ]
    }
   ],
   "source": [
    "name = \"Guido\"\n",
    "age = 24\n",
    "greeting = f\"My name is {name} and I am {age} years old.\"\n",
    "print(greeting)  # Output: My name is Jayant and I am 24 years old.\n"
   ]
  },
  {
   "cell_type": "markdown",
   "metadata": {},
   "source": [
    "# How f-strings are translated to code"
   ]
  },
  {
   "cell_type": "code",
   "execution_count": 61,
   "metadata": {},
   "outputs": [
    {
     "name": "stdout",
     "output_type": "stream",
     "text": [
      "str1 60.33\n"
     ]
    },
    {
     "data": {
      "text/plain": [
       "'60.33'"
      ]
     },
     "execution_count": 61,
     "metadata": {},
     "output_type": "execute_result"
    }
   ],
   "source": [
    "expr1 = 2.342345+57.989789 #Any expression\n",
    "spec1 = '.2f'\n",
    "\n",
    "print(f'str1 {expr1:{spec1}}') # spec needs to be an expression and the trailing braces need to be close to each other.\n",
    "\n",
    "format(expr1, '.2f') # The above f-string is equivalent to this."
   ]
  },
  {
   "cell_type": "markdown",
   "metadata": {},
   "source": [
    "### f-string format\n",
    "`f '` `<text>` `{` `<expression>` `<optional !s, !r, or !a>` `<optional : format specifier>` `}`  `<text>` ...`'`\n",
    "\n",
    "1. The expression part is then formatter using the `__format__` pattern. \n",
    "2. Expressions cannot contain `:` or `;`. The exception is `!=` which is allowed as a special case.\n",
    "3. Backslash cannot be used inside the expression portion. It can be used in the string portion of the f-string"
   ]
  },
  {
   "cell_type": "code",
   "execution_count": 40,
   "metadata": {},
   "outputs": [
    {
     "name": "stdout",
     "output_type": "stream",
     "text": [
      "\" This is allowed \" \n"
     ]
    }
   ],
   "source": [
    "print(f'{\"\\\" This is allowed \\\" \"}') # as the backslash is part of the string portion of the expression.\n",
    "# f'{\\\"quoted string\\\"}' #This wont work as the backspash is ourside the string portion of the expression. "
   ]
  },
  {
   "cell_type": "markdown",
   "metadata": {},
   "source": [
    "4. The right way to have have a literal brace in the output is:"
   ]
  },
  {
   "cell_type": "code",
   "execution_count": 42,
   "metadata": {},
   "outputs": [
    {
     "data": {
      "text/plain": [
       "'{ --2--}'"
      ]
     },
     "execution_count": 42,
     "metadata": {},
     "output_type": "execute_result"
    }
   ],
   "source": [
    "f'{{ --{3-1}--}}' #The first pair  {{ produces a literal brace like the ending 2 }} produce the closing brace"
   ]
  },
  {
   "cell_type": "markdown",
   "metadata": {},
   "source": [
    "5. Raw strings do not process escape sequence"
   ]
  },
  {
   "cell_type": "code",
   "execution_count": 45,
   "metadata": {},
   "outputs": [
    {
     "name": "stdout",
     "output_type": "stream",
     "text": [
      "This is a \\n raw string\n",
      "This not a \n",
      " raw string\n",
      "This is a raw 5 \\n expression\n",
      "This is not a raw 5 \n",
      " expression\n"
     ]
    }
   ],
   "source": [
    "print(r'This is a \\n raw string')\n",
    "print('This not a \\n raw string')\n",
    "\n",
    "print(fr'This is a raw {3+2} \\n expression')\n",
    "print(f\"This is not a raw {3+2} \\n expression\")"
   ]
  },
  {
   "cell_type": "markdown",
   "metadata": {},
   "source": [
    "6. Best is use `'''` when wanting to use quotes in the expression."
   ]
  },
  {
   "cell_type": "code",
   "execution_count": 46,
   "metadata": {},
   "outputs": [
    {
     "data": {
      "text/plain": [
       "\"This is a 3 'quote' string\""
      ]
     },
     "execution_count": 46,
     "metadata": {},
     "output_type": "execute_result"
    }
   ],
   "source": [
    "f'''This is a {3*1} 'quote' string'''"
   ]
  },
  {
   "cell_type": "markdown",
   "metadata": {},
   "source": [
    "7. Evaluation order of expressions is left to right"
   ]
  },
  {
   "cell_type": "code",
   "execution_count": 63,
   "metadata": {},
   "outputs": [
    {
     "data": {
      "text/plain": [
       "'[11]  [12]'"
      ]
     },
     "execution_count": 63,
     "metadata": {},
     "output_type": "execute_result"
    }
   ],
   "source": [
    "val = [10]\n",
    "def f(lst):\n",
    "    lst[0] += 1\n",
    "    return lst\n",
    "\n",
    "\n",
    "f'{f(val)}  {f(val)}'"
   ]
  },
  {
   "cell_type": "markdown",
   "metadata": {},
   "source": [
    "### Using Lambda in expression"
   ]
  },
  {
   "cell_type": "code",
   "execution_count": 66,
   "metadata": {},
   "outputs": [
    {
     "data": {
      "text/plain": [
       "'16'"
      ]
     },
     "execution_count": 66,
     "metadata": {},
     "output_type": "execute_result"
    }
   ],
   "source": [
    "f'{(lambda x: x**2)(4)}' #The lambda squares any value passed to it. And its invoked with 4"
   ]
  },
  {
   "cell_type": "markdown",
   "metadata": {},
   "source": [
    "Replacement Field {} Specification"
   ]
  },
  {
   "cell_type": "code",
   "execution_count": 6,
   "metadata": {},
   "outputs": [
    {
     "name": "stdout",
     "output_type": "stream",
     "text": [
      "Formatted number: 1234.57\n"
     ]
    }
   ],
   "source": [
    "value = 1234.56789\n",
    "formatted_value = f\"Formatted number: {value:.2f}\"  # Limit to 2 decimal places\n",
    "print(formatted_value)  # Output: Formatted number: 1234.57\n"
   ]
  },
  {
   "cell_type": "markdown",
   "metadata": {},
   "source": [
    "### Optional Conversion Operators:\n",
    "1. We can use `!` for making a quick conversion\n",
    "2. It causes type coercion before formatting (as specified with the “:” operator)\n",
    "3. !s - calls str(object) - user-friendly representation of the object\n",
    "4. Above is quitvalent to: `str(object)` -> `type(object).__str__(object)`.\n",
    "5. Ff type does not have `__str__()` then fallback is repr(object)\n",
    "6. !r - representation calls repr(). A string that can be eval(string) to get the object\n",
    "7. !a = calls ascii(). Same as repr() with all non-ascii characters escaped\n",
    "\n",
    "- They are entirely optional as we can write `str(object)` `repr(object)` and `ascii(object)` in the expression\n"
   ]
  },
  {
   "cell_type": "code",
   "execution_count": 7,
   "metadata": {},
   "outputs": [
    {
     "name": "stdout",
     "output_type": "stream",
     "text": [
      "repr of text: 'Hello\\nWorld'\n",
      "str of text: Hello\n",
      "World\n",
      "ascii of unicode_text: 'H\\xe9llo'\n"
     ]
    }
   ],
   "source": [
    "# Defining some variables\n",
    "text = \"Hello\\nWorld\"       # Contains a newline character\n",
    "unicode_text = \"Héllo\"      # Contains a non-ASCII character\n",
    "\n",
    "# Using !r to show the raw (debug) representation of the string\n",
    "print(f\"repr of text: {text!r}\")  # Output: 'Hello\\nWorld' (shows the newline escape sequence)\n",
    "\n",
    "# Using !s to show the regular string representation (default behavior)\n",
    "print(f\"str of text: {text!s}\")   # Output: Hello\n",
    "                                  #         World  (newline is printed)\n",
    "\n",
    "# Using !a to escape non-ASCII characters\n",
    "print(f\"ascii of unicode_text: {unicode_text!a}\")  # Output: 'H\\u00e9llo' (non-ASCII character é is escaped)\n"
   ]
  },
  {
   "cell_type": "markdown",
   "metadata": {},
   "source": [
    "Fill + Align + Sign + Width"
   ]
  },
  {
   "cell_type": "code",
   "execution_count": 9,
   "metadata": {},
   "outputs": [
    {
     "name": "stdout",
     "output_type": "stream",
     "text": [
      "Hello     \n",
      "     Hello\n",
      "  Hello   \n"
     ]
    }
   ],
   "source": [
    "#Alignment\n",
    "\n",
    "# Left-align\n",
    "print(f\"{'Hello':<10}\")  # Output: Hello     (padded with spaces on the right)\n",
    "\n",
    "# Right-align\n",
    "print(f\"{'Hello':>10}\")  # Output:      Hello (padded with spaces on the left)\n",
    "\n",
    "# Center-align\n",
    "print(f\"{'Hello':^10}\")  # Output:   Hello   (centered with spaces)\n"
   ]
  },
  {
   "cell_type": "code",
   "execution_count": 12,
   "metadata": {},
   "outputs": [
    {
     "name": "stdout",
     "output_type": "stream",
     "text": [
      "00042\n"
     ]
    }
   ],
   "source": [
    "# Fill\n",
    "\n",
    "# Fill with zeros\n",
    "print(f\"{42:05}\")  # Output: 00042\n"
   ]
  },
  {
   "cell_type": "code",
   "execution_count": 13,
   "metadata": {},
   "outputs": [
    {
     "name": "stdout",
     "output_type": "stream",
     "text": [
      "+42\n",
      "-42\n"
     ]
    }
   ],
   "source": [
    "# sign\n",
    "print(f\"{42:+}\")   # Output: +42 (include the sign)\n",
    "print(f\"{-42:+}\")  # Output: -42 (include the sign)\n"
   ]
  },
  {
   "cell_type": "markdown",
   "metadata": {},
   "source": [
    "Grouping Options"
   ]
  },
  {
   "cell_type": "code",
   "execution_count": 14,
   "metadata": {},
   "outputs": [
    {
     "name": "stdout",
     "output_type": "stream",
     "text": [
      "1,000,000\n"
     ]
    }
   ],
   "source": [
    "value = 1000000\n",
    "print(f\"{value:,}\")  # Output: 1,000,000\n"
   ]
  },
  {
   "cell_type": "markdown",
   "metadata": {},
   "source": [
    "The 0 (Zero) Character"
   ]
  },
  {
   "cell_type": "code",
   "execution_count": 15,
   "metadata": {},
   "outputs": [
    {
     "name": "stdout",
     "output_type": "stream",
     "text": [
      "00042\n"
     ]
    }
   ],
   "source": [
    "print(f\"{42:05}\")  # Output: 00042\n"
   ]
  },
  {
   "cell_type": "markdown",
   "metadata": {},
   "source": [
    "Presentation Types & the Character #"
   ]
  },
  {
   "cell_type": "code",
   "execution_count": 16,
   "metadata": {},
   "outputs": [
    {
     "name": "stdout",
     "output_type": "stream",
     "text": [
      "255\n",
      "0xff\n"
     ]
    }
   ],
   "source": [
    "# Decimal and hexadecimal\n",
    "print(f\"{255:d}\")   # Output: 255 (decimal)\n",
    "print(f\"{255:#x}\")  # Output: 0xff (hexadecimal with '0x' prefix)\n"
   ]
  }
 ],
 "metadata": {
  "kernelspec": {
   "display_name": "Python 3",
   "language": "python",
   "name": "python3"
  },
  "language_info": {
   "codemirror_mode": {
    "name": "ipython",
    "version": 3
   },
   "file_extension": ".py",
   "mimetype": "text/x-python",
   "name": "python",
   "nbconvert_exporter": "python",
   "pygments_lexer": "ipython3",
   "version": "3.12.4"
  }
 },
 "nbformat": 4,
 "nbformat_minor": 2
}
