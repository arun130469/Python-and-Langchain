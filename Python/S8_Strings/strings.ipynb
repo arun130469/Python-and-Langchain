{
 "cells": [
  {
   "cell_type": "markdown",
   "metadata": {},
   "source": [
    "String Concatenation"
   ]
  },
  {
   "cell_type": "code",
   "execution_count": 2,
   "metadata": {},
   "outputs": [
    {
     "name": "stdout",
     "output_type": "stream",
     "text": [
      "Hello World\n",
      "Hello World\n"
     ]
    }
   ],
   "source": [
    "# Concatenation using +\n",
    "s1 = \"Hello\"\n",
    "s2 = \"World\"\n",
    "combined = s1 + \" \" + s2\n",
    "print(combined)  # Output: Hello World\n",
    "\n",
    "# Concatenation using join\n",
    "words = [\"Hello\", \"World\"]\n",
    "combined = \" \".join(words)\n",
    "print(combined)  # Output: Hello World\n"
   ]
  },
  {
   "cell_type": "markdown",
   "metadata": {},
   "source": [
    "String Internal Representation"
   ]
  },
  {
   "cell_type": "code",
   "execution_count": 3,
   "metadata": {},
   "outputs": [
    {
     "name": "stdout",
     "output_type": "stream",
     "text": [
      "H\n",
      "e\n",
      "l\n",
      "l\n",
      "o\n",
      ",\n",
      " \n",
      "世\n",
      "界\n"
     ]
    }
   ],
   "source": [
    "# Internally, Python strings are represented as arrays of Unicode code points (characters). \n",
    "# This allows Python to handle multi-language text and special characters.\n",
    "\n",
    "s = \"Hello, 世界\"\n",
    "for char in s:\n",
    "    print(char)  # Outputs each character including the Chinese characters\n"
   ]
  },
  {
   "cell_type": "markdown",
   "metadata": {},
   "source": [
    "String Methods"
   ]
  },
  {
   "cell_type": "code",
   "execution_count": 4,
   "metadata": {},
   "outputs": [
    {
     "name": "stdout",
     "output_type": "stream",
     "text": [
      "Uppercase: HELLO, THIS IS A PYTHON STRING EXAMPLE.\n",
      "Lowercase: hello, this is a python string example.\n",
      "Replaced: Hello, this is a sample string example.\n",
      "Split: ['Hello,', 'this', 'is', 'a', 'Python', 'string', 'example.']\n",
      "Position of 'Python': 17\n",
      "Starts with 'Hello': True\n",
      "Ends with 'example.': True\n"
     ]
    }
   ],
   "source": [
    "# Original string\n",
    "text = \"Hello, this is a Python string example.\"\n",
    "\n",
    "# Convert the string to uppercase\n",
    "upper_text = text.upper()\n",
    "print(\"Uppercase:\", upper_text)\n",
    "# Output: HELLO, THIS IS A PYTHON STRING EXAMPLE.\n",
    "\n",
    "# Convert the string to lowercase\n",
    "lower_text = text.lower()\n",
    "print(\"Lowercase:\", lower_text)\n",
    "# Output: hello, this is a python string example.\n",
    "\n",
    "# Replace part of the string\n",
    "replaced_text = text.replace(\"Python\", \"sample\")\n",
    "print(\"Replaced:\", replaced_text)\n",
    "# Output: Hello, this is a sample string example.\n",
    "\n",
    "# Split the string into a list of words\n",
    "split_text = text.split()\n",
    "print(\"Split:\", split_text)\n",
    "# Output: ['Hello,', 'this', 'is', 'a', 'Python', 'string', 'example.']\n",
    "\n",
    "# Find the position of a substring\n",
    "position = text.find(\"Python\")\n",
    "print(\"Position of 'Python':\", position)\n",
    "# Output: 18 (the starting index of the substring \"Python\")\n",
    "\n",
    "# Check if the string starts with \"Hello\"\n",
    "starts_with_hello = text.startswith(\"Hello\")\n",
    "print(\"Starts with 'Hello':\", starts_with_hello)\n",
    "# Output: True\n",
    "\n",
    "# Check if the string ends with \"example.\"\n",
    "ends_with_example = text.endswith(\"example.\")\n",
    "print(\"Ends with 'example.':\", ends_with_example)\n",
    "# Output: True\n"
   ]
  },
  {
   "cell_type": "markdown",
   "metadata": {},
   "source": [
    "### f-strings - formatted strings\n",
    "1. They are expressions\n",
    "2. Thus evaluated at runtime\n",
    "3. Older ways had limitations and were cumbersome.\n",
    "4. This is the most recent and preferred way.\n",
    "5. More here: https://peps.python.org/pep-0498/\n"
   ]
  },
  {
   "cell_type": "markdown",
   "metadata": {},
   "source": [
    "#### %-formatting\n",
    "1. This was a very old way"
   ]
  },
  {
   "cell_type": "code",
   "execution_count": 9,
   "metadata": {},
   "outputs": [
    {
     "name": "stdout",
     "output_type": "stream",
     "text": [
      "Good Morning Guido Rossum\n",
      "Good Morning ('Guido', 'Rossum')\n",
      "Good Morning ('Guido', 'Rossum')\n"
     ]
    }
   ],
   "source": [
    "name = 'Guido Rossum'\n",
    "print('Good Morning %s' %name )\n",
    "\n",
    "# Tuple\n",
    "name = ('Guido', 'Rossum')\n",
    "# \"Good Morning %s\" % name # will fail\n",
    "print('Good Morning %s' %(name,)) # We will need to do this. \n",
    "\n",
    "# with f-string\n",
    "print(f'Good Morning {name}') # much cleaner."
   ]
  },
  {
   "cell_type": "markdown",
   "metadata": {},
   "source": [
    "#### str.format()\n",
    "1. This construct was added to remove the limitations and issues of %-formatting.\n",
    "2. Allowed the use of multiple parameters\n",
    "3. Extensible through the `__format__()` method on objects.\n",
    "4. f-strings use much of the functionality of this method while being less verbose.\n"
   ]
  },
  {
   "cell_type": "code",
   "execution_count": 26,
   "metadata": {},
   "outputs": [
    {
     "data": {
      "text/plain": [
       "'ok     Hello I am A    '"
      ]
     },
     "execution_count": 26,
     "metadata": {},
     "output_type": "execute_result"
    }
   ],
   "source": [
    "class A:\n",
    "    def __format__(self, format_spec): # passes the format specifier\n",
    "        return format('Hello I am A', format_spec) # call the global format method.\n",
    "a = A()\n",
    "'ok {value:^20}'.format(value  = a) # This is verbose"
   ]
  },
  {
   "cell_type": "code",
   "execution_count": 1,
   "metadata": {},
   "outputs": [
    {
     "name": "stdout",
     "output_type": "stream",
     "text": [
      "My name is Guido and I am 24 years old.\n"
     ]
    }
   ],
   "source": [
    "name = \"Guido\"\n",
    "age = 24\n",
    "greeting = f\"My name is {name} and I am {age} years old.\"\n",
    "print(greeting)  # Output: My name is Guido and I am 24 years old.\n"
   ]
  },
  {
   "cell_type": "markdown",
   "metadata": {},
   "source": [
    "# How f-strings are translated to code"
   ]
  },
  {
   "cell_type": "code",
   "execution_count": 61,
   "metadata": {},
   "outputs": [
    {
     "name": "stdout",
     "output_type": "stream",
     "text": [
      "str1 60.33\n"
     ]
    },
    {
     "data": {
      "text/plain": [
       "'60.33'"
      ]
     },
     "execution_count": 61,
     "metadata": {},
     "output_type": "execute_result"
    }
   ],
   "source": [
    "expr1 = 2.342345+57.989789 #Any expression\n",
    "spec1 = '.2f'\n",
    "\n",
    "print(f'str1 {expr1:{spec1}}') # spec needs to be an expression and the trailing braces need to be close to each other.\n",
    "\n",
    "format(expr1, '.2f') # The above f-string is equivalent to this."
   ]
  },
  {
   "cell_type": "markdown",
   "metadata": {},
   "source": [
    "### f-string format\n",
    "`f '` `<text>` `{` `<expression>` `<optional !s, !r, or !a>` `<optional : format specifier>` `}`  `<text>` ...`'`\n",
    "\n",
    "1. The expression part is then formatter using the `__format__` pattern. \n",
    "2. Expressions cannot contain `:` or `;`. The exception is `!=` which is allowed as a special case.\n",
    "3. Backslash cannot be used inside the expression portion. It can be used in the string portion of the f-string"
   ]
  },
  {
   "cell_type": "code",
   "execution_count": 40,
   "metadata": {},
   "outputs": [
    {
     "name": "stdout",
     "output_type": "stream",
     "text": [
      "\" This is allowed \" \n"
     ]
    }
   ],
   "source": [
    "print(f'{\"\\\" This is allowed \\\" \"}') # as the backslash is part of the string portion of the expression.\n",
    "# f'{\\\"quoted string\\\"}' #This wont work as the backspash is ourside the string portion of the expression. "
   ]
  },
  {
   "cell_type": "markdown",
   "metadata": {},
   "source": [
    "4. The right way to have have a literal brace in the output is:"
   ]
  },
  {
   "cell_type": "code",
   "execution_count": 4,
   "metadata": {},
   "outputs": [
    {
     "name": "stdout",
     "output_type": "stream",
     "text": [
      "{ --2--}\n",
      "hey {\"name\"}, how are you?\n"
     ]
    }
   ],
   "source": [
    "print(f'{{ --{3-1}--}}') #The first pair  {{ produces a literal brace like the ending 2 }} produce the closing brace\n",
    "print(f'hey {{\"name\"}}, how are you?')"
   ]
  },
  {
   "cell_type": "markdown",
   "metadata": {},
   "source": [
    "5. Raw strings do not process escape sequence"
   ]
  },
  {
   "cell_type": "code",
   "execution_count": 45,
   "metadata": {},
   "outputs": [
    {
     "name": "stdout",
     "output_type": "stream",
     "text": [
      "This is a \\n raw string\n",
      "This not a \n",
      " raw string\n",
      "This is a raw 5 \\n expression\n",
      "This is not a raw 5 \n",
      " expression\n"
     ]
    }
   ],
   "source": [
    "print(r'This is a \\n raw string')\n",
    "print('This not a \\n raw string')\n",
    "\n",
    "print(fr'This is a raw {3+2} \\n expression')\n",
    "print(f\"This is not a raw {3+2} \\n expression\")"
   ]
  },
  {
   "cell_type": "markdown",
   "metadata": {},
   "source": [
    "6. Best is use `'''` when wanting to use quotes in the expression."
   ]
  },
  {
   "cell_type": "code",
   "execution_count": 46,
   "metadata": {},
   "outputs": [
    {
     "data": {
      "text/plain": [
       "\"This is a 3 'quote' string\""
      ]
     },
     "execution_count": 46,
     "metadata": {},
     "output_type": "execute_result"
    }
   ],
   "source": [
    "f'''This is a {3*1} 'quote' string'''"
   ]
  },
  {
   "cell_type": "markdown",
   "metadata": {},
   "source": [
    "7. Evaluation order of expressions is left to right"
   ]
  },
  {
   "cell_type": "code",
   "execution_count": 63,
   "metadata": {},
   "outputs": [
    {
     "data": {
      "text/plain": [
       "'[11]  [12]'"
      ]
     },
     "execution_count": 63,
     "metadata": {},
     "output_type": "execute_result"
    }
   ],
   "source": [
    "val = [10]\n",
    "def f(lst):\n",
    "    lst[0] += 1\n",
    "    return lst\n",
    "\n",
    "\n",
    "f'{f(val)}  {f(val)}'"
   ]
  },
  {
   "cell_type": "markdown",
   "metadata": {},
   "source": [
    "### Using Lambda in expression"
   ]
  },
  {
   "cell_type": "code",
   "execution_count": 66,
   "metadata": {},
   "outputs": [
    {
     "data": {
      "text/plain": [
       "'16'"
      ]
     },
     "execution_count": 66,
     "metadata": {},
     "output_type": "execute_result"
    }
   ],
   "source": [
    "f'{(lambda x: x**2)(4)}' #The lambda squares any value passed to it. And its invoked with 4"
   ]
  },
  {
   "cell_type": "markdown",
   "metadata": {},
   "source": [
    "Replacement Field {} Specification"
   ]
  },
  {
   "cell_type": "code",
   "execution_count": 6,
   "metadata": {},
   "outputs": [
    {
     "name": "stdout",
     "output_type": "stream",
     "text": [
      "Formatted number: 1234.57\n"
     ]
    }
   ],
   "source": [
    "value = 1234.56789\n",
    "formatted_value = f\"Formatted number: {value:.2f}\"  # Limit to 2 decimal places\n",
    "print(formatted_value)  # Output: Formatted number: 1234.57\n"
   ]
  },
  {
   "cell_type": "markdown",
   "metadata": {},
   "source": [
    "### Optional Conversion Operators:\n",
    "1. We can use `!` for making a quick conversion\n",
    "2. It causes type coercion before formatting (as specified with the “:” operator)\n",
    "3. !s - calls str(object) - user-friendly representation of the object\n",
    "4. Above is quitvalent to: `str(object)` -> `type(object).__str__(object)`.\n",
    "5. Ff type does not have `__str__()` then fallback is repr(object)\n",
    "6. !r - representation calls repr(). A string that can be eval(string) to get the object\n",
    "7. !a = calls ascii(). Same as repr() with all non-ascii characters escaped\n",
    "\n",
    "- They are entirely optional as we can write `str(object)` `repr(object)` and `ascii(object)` in the expression\n"
   ]
  },
  {
   "cell_type": "code",
   "execution_count": 7,
   "metadata": {},
   "outputs": [
    {
     "name": "stdout",
     "output_type": "stream",
     "text": [
      "repr of text: 'Hello\\nWorld'\n",
      "str of text: Hello\n",
      "World\n",
      "ascii of unicode_text: 'H\\xe9llo'\n"
     ]
    }
   ],
   "source": [
    "# Defining some variables\n",
    "text = \"Hello\\nWorld\"       # Contains a newline character\n",
    "unicode_text = \"Héllo\"      # Contains a non-ASCII character\n",
    "\n",
    "# Using !r to show the raw (debug) representation of the string\n",
    "print(f\"repr of text: {text!r}\")  # Output: 'Hello\\nWorld' (shows the newline escape sequence)\n",
    "\n",
    "# Using !s to show the regular string representation (default behavior)\n",
    "print(f\"str of text: {text!s}\")   # Output: Hello\n",
    "                                  #         World  (newline is printed)\n",
    "\n",
    "# Using !a to escape non-ASCII characters\n",
    "print(f\"ascii of unicode_text: {unicode_text!a}\")  # Output: 'H\\u00e9llo' (non-ASCII character é is escaped)\n"
   ]
  },
  {
   "cell_type": "markdown",
   "metadata": {},
   "source": [
    "### Format Specification\n",
    "format_spec ::= [[fill]align][sign][\"z\"][\"#\"][\"0\"][width][grouping_option]\n",
    "                [\".\" precision][type]\n",
    "\n",
    "fill        ::= lpad or rpad with any character except curly brace { or }\\\n",
    "align       ::= Left, right, center\\\n",
    "sign        ::= controls the sign of numbers\\\n",
    "'z'         ::= makes -0 floating point to +0 with format specification\\\n",
    "'#'         ::= controls alternate form  for conversion.\\\n",
    "'0'         ::= similar to fill char 0 and alignment =\\\n",
    "grouping    ::= '_' or ',' as thousand's separator\\\n",
    ".precision  ::= number of digits after decimal\\\n",
    "presentation type        ::= presentation type\\"
   ]
  },
  {
   "cell_type": "markdown",
   "metadata": {},
   "source": [
    "#### Fill, align, Sign, Width\n",
    "\n",
    "##### Fill\n",
    "1. Fill specifies a single character used to pad the expression left or right. \n",
    "2. The end string will be a minimum width of characters. \n",
    "3. Curly braces are not supported as fill characters directly. \n",
    "4. Nested fields can be used to overcome this limitation. \n",
    "5. If a fill character is provided then alignment is must\n",
    "\n",
    "\n",
    "##### Align\n",
    "1. `<` for left; `>` for right; `^` for center; `=` fill char between sign and expression\n",
    "\n",
    "#### Width\n",
    "1. The target width\n",
    "2. Unless this is specified and more that the width of the data to fill, align will have no meaning.\n",
    "\n",
    "#### Sign\n",
    "1. `+` indicates that a sign should be placed for both positive and negative numbers\n",
    "2. `-` indicates that the sign is placed for only negative numbers\n",
    "3. `space` leading `space` should be placed for positive and a minus sign for negative numbers."
   ]
  },
  {
   "cell_type": "code",
   "execution_count": 21,
   "metadata": {},
   "outputs": [
    {
     "name": "stdout",
     "output_type": "stream",
     "text": [
      "**-67.9***\n",
      "  -67.9   \n",
      "## 67.9###\n",
      "Simple string -------------------------Guido\n",
      "Number with sign -________________________89.78\n",
      "Bools are supported ~~~~~~~~~~~~~~+0~~~~~~~~~~~~~~\n"
     ]
    }
   ],
   "source": [
    "# Width 10; fill with #; align center. Filling starts from the right.\n",
    "print(f'{-67.9:*^10}') # the simplest example\n",
    "print(f\"{-67.9:^10}\")  # Default fill char is 'space'.\n",
    "print(f\"{67.9:#^ 10}\")  # the simplest example with sign. Note the leading space for the positive float.\n",
    "\n",
    "print(f'Simple string {\"Guido\":->30}')  # fill -; align right; width 30\n",
    "print(f\"Number with sign {-89.78:_=-30}\")  # puts - only for negative number\n",
    "print(f\"Bools are supported {False:~^+30}\")  # bool is integer 0-false or 1-true"
   ]
  },
  {
   "cell_type": "markdown",
   "metadata": {},
   "source": [
    "### Nested Fields\n",
    "1. Nested fields allow for providing dynamic format specifications. \n",
    "2. We can dynamically compute the format specification at runtime. \n",
    "3. Let's say that the fill char needs to come from a config file; therefore, we are unaware of it at compile time. "
   ]
  },
  {
   "cell_type": "code",
   "execution_count": 22,
   "metadata": {},
   "outputs": [
    {
     "name": "stdout",
     "output_type": "stream",
     "text": [
      "This number is left padded with dynamic fill char: {{{{{{{{{{{{{{{{{{{{{{{{{{{100\n",
      "All from config ---------------------------100\n"
     ]
    }
   ],
   "source": [
    "fillChar = '{' # as read from config file\n",
    "print(f'This number is left padded with dynamic fill char: {100:{fillChar}>30}')\n",
    "\n",
    "fillSpec = '->30' # fill, alignment and width all from config file\n",
    "print(f'All from config {100:{fillSpec}}')"
   ]
  },
  {
   "cell_type": "markdown",
   "metadata": {},
   "source": [
    "### Grouping Options\n",
    "1. This is used to specify thousands separator\n",
    "2. In the example below, the 'fill-align-width' sequence is not detected by Python\n",
    "3. The sign char is also not detected. \n",
    "4. '#' 'z' '0' are also not there.\n",
    "5. Since ',' and '_' are the only allowed separators and Python detects it. So thats what will be used."
   ]
  },
  {
   "cell_type": "code",
   "execution_count": 26,
   "metadata": {},
   "outputs": [
    {
     "name": "stdout",
     "output_type": "stream",
     "text": [
      "1_000_000\n"
     ]
    }
   ],
   "source": [
    "value = 1000000\n",
    "print(f\"{value:_}\")  # Comma cannot \n"
   ]
  },
  {
   "cell_type": "markdown",
   "metadata": {},
   "source": [
    "### The 0 (Zero) Character\n",
    "1. When no explicit alignment is specified, preceding with width with ‘0’ zero character enables sign-aware zero padding. \n",
    "2. Same as fill ‘0’ and alignment ‘=’\n",
    "3. This is a very handy shorthand as can be seen below."
   ]
  },
  {
   "cell_type": "code",
   "execution_count": 7,
   "metadata": {},
   "outputs": [
    {
     "name": "stdout",
     "output_type": "stream",
     "text": [
      "With zero: 00042\n",
      "Without zero: 00042\n",
      "With zero: -000045.01\n",
      "With zero: -000045.01\n"
     ]
    }
   ],
   "source": [
    "print(f\"With zero: {42:05}\")  # make the width 5, use 0 for padding, apply padding between sign and number.\n",
    "# 42:05 specifies:\n",
    "#  - 0 is used as a padding character.\n",
    "#  - 5 is the total width of the formatted number, which means the output will be at least 5 characters wide.\n",
    "\n",
    "\n",
    "print(f\"Without zero: {42:0=-5}\")\n",
    "# {42:0=-5} is a less common and more explicit format.\n",
    "# 0 as the first character indicates zero-padding.\n",
    "# = specifies that the padding should come between the sign (if any) and the digits.\n",
    "# -5 sets the width to 5, with padding applied between the negative sign (if applicable) and the number.\n",
    "\n",
    "\n",
    "print(f'With zero: {-45.01:010}')\n",
    "# -45.01:010 specifies:\n",
    "# 0 for zero-padding.\n",
    "# 10 is the total width of the formatted number.\n",
    "\n",
    "\n",
    "print(f\"With zero: {-45.01:0=-10}\") \n",
    "# 0 for zero-padding.\n",
    "# = to indicate where the padding should be applied, which is between the sign and the digits.\n",
    "# -10 to specify the total width."
   ]
  },
  {
   "cell_type": "markdown",
   "metadata": {},
   "source": [
    "### Presentation Types & the Character #\n",
    "1. Python used “alternate form” and converts the provided number to it.\n",
    "2. The alternate form is defined differently for different types. \n",
    "3. This option is only valid for integer, float and complex types. \n",
    "4. Integers: when binary [b], octal [o], hexadecimal [x], decimal [d] output is used, this option adds the respective prefix '0b', '0o', '0x', or '0X' to the output value. \n",
    "\n",
    "For float and complex the alternate form causes the result of the conversion to always contain a decimal-point character, even if no digits follow it. Normally, a decimal-point character appears in the result of these conversions only if a digit follows it. In addition, for 'g' and 'G' conversions, trailing zeros are not removed from the result."
   ]
  },
  {
   "cell_type": "code",
   "execution_count": 40,
   "metadata": {},
   "outputs": [
    {
     "name": "stdout",
     "output_type": "stream",
     "text": [
      "0o377\n",
      "171\n",
      "0XD\n"
     ]
    }
   ],
   "source": [
    "# Decimal and hexadecimal\n",
    "print(f\"{255:#o}\")   # Input is a decimal 255. Output: is in octal\n",
    "print(f\"{0xAB:#d}\")  # Input is hex AB. Output is in decimal\n",
    "print(f'{0b1101:#X}') # Input binary 1101. Output is in uppercase hex\n"
   ]
  },
  {
   "cell_type": "markdown",
   "metadata": {},
   "source": [
    "### Presentation with floats\n",
    "1. Formatting in floats"
   ]
  },
  {
   "cell_type": "code",
   "execution_count": 86,
   "metadata": {},
   "outputs": [
    {
     "name": "stdout",
     "output_type": "stream",
     "text": [
      "1.210000e+02\n",
      "121.230000\n",
      "121.2\n",
      "121.\n",
      "121\n",
      "1.23e+03\n",
      "1.22e+01\n",
      "1232.\n",
      "1.232e+03\n",
      "34.00%\n"
     ]
    }
   ],
   "source": [
    "print(f'{121:#e}') # represent 100 with e\n",
    "print(f'{121.23:#f}') # uses default precision of 6\n",
    "print(f\"{121.23:#.1f}\")  # uses 1 char post decimal\n",
    "print(f\"{121.23:#.0f}\")  # uses retains the decimal\n",
    "print(f\"{121.23:.0f}\")  # Without # gets rid of the decimal.\n",
    "\n",
    "\n",
    "#The g format specifier is for \"general\" format, which chooses either fixed-point or scientific notation based on the value.\n",
    "# It uses condition -4 < exponent < p\n",
    "print(f\"{1232.2:#.3g}\")  # Since the value 1232.2 has an exponent of 3, \n",
    "# the condition -4 < 3 < 3 is False. Therefore, it is formatted in scientific notation.\n",
    "print(f\"{1232.2:#.2e}\")\n",
    "\n",
    "\n",
    "\n",
    "print(f\"{1232.2:#.4g}\")  # g with p = 3; exp=3\n",
    "# Since -4 < 3 < 4 is True, the number is formatted in fixed-point notation.\n",
    "print(f\"{1232.2:#.3e}\") \n",
    "\n",
    "print(f'{.34:#.2%}') # Converts to percent with the number of decimal places."
   ]
  },
  {
   "cell_type": "markdown",
   "metadata": {},
   "source": [
    "### Template Strings\n",
    "1. Provides a mechanism for string sunstitution.\n",
    "2. Primary use case for template string for internationalization."
   ]
  },
  {
   "cell_type": "code",
   "execution_count": 93,
   "metadata": {},
   "outputs": [
    {
     "name": "stdout",
     "output_type": "stream",
     "text": [
      "Guido is wishing Robert a great day!\n",
      "Guido is wishing Dict a great day!\n"
     ]
    }
   ],
   "source": [
    "from string import Template\n",
    "\n",
    "# Simple example.\n",
    "s = Template('$name is wishing $guest a great day!')\n",
    "print(s.substitute(name = 'Guido', guest='Robert'))\n",
    "\n",
    "# Values can be porvided by dict also\n",
    "d = dict(name='Guido', guest='Dict')\n",
    "print(s.substitute(d))\n",
    "\n"
   ]
  }
 ],
 "metadata": {
  "kernelspec": {
   "display_name": "Python 3",
   "language": "python",
   "name": "python3"
  },
  "language_info": {
   "codemirror_mode": {
    "name": "ipython",
    "version": 3
   },
   "file_extension": ".py",
   "mimetype": "text/x-python",
   "name": "python",
   "nbconvert_exporter": "python",
   "pygments_lexer": "ipython3",
   "version": "3.12.1"
  }
 },
 "nbformat": 4,
 "nbformat_minor": 2
}
