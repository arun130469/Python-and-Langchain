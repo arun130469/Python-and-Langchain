{
 "cells": [
  {
   "cell_type": "markdown",
   "metadata": {},
   "source": [
    "#### Handling Exception"
   ]
  },
  {
   "cell_type": "markdown",
   "metadata": {},
   "source": [
    "In Python, exceptions are handled using try, except, and optionally else and finally blocks."
   ]
  },
  {
   "cell_type": "code",
   "execution_count": 1,
   "metadata": {},
   "outputs": [
    {
     "name": "stdout",
     "output_type": "stream",
     "text": [
      "Cannot divide by zero!\n"
     ]
    }
   ],
   "source": [
    "try:\n",
    "    result = 10 / 0  # This will raise a ZeroDivisionError\n",
    "except ZeroDivisionError:\n",
    "    print(\"Cannot divide by zero!\")\n"
   ]
  },
  {
   "cell_type": "markdown",
   "metadata": {},
   "source": [
    "#### Getting the Instance of the Exception\n",
    "You can capture the instance of the exception object when handling it using except ExceptionType as e."
   ]
  },
  {
   "cell_type": "code",
   "execution_count": 2,
   "metadata": {},
   "outputs": [
    {
     "name": "stdout",
     "output_type": "stream",
     "text": [
      "Exception caught: division by zero\n"
     ]
    }
   ],
   "source": [
    "try:\n",
    "    result = 10 / 0\n",
    "except ZeroDivisionError as e:\n",
    "    print(f\"Exception caught: {e}\")  # e holds the exception instance\n"
   ]
  },
  {
   "cell_type": "markdown",
   "metadata": {},
   "source": [
    "#### Raising Exceptions\n",
    "You can manually raise an exception using the raise keyword. This is useful for signaling an error in your code when certain conditions are met."
   ]
  },
  {
   "cell_type": "code",
   "execution_count": 3,
   "metadata": {},
   "outputs": [
    {
     "name": "stdout",
     "output_type": "stream",
     "text": [
      "Raised exception: Number must be positive!\n"
     ]
    }
   ],
   "source": [
    "def check_positive(number):\n",
    "    if number < 0:\n",
    "        raise ValueError(\"Number must be positive!\")\n",
    "    return number\n",
    "\n",
    "try:\n",
    "    check_positive(-10)\n",
    "except ValueError as e:\n",
    "    print(f\"Raised exception: {e}\")\n"
   ]
  },
  {
   "cell_type": "markdown",
   "metadata": {},
   "source": [
    "#### Another Way to Get the Instance of the Exception\n",
    "You can also retrieve the exception instance using the sys module, specifically sys.exc_info(), which returns a tuple containing the exception type, the exception instance, and a traceback object."
   ]
  },
  {
   "cell_type": "code",
   "execution_count": 5,
   "metadata": {},
   "outputs": [
    {
     "name": "stdout",
     "output_type": "stream",
     "text": [
      "Exception Type: <class 'ZeroDivisionError'>\n",
      "Exception Instance: division by zero\n",
      "Exception Traceback: <traceback object at 0x73d8c2c551c0>\n"
     ]
    }
   ],
   "source": [
    "import sys\n",
    "\n",
    "try:\n",
    "    result = 10 / 0\n",
    "except ZeroDivisionError:\n",
    "    exc_type, exc_value, exc_traceback = sys.exc_info()\n",
    "    print(f\"Exception Type: {exc_type}\")\n",
    "    print(f\"Exception Instance: {exc_value}\")\n",
    "    print(f\"Exception Traceback: {exc_traceback}\")\n"
   ]
  },
  {
   "cell_type": "markdown",
   "metadata": {},
   "source": [
    "#### Nesting Try-Except Blocks\n",
    "You can nest try-except blocks to handle exceptions at multiple levels. This allows you to catch exceptions at different stages of the code."
   ]
  },
  {
   "cell_type": "code",
   "execution_count": 6,
   "metadata": {},
   "outputs": [
    {
     "name": "stdout",
     "output_type": "stream",
     "text": [
      "Inner exception: [Errno 2] No such file or directory: 'non_existent_file.txt'\n",
      "Outer exception: [Errno 2] No such file or directory: 'non_existent_file.txt'\n"
     ]
    }
   ],
   "source": [
    "try:\n",
    "    try:\n",
    "        file = open(\"non_existent_file.txt\", \"r\")\n",
    "    except FileNotFoundError as e:\n",
    "        print(f\"Inner exception: {e}\")\n",
    "        raise  # Re-raises the exception to the outer block\n",
    "except Exception as e:\n",
    "    print(f\"Outer exception: {e}\")\n"
   ]
  },
  {
   "cell_type": "markdown",
   "metadata": {},
   "source": [
    "#### Try-Except-Else\n",
    "The else block is executed only if no exceptions are raised in the try block. This is useful for separating the code that runs when no errors occur from the error-handling code."
   ]
  },
  {
   "cell_type": "code",
   "execution_count": 7,
   "metadata": {},
   "outputs": [
    {
     "name": "stdout",
     "output_type": "stream",
     "text": [
      "No exceptions occurred. Result: 5.0\n"
     ]
    }
   ],
   "source": [
    "try:\n",
    "    result = 10 / 2\n",
    "except ZeroDivisionError:\n",
    "    print(\"Division by zero!\")\n",
    "else:\n",
    "    print(\"No exceptions occurred. Result:\", result)  # This runs if no exception is raised\n"
   ]
  },
  {
   "cell_type": "markdown",
   "metadata": {},
   "source": [
    "#### User Defined Exceptions\n",
    "You can create your own custom exceptions by subclassing the built-in Exception class. This allows you to raise and catch exceptions that are specific to your application."
   ]
  },
  {
   "cell_type": "code",
   "execution_count": 8,
   "metadata": {},
   "outputs": [
    {
     "name": "stdout",
     "output_type": "stream",
     "text": [
      "User-defined exception caught: Negative numbers are not allowed!\n"
     ]
    }
   ],
   "source": [
    "class NegativeNumberError(Exception):\n",
    "    pass\n",
    "\n",
    "def check_positive(number):\n",
    "    if number < 0:\n",
    "        raise NegativeNumberError(\"Negative numbers are not allowed!\")\n",
    "    return number\n",
    "\n",
    "try:\n",
    "    check_positive(-5)\n",
    "except NegativeNumberError as e:\n",
    "    print(f\"User-defined exception caught: {e}\")\n"
   ]
  },
  {
   "cell_type": "markdown",
   "metadata": {},
   "source": [
    "#### The Finally Block\n",
    "The finally block is always executed, whether an exception is raised or not. This is useful for performing cleanup actions (like closing a file or releasing resources) after a try block."
   ]
  },
  {
   "cell_type": "code",
   "execution_count": 10,
   "metadata": {},
   "outputs": [
    {
     "name": "stdout",
     "output_type": "stream",
     "text": [
      "Cleaning up...\n"
     ]
    }
   ],
   "source": [
    "try:\n",
    "    file = open(\"../../README.md\", \"r\")\n",
    "    data = file.read()\n",
    "except FileNotFoundError as e:\n",
    "    print(f\"Error: {e}\")\n",
    "finally:\n",
    "    print(\"Cleaning up...\")\n",
    "    file.close()  # This will always run, even if an exception occurs\n"
   ]
  }
 ],
 "metadata": {
  "kernelspec": {
   "display_name": "Python 3",
   "language": "python",
   "name": "python3"
  },
  "language_info": {
   "codemirror_mode": {
    "name": "ipython",
    "version": 3
   },
   "file_extension": ".py",
   "mimetype": "text/x-python",
   "name": "python",
   "nbconvert_exporter": "python",
   "pygments_lexer": "ipython3",
   "version": "3.12.1"
  }
 },
 "nbformat": 4,
 "nbformat_minor": 2
}
