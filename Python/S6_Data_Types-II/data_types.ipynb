{
 "cells": [
  {
   "cell_type": "markdown",
   "metadata": {},
   "source": [
    "# Sequences\n",
    "1. Sequences are finite - means they contain a finite number of elements\n",
    "2. Sequences are ordered - means the order of elements in the set is maintained and individual elements can be accessed by their index\n",
    "3. The index is non-negative - means a positive integer\n",
    "4. The index usually begins with `0` and goes upto `n-1` where `n` is the number of elements in the sequence\n",
    "5. Built-in function `len()` gives the number of elements in the sequence\n",
    "6. Sequence supports slicing/substring in the form `seq[i:j:k]` which means start from `i-th` element (included); until the `j-th` element (non-included); and pick every `k-th` element in this range.\n",
    "7. This can be represented by: `x = i + n*k`, `n>=0` and `i <= x < j`\n",
    "8. Here `x` is the index of the element in the original sequence `seq`\n",
    "9. And `n` is the index of the element of in sliced sequence `sliced`\n",
    "10. So assume that `seq` has 20 elements and we need a sliced sequence from `8th` element to `18th` with a step of `2`.\n",
    "11. Then `i=8` and `j=18` and `k=2`\n",
    "12. The formula on like 7 means - to get the first element `x` is `i + n*k` = `8 + 0*2` => 8; the eight element finds its place in `sliced` sequence\n",
    "13. Similarly the second element is: `8 + 1*2` => 10; The 10th element from seq finds its place in slided."
   ]
  },
  {
   "cell_type": "markdown",
   "metadata": {},
   "source": [
    "## Immutable Sequence\n",
    "1. A sequence that cannot be altered after its created. \n",
    "2. Its possible that a sequence contains reference to objects that are mutable\n",
    "3. In this case we can say that the reference to the object will NOT change.\n",
    "4. For example: the address of an apartment does not change, its tenants however can change.\n",
    "5. Thus the physical addresses of apartments in an apartment complex are immutable, while individual apartments may contain mutable tenants.\n",
    "\n",
    "### There are 3 types of immutable sequences\n",
    "1. Strings\n",
    "2. Bytes\n",
    "3. Tuples\n",
    "\n",
    "- We have already seen String and bytes. Lets see Tuples"
   ]
  },
  {
   "cell_type": "markdown",
   "metadata": {},
   "source": [
    "## Tuples\n",
    "1. Lets say you want to store co-ordinates of a point; or an identifier like a person's name, dob and income.\n",
    "2. In such cases tuples are useful\n",
    "3. Tuple can contain any Python object.\n",
    "4. The objects need not be of the same kind - heterogeneous\n",
    "5. Duplicates are allowed.\n",
    "6. Since they are immutable the `__sizeof__()` will not change even if the mutable object references that it contains change.\n",
    "7. The memory allocation of mutable elements is managed separately\n",
    "8. Immutable objects like strings, tuples, ints, floats, bytes, bool are hashable and therefore can be used as keys in a mapping\n",
    "9. You can get any element of the tuple using its index.\n",
    "10. More here: https://techblogs.cloudlex.com/essential-python-v-94e3d40bcc21\n",
    "\n",
    "`tuple` ::= `()` | `(expression,)` | `(expression,expression,...)` | `tuple(expression, expression...)`\n",
    "\n",
    "1. The function `tuple(iterable)` takes any iterable and converts it into a tuple\n",
    "\n"
   ]
  },
  {
   "cell_type": "code",
   "execution_count": 73,
   "metadata": {},
   "outputs": [
    {
     "name": "stdout",
     "output_type": "stream",
     "text": [
      "() ()\n",
      "([1, 2, 3], ['a', 'b', 'c'], 1, 'Guido', 1)\n",
      "tuple((1,2,3,4,5)).__sizeof__()=64 ([1,2,3], ['a','b','c'], 1, 'Guido', 1).__sizeof__()=64\n",
      "(1,2,3)[1]=2\n"
     ]
    }
   ],
   "source": [
    "# Empty Tuple\n",
    "tup = tuple() # creates an empty tuple\n",
    "print(tup, ()) # both are ways to create an empty tuple\n",
    "\n",
    "# Tuple from a list\n",
    "print(([1,2,3], ['a','b','c'], 1, 'Guido', 1)) # tuple of 4 elements with hetrogenous elements. The element 1 is duplicated also\n",
    "\n",
    "# Size taken by tuple of 5 elements\n",
    "print(\n",
    "    f\"{tuple((1,2,3,4,5)).__sizeof__()=} {([1,2,3], ['a','b','c'], 1, 'Guido', 1).__sizeof__()=}\"\n",
    ")\n",
    "\n",
    "# Get an element from a tuple\n",
    "print(f'{(1,2,3)[1]=}') # get the eleemnt at index 1 from the 3 element tuple."
   ]
  },
  {
   "cell_type": "markdown",
   "metadata": {},
   "source": [
    "1. We can see that a 2 tuples that contain the same number of elements take the same amount of memory\n",
    "2. Because internally the tuple object simply stores pointers to its elements."
   ]
  },
  {
   "cell_type": "code",
   "execution_count": 41,
   "metadata": {},
   "outputs": [
    {
     "name": "stdout",
     "output_type": "stream",
     "text": [
      "(7, 12)\n",
      "(1, True, False, False)\n",
      "(1,) <class 'tuple'>\n"
     ]
    }
   ],
   "source": [
    "# Expressions can be used\n",
    "t = (4+3,5+7)\n",
    "print(t)\n",
    "\n",
    "# Bools can be used\n",
    "t = (1, True, False, False)\n",
    "print(t)\n",
    "\n",
    "# You dont need to have parenthesis. Its called packing a tuple\n",
    "t = 1,\n",
    "print(t, type(t))\n"
   ]
  },
  {
   "cell_type": "markdown",
   "metadata": {},
   "source": [
    "### Packing and Unpacking\n",
    "1. We can pack an arbitary comma separated objects into a tuple \n",
    "2. And similarly we can do the reverse also - unpack\n",
    "3. While unpacking the number of variables and elements in the tuple should match exactly"
   ]
  },
  {
   "cell_type": "code",
   "execution_count": 54,
   "metadata": {},
   "outputs": [
    {
     "name": "stdout",
     "output_type": "stream",
     "text": [
      "(1, 'Guido', ValueError(1), ['a', 5], {'k': 'val'}) <class 'tuple'>\n",
      "Element 1: 1 Type: <class 'int'>,\n",
      "Element 2: Guido Type: <class 'str'>,\n",
      "Element 3: 1 Type: <class 'ValueError'>,\n",
      "Element 4: ['a', 5] Type: <class 'list'>,\n",
      "Element 1: {'k': 'val'} Type: <class 'dict'>,\n",
      "\n"
     ]
    }
   ],
   "source": [
    "# Packing a tuple\n",
    "\n",
    "t = 1, 'Guido', ValueError(1), ['a',5], {'k':'val'}\n",
    "print(t, type(t))\n",
    "\n",
    "# Unpacking\n",
    "\n",
    "v1, v2, v3,v4,v5 = t\n",
    "print(\n",
    "    f\"Element 1: {v1} Type: {type(v1)},\\n\\\n",
    "Element 2: {v2} Type: {type(v2)},\\n\\\n",
    "Element 3: {v3} Type: {type(v3)},\\n\\\n",
    "Element 4: {v4} Type: {type(v4)},\\n\\\n",
    "Element 1: {v5} Type: {type(v5)},\\n\"\n",
    ")\n",
    "\n"
   ]
  },
  {
   "cell_type": "markdown",
   "metadata": {},
   "source": [
    "### Slicing a tuple\n",
    "1. As discussed it takes form t[i:j:k]\n",
    "2. All of them can be negative - in which case the counting starts from the end."
   ]
  },
  {
   "cell_type": "code",
   "execution_count": 58,
   "metadata": {},
   "outputs": [
    {
     "name": "stdout",
     "output_type": "stream",
     "text": [
      "(3, 4)\n",
      "(3, 4)\n"
     ]
    }
   ],
   "source": [
    "t = 1,2,3,4,5 # creates a tuple. Elements begin at index 0\n",
    "print(t[2:4]) # from 2nd element included to 4th element not included and default step +1.\n",
    "\n",
    "print(t[-3:-1]) # start from -3rd element and go upto -1 element with a default step of +1\n",
    "\n",
    "\n",
    "# Lets understand this\n",
    "#Elements       1   2   3   4   5\n",
    "# `+ve indices  0   1   2   3   4\n",
    "# `-ve indices -5  -4  -3  -2  -1\n",
    "\n",
    "# Therefore -3 (included) to -1 (excluded) = 3,4\n"
   ]
  },
  {
   "cell_type": "markdown",
   "metadata": {},
   "source": [
    "### The last option - step\n",
    "1. The step too can be -ve\n",
    "2. So the process is first identify the starting point (included). Represent this by its normal left to right positive index\n",
    "3. Next get the end point - again refer to by its +ve left to right index. \n",
    "4. So now both start and end are positive 0 based indexes even though we started with -ve.\n",
    "5. Now move from start to end by the step. If step is positive move from left to right else reverse.\n",
    "5. Special condition - when start == end\n",
    "6. Special condition - when start > end\n"
   ]
  },
  {
   "cell_type": "code",
   "execution_count": 24,
   "metadata": {},
   "outputs": [
    {
     "name": "stdout",
     "output_type": "stream",
     "text": [
      "t[2:2]=()\n",
      "t[3:2]=()\n",
      "\n",
      "t[-3:4]=(3, 4)\n",
      "t[-3:4:5]=(3,)\n",
      "t[-1:-4:-1]=(5, 4, 3)\n"
     ]
    }
   ],
   "source": [
    "# +ve start end and step\n",
    "t = 1,2,3,4,5\n",
    "print(f'{t[2:2]=}') # start = end. Since end cannot be included its empty\n",
    "print(f'{t[3:2]=}') # As expected empty\n",
    "print()\n",
    "\n",
    "# `-ve` start, +ve end + step\n",
    "\n",
    "# `-3 becomes index 2 in the normal l-f world; 4 stays 4; step 1. \n",
    "print(f'{t[-3:4]=}') # Means elements at index 2,3 => 3,4\n",
    "\n",
    "# `-3 becomes index 2; index 4 stays 4; step is 5. So first element index 2 + 0*5 = 2, second element index is 2 + 1*5 = 7 which does not exist\n",
    "print(f\"{t[-3:4:5]=}\") # Means eleemnts at index 2 => 3\n",
    "\n",
    "# `-1 becomes 4; -4 becomes index 1; so we start from index 4 and move r-l by 1\n",
    "# First [0] element index:  4 + 0*(-1) => 4 Value of index 4: 5 - the first element of result tuple\n",
    "# Second [1] element index: 4 + 1*(-1) => 3 Value of index 3: 4 - the second element of result tuple\n",
    "# Third [2] element index:  4 + 2*(-1) => 2 Value of index 2: 3 - the third element of the result tuple\n",
    "# Fourth [3] element index: 4 + 3*(-1) => 1 Now since this is the end index we cannot include it.\n",
    "print(f'{t[-1:-4:-1]=}')"
   ]
  },
  {
   "cell_type": "markdown",
   "metadata": {},
   "source": [
    "### Default values of start and end\n",
    "1. Both start and end are also optional. By defualt start is `0` and end is `n-1` if step is positive\n",
    "2. If step -ve then start `n-1` and end `0`"
   ]
  },
  {
   "cell_type": "code",
   "execution_count": 69,
   "metadata": {},
   "outputs": [
    {
     "name": "stdout",
     "output_type": "stream",
     "text": [
      "t[::]=(1, 2, 3, 4, 5)\n",
      "t[::-1]=(5, 4, 3, 2, 1)\n"
     ]
    }
   ],
   "source": [
    "t = 1, 2, 3, 4, 5\n",
    "\n",
    "#Step 1\n",
    "print(f'{t[::]=}') # start 0; end 5-1 = 4; step 1\n",
    "#Step -1\n",
    "print(f\"{t[::-1]=}\") # Will start from the end of the array to the beginning. Effectively reversing it."
   ]
  },
  {
   "cell_type": "markdown",
   "metadata": {},
   "source": [
    "### Functions can return tuples\n",
    "1. Can be very useful when you want to return more than 1 value that are co-related."
   ]
  },
  {
   "cell_type": "code",
   "execution_count": 2,
   "metadata": {},
   "outputs": [
    {
     "name": "stdout",
     "output_type": "stream",
     "text": [
      "(8, 2)\n"
     ]
    }
   ],
   "source": [
    "# Returning a Tuple from a Function\n",
    "def calculate(a, b):\n",
    "    return a + b, a - b  # Returns a tuple\n",
    "\n",
    "result = calculate(5, 3)\n",
    "print(result)  # (8, 2)\n"
   ]
  },
  {
   "cell_type": "code",
   "execution_count": 3,
   "metadata": {},
   "outputs": [
    {
     "name": "stdout",
     "output_type": "stream",
     "text": [
      "True\n"
     ]
    }
   ],
   "source": [
    "# Copying a Tuple\n",
    "\n",
    "original_tuple = (1, 2, 3)\n",
    "copied_tuple = original_tuple\n",
    "print(copied_tuple is original_tuple)  # True, both point to the same object\n"
   ]
  },
  {
   "cell_type": "code",
   "execution_count": 5,
   "metadata": {},
   "outputs": [
    {
     "name": "stdout",
     "output_type": "stream",
     "text": [
      "True\n"
     ]
    }
   ],
   "source": [
    "# Comparing Tuples\n",
    "tuple1 = (1, 2, 3)\n",
    "tuple2 = (1, 2, 4)\n",
    "print(tuple1 < tuple2)  # True, because 3 < 4\n"
   ]
  },
  {
   "cell_type": "code",
   "execution_count": 6,
   "metadata": {},
   "outputs": [
    {
     "name": "stdout",
     "output_type": "stream",
     "text": [
      "Forward looping the tuple\n",
      "1\n",
      "2\n",
      "3\n",
      "Reverse looping the tuple\n",
      "3\n",
      "2\n",
      "1\n"
     ]
    }
   ],
   "source": [
    "# Looping through a Tuple\n",
    "my_tuple = (1, 2, 3)\n",
    "print('Forward looping the tuple')\n",
    "for value in my_tuple:\n",
    "    print(value)\n",
    "print('Reverse looping the tuple')\n",
    "for value in my_tuple[::-1]:\n",
    "    print(value)\n",
    "\n"
   ]
  },
  {
   "cell_type": "markdown",
   "metadata": {},
   "source": [
    "### Sorting a tuple\n",
    "1. We can use the sorted function to sort a sequence.\n",
    "2. In fact sorted function takes an iterable and sorts it ascending.\n",
    "3. We can optionally provide a flag for reverse sorting.\n",
    "4. We can also specify the sorting key for complex objects."
   ]
  },
  {
   "cell_type": "code",
   "execution_count": 93,
   "metadata": {},
   "outputs": [
    {
     "name": "stdout",
     "output_type": "stream",
     "text": [
      "sorted(t)=[2, 3, 5]\n",
      "sorted(s)=['g', 'i', 'n', 'r', 's', 't']\n",
      "sorted(t, reverse=1)=[5, 3, 2]\n",
      "[(8, 98), (23, 45), (34, 8)]\n"
     ]
    }
   ],
   "source": [
    "t = 3,2,5\n",
    "\n",
    "# Sorting the tuple ascending\n",
    "print(f'{sorted(t)=}')\n",
    "\n",
    "s = 'string'\n",
    "\n",
    "# sorting the string\n",
    "print(f'{sorted(s)=}')\n",
    "\n",
    "# reverse sorting\n",
    "print(f'{sorted(t, reverse=1)=}')\n",
    "\n",
    "# Using a key to sort tuples of x,y co-ordinates\n",
    "coords = ((23,45),(34,8),(8,98)) # the form is ((x1,y1),(x2,y2)...)\n",
    "print(f'{sorted(coords, key = lambda coord: coord[0])}') # sorting by the x-cooordinate."
   ]
  },
  {
   "cell_type": "markdown",
   "metadata": {},
   "source": [
    "### Tuple methods\n",
    "1. count(x) - returns the number of occurances of x\n",
    "2. index(n[,p]) - get the nth index of the element optionally starting from index p."
   ]
  },
  {
   "cell_type": "code",
   "execution_count": 82,
   "metadata": {},
   "outputs": [
    {
     "name": "stdout",
     "output_type": "stream",
     "text": [
      "coords.count((23,45))=2\n",
      "coords.count((23,46))=0\n",
      "coords.index((23,45), 1)=3\n"
     ]
    }
   ],
   "source": [
    "coords = ((23, 45), (34, 8), (8, 98), (23,45))\n",
    "print(f'{coords.count((23,45))=}') # number of occurances of (23,45)\n",
    "print(f\"{coords.count((23,46))=}\") # 0\n",
    "\n",
    "print(f'{coords.index((23,45), 1)=}') # index of (23,45) starting from index 1; second element."
   ]
  },
  {
   "cell_type": "markdown",
   "metadata": {},
   "source": [
    "## Mutable Sequence\n",
    "1. They can be changed after they are created - means elements replaced, added and removed.\n",
    "2. The index and slice notations can be used for mutation and `del()` to remove items.\n",
    "3. There are 2 intrinsic ones: List and ByteArray\n"
   ]
  },
  {
   "cell_type": "markdown",
   "metadata": {},
   "source": [
    "### List\n",
    "1. Ordered list of hetrogenous objects. \n",
    "2. Since they are mutable - they are not hashable and cannot be used as keys in a dict for example.\n",
    "3. More here: https://medium.com/azure-monitor-from-a-programmers-perspective/essential-python-2-493165b1f478\n",
    "4. Unlike tuples - they are represented as `pointer-to-pointer-to-value` to support mutability in an efficient manner."
   ]
  },
  {
   "cell_type": "code",
   "execution_count": 91,
   "metadata": {},
   "outputs": [
    {
     "name": "stdout",
     "output_type": "stream",
     "text": [
      "sorted(lst)=[1, 2, 3, 5], <class 'list'>\n",
      "[(1, 2), [10, 3], (2, 3)]\n",
      "[[10, 3], (2, 3)]\n"
     ]
    }
   ],
   "source": [
    "# A random list\n",
    "lst = [5,1,2,3]\n",
    "print(f'{sorted(lst)=}, {type(lst)}')\n",
    "\n",
    "# a hetrogenous list.\n",
    "lst = [\n",
    "    [10, 3], (2, 3),\n",
    "    (1, 2)\n",
    "]\n",
    "print(\n",
    "    f\"{sorted(lst, key=lambda coord: coord[1])}\"\n",
    ")  # each element should be subscriptable\n",
    "\n",
    "print(f'{lst[:2]}') # slice the first 2 elements.\n"
   ]
  },
  {
   "cell_type": "markdown",
   "metadata": {},
   "source": [
    "### List functions\n",
    "#### Mutating methods\n",
    "1. append(x) - to add x to list\n",
    "2. extend(iter) - to add iterable iter to the list\n",
    "3. insert(i,x) - insert x at index i\n",
    "4. remove(x) - remove first element with value x\n",
    "5. pop(i) - remove the last element or the element at the optional i index if supplied.\n",
    "6. clear() - remove all items from the list.\n",
    "7. del = to delete an element or slice of elements from the list.\n",
    "8. sort(key=callable, reverse=True|False) - for sorting like sorted.\n",
    "\n",
    "#### Non-mutating methods\n",
    "1. index(x [, start [, end]]) - Search and return the first index of the element x, optionally between the index range if supplied.\n",
    "2. count(x) - the number of times x occurs in list.\n",
    "3. reverse() - to reverse the list.\n"
   ]
  },
  {
   "cell_type": "code",
   "execution_count": 104,
   "metadata": {},
   "outputs": [
    {
     "name": "stdout",
     "output_type": "stream",
     "text": [
      "lst=[1, 2, 3, 4]\n",
      "lst=[1, 2, 3, 4, 5, 6]\n",
      "lst=[1, 2, 3, 4, 5, 6, 'k1', 'k2']\n",
      "lst=[1, 2, 3, 4, 5, 6, 'k1', 'k2', 9, 10]\n",
      "lst=[1, 2, 3, 4, 5, 6, 'k1', 'k2', 9, (11,)]\n",
      "lst=[(12,), 2, 3, 4, 5, 6, 'k1', 'k2', 9, (11,)]\n"
     ]
    }
   ],
   "source": [
    "# append and extend and insert\n",
    "lst = [1,2,3]\n",
    "lst.append(4)\n",
    "print(f'{lst=}')\n",
    "\n",
    "lst.extend([5,6])\n",
    "print(f\"{lst=}\")\n",
    "\n",
    "lst[len(lst):] = {'k1':7,'k2':8} # placing a dict at the end of the list - like extending\n",
    "print(f\"{lst=}\") # since we are extending - it converts the dict to list by takng only the keys\n",
    "\n",
    "lst[len(lst):] = (9,10) # Now the tuple will be converted to list\n",
    "print(f\"{lst=}\")\n",
    "\n",
    "lst[len(lst)-1] = (11,) # Since we are now not using slice notation it will insert a tuple\n",
    "print(f\"{lst=}\")\n",
    "\n",
    "lst[0] = (12,) #print(f\"{lst=}\") will insert tuple at the beginning\n",
    "print(f\"{lst=}\")"
   ]
  },
  {
   "cell_type": "code",
   "execution_count": 6,
   "metadata": {},
   "outputs": [
    {
     "name": "stdout",
     "output_type": "stream",
     "text": [
      "lst=['jack', 'harry']\n",
      "lst=[1, 2]\n",
      "lst=[]\n"
     ]
    }
   ],
   "source": [
    "# remove, pop, clear\n",
    "\n",
    "lst = [\"tom\", \"jack\", \"harry\"]\n",
    "lst.remove(\"Tom\".lower())\n",
    "print(f'{lst=}')\n",
    "\n",
    "lst = [1, 2, 3]\n",
    "lst.pop() # remove last element\n",
    "print(f\"{lst=}\")\n",
    "\n",
    "lst = [1, 2, 3]\n",
    "lst.clear()\n",
    "print(f\"{lst=}\")"
   ]
  },
  {
   "cell_type": "code",
   "execution_count": 124,
   "metadata": {},
   "outputs": [
    {
     "name": "stdout",
     "output_type": "stream",
     "text": [
      "lst.index(1)=0\n",
      "lst.index(1,1)=4\n",
      "lst.count(1)=2\n",
      "lst.sort() lst=[-5, -1, 2, 3]\n",
      "lst.sort(key=f) lst=[-1, 2, 3, -5]\n",
      "lst.reverse() lst=[-5, 3, 2, -1]\n",
      "del lst[0] lst=[3, 2, -1]\n",
      "del lst[0:1] lst=[2, -1]\n"
     ]
    }
   ],
   "source": [
    "# index, count, reverse, del, clear\n",
    "lst = [1, 2, 3, 4, 1]\n",
    "print(f'{lst.index(1)=}') # index of the first 1\n",
    "\n",
    "print(f\"{lst.index(1,1)=}\")  # index of the first 1 starting from index 1\n",
    "\n",
    "print(f'{lst.count(1)=}')\n",
    "\n",
    "# sort\n",
    "lst = [-1, 3, -5, 2]\n",
    "lst.sort() # sort returns None. Just does an inplace sorting\n",
    "print(f\"lst.sort() {lst=}\")\n",
    "\n",
    "def f(element):\n",
    "    return element ** 2\n",
    "\n",
    "lst.sort(key=f) # sort by squares - makes all numbers positive\n",
    "print(f\"lst.sort(key=f) {lst=}\")\n",
    "\n",
    "\n",
    "lst.reverse() # mutates the list.\n",
    "print(f\"lst.reverse() {lst=}\")\n",
    "\n",
    "del lst[0]\n",
    "print(f\"del lst[0] {lst=}\")\n",
    "\n",
    "del lst[0:1]\n",
    "print(f\"del lst[0:1] {lst=}\") # from 0th element to 1 element not included. so basically the first element."
   ]
  },
  {
   "cell_type": "markdown",
   "metadata": {},
   "source": [
    "## List Comprehension\n",
    "Assume you have a list of tuples containing basic details of customers like name, id, category etc. And now you want to create a sub list of all customers who satisfy some condition.\\\n",
    "Python has a neat way to implement this.\\\n",
    "All you will need to do is define a function that implements your filter logic and Python will call it for each element and give you a filtered list."
   ]
  },
  {
   "cell_type": "code",
   "execution_count": 125,
   "metadata": {},
   "outputs": [
    {
     "name": "stdout",
     "output_type": "stream",
     "text": [
      "lst=[0, 2, 4, 6, 8, 10, 12, 14, 16, 18]\n"
     ]
    }
   ],
   "source": [
    "# Lets create a list of all even numbers in range 1-20.\n",
    "lst = [] \n",
    "for num in range(0,20):     # iterates over each element in the range\n",
    "    if num%2 == 0:          # checks to see if its even\n",
    "        lst.append(num)     # if even append to the list.\n",
    "\n",
    "print(f'{lst=}')"
   ]
  },
  {
   "cell_type": "markdown",
   "metadata": {},
   "source": [
    "# Sets\n",
    "1. Unlike sequences they are unordered. \n",
    "2. So indexing and slicing make no sense.\n",
    "3. They are finite\n",
    "4. No element can be duplicate. Sort of makes sense since they are ordered.\n",
    "5. Each element is immutable. So this means a list cannot be its member.\n",
    "6. They are iterable\n",
    "7. You can use len()\n",
    "\n",
    "## Main uses\n",
    "1. They are efficient - so membership checking\n",
    "2. Removel of duplicates from lists\n",
    "3. Mathematical set operations like union, intersection etc. \n",
    "\n",
    "## Types of sets\n",
    "1. Sets - These are mutable. Created by `set()` and can be modified by functions.\n",
    "2. Frozen sets - They are immutable. Created by `forzenset()`. They are hashable and so can be used as a key for dictionary."
   ]
  },
  {
   "cell_type": "code",
   "execution_count": 138,
   "metadata": {},
   "outputs": [
    {
     "name": "stdout",
     "output_type": "stream",
     "text": [
      "emptySet=set()\n",
      "colors={'blue', 'red', 'white'}, Type: <class 'set'>\n",
      "nums={1, 2, 3}, Type: <class 'set'>\n",
      "fromString={'g', 's', 'r', 'n', 'i', 't'}, Type: <class 'set'>\n",
      "fromList={1, 2, 'string'}, Type: <class 'set'>\n",
      "fromTuple={1}, Type: <class 'set'>\n",
      "fromSet={1, 2, 3}, Type: <class 'set'>\n"
     ]
    }
   ],
   "source": [
    "# Creating sets\n",
    "emptySet = set()\n",
    "print(f'{emptySet=}')\n",
    "\n",
    "colors = {\"red\", \"blue\", \"white\"}\n",
    "print(f'{colors=}, Type: {type(colors)}')\n",
    "\n",
    "# removing duplicates\n",
    "nums = {1, 2, 3, 1} #duplicates will be removed\n",
    "print(f'{nums=}, Type: {type(nums)}')\n",
    "\n",
    "# from string\n",
    "fromString = set(\"string\")  # create a set from a string\n",
    "print(f\"{fromString=}, Type: {type(fromString)}\")\n",
    "\n",
    "# from list\n",
    "fromList = set([1, 2, \"string\"])\n",
    "print(f\"{fromList=}, Type: {type(fromList)}\")\n",
    "\n",
    "# from tuple\n",
    "fromTuple = set((1,))\n",
    "print(f\"{fromTuple=}, Type: {type(fromTuple)}\")\n",
    "\n",
    "# from set\n",
    "fromSet = set({1, 2, 3, 1})\n",
    "print(f\"{fromSet=}, Type: {type(fromSet)}\")"
   ]
  },
  {
   "cell_type": "code",
   "execution_count": 139,
   "metadata": {},
   "outputs": [
    {
     "name": "stdout",
     "output_type": "stream",
     "text": [
      "len(my_set)=4\n",
      "max(my_set)=4\n",
      "min(my_set)=1\n",
      "sum(my_set)=10\n"
     ]
    }
   ],
   "source": [
    "# Set Functions\n",
    "\n",
    "my_set = {1, 2, 3, 4}\n",
    "print(f'{len(my_set)=}')  # 4\n",
    "print(f'{max(my_set)=}')  # 4\n",
    "print(f'{min(my_set)=}')  # 1\n",
    "print(f'{sum(my_set)=}')  # 10 this function supports numbers only\n",
    "\n",
    "\n"
   ]
  },
  {
   "cell_type": "code",
   "execution_count": 155,
   "metadata": {},
   "outputs": [
    {
     "name": "stdout",
     "output_type": "stream",
     "text": [
      "my_set={1, 2, 4}\n",
      "Update: set1={1, 2, 3, 4}\n",
      "Discard: set1={1, 2, 3, 4}\n",
      "set1.pop()=1, set1={2, 3, 4}\n",
      "Clear: set1=set()\n",
      "\n",
      " {1, 2, 3}.issubset({1})=False\n",
      " {1, 2, 3}.issubset({1,4,2,3})=True\n",
      " {1, 2, 3}.issuperset({1})=True\n",
      " {1, 2, 3}.isdisjoint({3, 4})=False\n",
      " {1, 2}.isdisjoint({3, 4})=True\n",
      "\n",
      "set_a.union(set_b)={1, 2, 3, 4}\n",
      "set_a.intersection(set_b)={2, 3}\n"
     ]
    }
   ],
   "source": [
    "# Set Methods\n",
    "\n",
    "my_set = {1, 2, 3}\n",
    "my_set.add(4)\n",
    "my_set.remove(3)\n",
    "print(f'{my_set=}')  # {1, 2, 4}\n",
    "\n",
    "set1 = {1, 2, 3}\n",
    "set1.update({2, 3, 4})  # set1 = UNION of set1 and {2,3,4}\n",
    "print(f'Update: {set1=}')\n",
    "\n",
    "set1.discard(5)  # will remove the element if present. Will not throw error if not present\n",
    "print(f\"Discard: {set1=}\")\n",
    "\n",
    "print(f'{set1.pop()=}, {set1=}')  # removes a random element from the set.\n",
    "\n",
    "set1.clear()  # removes all elements from the set.\n",
    "print(f\"Clear: {set1=}\")\n",
    "\n",
    "# is {1,2,3} a subset of {1}?\n",
    "print(f'\\n{ {1, 2, 3}.issubset({1})=}')\n",
    "\n",
    "# is {1,2,3} a subset of {1,4,2,3}?\n",
    "print(f\"{ {1, 2, 3}.issubset({1,4,2,3})=}\")\n",
    "\n",
    "# is it a superset of {1}\n",
    "print(f'{ {1, 2, 3}.issuperset({1})=}')  \n",
    "\n",
    "# no elements in common\n",
    "print(f'{ {1, 2, 3}.isdisjoint({3, 4})=}')  \n",
    "\n",
    "# no elements in common\n",
    "print(f\"{ {1, 2}.isdisjoint({3, 4})=}\\n\")\n",
    "\n",
    "\n",
    "# Mathematical set operations.\n",
    "set_a = {1, 2, 3}\n",
    "set_b = {2, 3, 4}\n",
    "print(f'{set_a.union(set_b)=}')  # {1, 2, 3, 4}\n",
    "print(f'{set_a.intersection(set_b)=}')  # {2, 3}"
   ]
  },
  {
   "cell_type": "markdown",
   "metadata": {},
   "source": [
    "### Frozen sets\n",
    "1. They are immutable\n"
   ]
  },
  {
   "cell_type": "code",
   "execution_count": 156,
   "metadata": {},
   "outputs": [
    {
     "name": "stdout",
     "output_type": "stream",
     "text": [
      "my_frozenset=frozenset({1, 2, 3})\n"
     ]
    }
   ],
   "source": [
    "# Frozenset\n",
    "\n",
    "my_frozenset = frozenset([1, 2, 3])\n",
    "print(f'{my_frozenset=}')\n",
    "# Cannot add or modify elements in frozenset\n"
   ]
  },
  {
   "cell_type": "markdown",
   "metadata": {},
   "source": [
    "# Mappings\n",
    "1. Finite set of objects that are indexed. So like an indexed set.\n",
    "2. Its like providing an indexing mechanism to sets.\n",
    "3. Each element is a combination of key and value pair.\n",
    "4. They are mutable\n",
    "\n",
    "- Currently Dicts are the only intrinsic mapping available\n",
    "\n",
    "### Dictionaries\n",
    "1. Finite set with arbitary indexes\n",
    "2. Any object that is immutable and therefore hashable can be used as the key.\n",
    "3. Mutable values are compared by VALUE and not IDs as is the case with immutable objects. \n",
    "4. The order of the keys is maintained. New keys are inserted at the end.\n",
    "5. They function like associative arrays"
   ]
  },
  {
   "cell_type": "code",
   "execution_count": 169,
   "metadata": {},
   "outputs": [
    {
     "name": "stdout",
     "output_type": "stream",
     "text": [
      "emptyDict={}\n",
      "emptyDict={}\n",
      "d={'key1': 'value1', 'key2': 'value2'}\n",
      "d={'key1': 'value1', 'key2': 'value2'}\n",
      "d={1: 'value1', 2: 'value2'}\n",
      "usingListInList={'key1': 'value1', 'key2': 'value2'}\n",
      "usingTupleInList={'key1': 'value1', 'key2': 'value2'}\n",
      "usingTupleInTuple={'a': 2, 'b': 3}\n",
      "usingListInTuple={'a': 2, 'b': 3}\n"
     ]
    }
   ],
   "source": [
    "emptyDict = {}  # creates an empty dict. Remember to create empty set set()\n",
    "print(f'{emptyDict=}')\n",
    "\n",
    "emptyDict = dict()  # creates an empty dict. Remember to create empty set set()\n",
    "print(f\"{emptyDict=}\")\n",
    "\n",
    "# simple dict\n",
    "d = {\"key1\": \"value1\", \"key2\": \"value2\"}  # provide key value pairs\n",
    "print(f'{d=}')\n",
    "\n",
    "# same as above with '=' being used for assignment.\n",
    "dict(key1='value1', key2='value2') # Note that in this form the keys are inferred as strings\n",
    "print(f\"{d=}\")\n",
    "\n",
    "# d = dict(1='value1', 2='value2') # Wont Work - the keys need to be simple strings and not something that can convert to number\n",
    "\n",
    "# ints as keys\n",
    "d = {1: \"value1\", 2: \"value2\"}\n",
    "print(f\"{d=}\")\n",
    "\n",
    "# create by providing an iterable sequence where each element is key value\n",
    "usingListInList = dict([['key1','value1'],['key2','value2']]) # iterable list with key value lists. Note exactly 2 elements should be there in the iterable\n",
    "print(f'{usingListInList=}')\n",
    "\n",
    "usingTupleInList = dict([('key1','value1'),('key2','value2')]) # iterable list with key value tuples\n",
    "print(f'{usingTupleInList=}')\n",
    "\n",
    "usingTupleInTuple = dict((('a',2),('b',3))) # iterable tuple with key value tuples\n",
    "print(f'{usingTupleInTuple=}')\n",
    "\n",
    "\n",
    "usingListInTuple = dict((['a',2],['b',3])) #iterable tuple with key value lists\n",
    "print(f'{usingListInTuple=}')\n"
   ]
  },
  {
   "cell_type": "code",
   "execution_count": 170,
   "metadata": {},
   "outputs": [
    {
     "name": "stdout",
     "output_type": "stream",
     "text": [
      "my_dict[(1, 2)]='tuple as key'\n"
     ]
    }
   ],
   "source": [
    "# Using Tuples as Keys in a Dictionary\n",
    "\n",
    "my_dict = { (1, 2): \"tuple as key\", (3, 4): \"another tuple\" }\n",
    "print(f'{my_dict[(1, 2)]=}')  # \"tuple as key\"\n"
   ]
  },
  {
   "cell_type": "markdown",
   "metadata": {},
   "source": [
    "### Dict Comprehension\n",
    "1. Works very much like list comprehension."
   ]
  },
  {
   "cell_type": "code",
   "execution_count": 13,
   "metadata": {},
   "outputs": [
    {
     "name": "stdout",
     "output_type": "stream",
     "text": [
      "{0: 0, 1: 1, 2: 4, 3: 9, 4: 16}\n"
     ]
    }
   ],
   "source": [
    "# Create a Dictionary Using Comprehension\n",
    "\n",
    "squares = {x: x**2 for x in range(5)}\n",
    "print(squares)  # {0: 0, 1: 1, 2: 4, 3: 9, 4: 16}"
   ]
  },
  {
   "cell_type": "code",
   "execution_count": 14,
   "metadata": {},
   "outputs": [
    {
     "name": "stdout",
     "output_type": "stream",
     "text": [
      "John\n",
      "dict_keys(['name', 'age'])\n",
      "dict_values(['John', 30])\n",
      "dict_items([('name', 'John'), ('age', 30)])\n"
     ]
    }
   ],
   "source": [
    "# Dictionary Methods\n",
    "\n",
    "my_dict = {\"name\": \"John\", \"age\": 30}\n",
    "\n",
    "# Accessing a value\n",
    "print(my_dict.get(\"name\"))  # John\n",
    "\n",
    "# Getting keys, values, and items\n",
    "print(my_dict.keys())    # dict_keys(['name', 'age'])\n",
    "print(my_dict.values())  # dict_values(['John', 30])\n",
    "print(my_dict.items())   # dict_items([('name', 'John'), ('age', 30)])\n"
   ]
  },
  {
   "cell_type": "code",
   "execution_count": 15,
   "metadata": {},
   "outputs": [
    {
     "name": "stdout",
     "output_type": "stream",
     "text": [
      "name John\n",
      "age 30\n",
      "name John\n",
      "age 30\n"
     ]
    }
   ],
   "source": [
    "# Loop Over a Dictionary\n",
    "my_dict = {\"name\": \"John\", \"age\": 30}\n",
    "\n",
    "for key in my_dict:\n",
    "    print(key, my_dict[key])\n",
    "\n",
    "for key, value in my_dict.items():\n",
    "    print(key, value)\n"
   ]
  },
  {
   "cell_type": "markdown",
   "metadata": {},
   "source": [
    "Specialized Container Datatypes"
   ]
  },
  {
   "cell_type": "code",
   "execution_count": 16,
   "metadata": {},
   "outputs": [
    {
     "name": "stdout",
     "output_type": "stream",
     "text": [
      "defaultdict(<class 'int'>, {'apple': 1})\n"
     ]
    }
   ],
   "source": [
    "# defaultdict\n",
    "from collections import defaultdict\n",
    "\n",
    "dd = defaultdict(int)  # Default value will be 0 for any new key\n",
    "dd[\"apple\"] += 1\n",
    "print(dd)  # defaultdict(<class 'int'>, {'apple': 1})\n"
   ]
  },
  {
   "cell_type": "code",
   "execution_count": 17,
   "metadata": {},
   "outputs": [
    {
     "name": "stdout",
     "output_type": "stream",
     "text": [
      "deque([0, 1, 2, 3, 4])\n"
     ]
    }
   ],
   "source": [
    "# deque\n",
    "from collections import deque\n",
    "\n",
    "d = deque([1, 2, 3])\n",
    "d.appendleft(0)  # Add to the left\n",
    "d.append(4)      # Add to the right\n",
    "print(d)  # deque([0, 1, 2, 3, 4])\n"
   ]
  },
  {
   "cell_type": "code",
   "execution_count": 18,
   "metadata": {},
   "outputs": [
    {
     "name": "stdout",
     "output_type": "stream",
     "text": [
      "Counter({'i': 4, 's': 4, 'p': 2, 'm': 1})\n"
     ]
    }
   ],
   "source": [
    "# Counter\n",
    "\n",
    "from collections import Counter\n",
    "\n",
    "word_count = Counter(\"mississippi\")\n",
    "print(word_count)  # Counter({'i': 4, 's': 4, 'p': 2, 'm': 1})\n"
   ]
  }
 ],
 "metadata": {
  "kernelspec": {
   "display_name": "Python 3",
   "language": "python",
   "name": "python3"
  },
  "language_info": {
   "codemirror_mode": {
    "name": "ipython",
    "version": 3
   },
   "file_extension": ".py",
   "mimetype": "text/x-python",
   "name": "python",
   "nbconvert_exporter": "python",
   "pygments_lexer": "ipython3",
   "version": "3.12.1"
  }
 },
 "nbformat": 4,
 "nbformat_minor": 2
}
