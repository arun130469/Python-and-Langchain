{
 "cells": [
  {
   "cell_type": "markdown",
   "metadata": {},
   "source": [
    "# Python Concepts and Exercises\n",
    "\n",
    "\n",
    "\n",
    "\n"
   ]
  },
  {
   "cell_type": "markdown",
   "metadata": {},
   "source": [
    "### Exercise 1: Encoding Identification Without Regex\n",
    " - Task: Create a Python script where the student writes two text files, one with an explicit encoding \\\n",
    " (# -*- coding: UTF-8 -*-) as the first line, and another without encoding information. Write a Python \\\n",
    " program that checks the first two lines of each file for the # -*- coding: UTF-8 -*- comment and prints \\\n",
    " out whether the encoding was specified or not. If no encoding is found, the program should default to UTF-8."
   ]
  },
  {
   "cell_type": "code",
   "execution_count": null,
   "metadata": {},
   "outputs": [],
   "source": []
  },
  {
   "cell_type": "markdown",
   "metadata": {},
   "source": [
    "### Exercise 2: Explicit Line Joining\n",
    " - Task: Write a Python function that performs multiple arithmetic operations using explicit line continuation (\\) and prints the result."
   ]
  },
  {
   "cell_type": "code",
   "execution_count": null,
   "metadata": {},
   "outputs": [],
   "source": []
  },
  {
   "cell_type": "markdown",
   "metadata": {},
   "source": [
    "### Exercise 3: Implicit Line Joining with Data Structures\n",
    "- Task: Create a list of favorite fruits and split it over multiple lines using implicit line joining with square brackets. Then create a tuple of colors and a dictionary of fruits with their respective prices."
   ]
  },
  {
   "cell_type": "code",
   "execution_count": null,
   "metadata": {},
   "outputs": [],
   "source": []
  },
  {
   "cell_type": "markdown",
   "metadata": {},
   "source": [
    "### Exercise 4: Class with Private Variables (No Regex)\n",
    "- Task: Create a class Person with a private variable __age. Students will use a getter method to access the private variable and try accessing it directly to demonstrate Python’s name mangling."
   ]
  },
  {
   "cell_type": "code",
   "execution_count": null,
   "metadata": {},
   "outputs": [],
   "source": []
  },
  {
   "cell_type": "markdown",
   "metadata": {},
   "source": [
    "### Exercise 5: Using Augmented Assignment Operators\n",
    "- Task: Create a small bank account simulation where students perform deposits and withdrawals using augmented assignment (+=, -=, etc.)."
   ]
  },
  {
   "cell_type": "code",
   "execution_count": null,
   "metadata": {},
   "outputs": [],
   "source": []
  },
  {
   "cell_type": "markdown",
   "metadata": {},
   "source": [
    "### Exercise 6: Triple Quoted Strings and Escape Sequences\n",
    "- Task: Create a multi-line string using triple quotes (''' or \"\"\") that contains special characters like \\n and \\t. Demonstrate how escape sequences work."
   ]
  },
  {
   "cell_type": "code",
   "execution_count": null,
   "metadata": {},
   "outputs": [],
   "source": []
  }
 ],
 "metadata": {
  "kernelspec": {
   "display_name": "Python 3",
   "language": "python",
   "name": "python3"
  },
  "language_info": {
   "codemirror_mode": {
    "name": "ipython",
    "version": 3
   },
   "file_extension": ".py",
   "mimetype": "text/x-python",
   "name": "python",
   "nbconvert_exporter": "python",
   "pygments_lexer": "ipython3",
   "version": "3.12.1"
  }
 },
 "nbformat": 4,
 "nbformat_minor": 2
}
