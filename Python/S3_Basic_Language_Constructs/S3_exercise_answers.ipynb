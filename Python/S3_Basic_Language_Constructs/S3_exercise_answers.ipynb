{
 "cells": [
  {
   "cell_type": "code",
   "execution_count": null,
   "metadata": {},
   "outputs": [],
   "source": [
    "# Exercise 1\n",
    "# you must create files before running it.\n",
    "def check_encoding(file_path):\n",
    "    with open(file_path, 'r', encoding='utf-8') as f:\n",
    "        first_two_lines = [f.readline().strip() for _ in range(2)]\n",
    "        for line in first_two_lines:\n",
    "            if \"# -*- coding: UTF-8 -*-\" in line:\n",
    "                return \"Encoding found: UTF-8\"\n",
    "        return \"No encoding specified, using default: UTF-8\"\n",
    "\n",
    "file_with_encoding = 'file_with_encoding.txt'\n",
    "file_without_encoding = 'file_without_encoding.txt'\n",
    "\n",
    "print(check_encoding(file_with_encoding))\n",
    "print(check_encoding(file_without_encoding))\n"
   ]
  },
  {
   "cell_type": "code",
   "execution_count": null,
   "metadata": {},
   "outputs": [],
   "source": [
    "# Exercise 2\n",
    "def perform_calculation(a, b):\n",
    "    result = a * 2 + b / 3 \\\n",
    "             - a + b * 4 \\\n",
    "             + 10\n",
    "    print(f\"Result: {result}\")\n",
    "\n",
    "perform_calculation(10, 20)\n"
   ]
  },
  {
   "cell_type": "code",
   "execution_count": null,
   "metadata": {},
   "outputs": [],
   "source": [
    "# Exercise 3\n",
    "fruits = [\n",
    "    \"apple\", \"banana\", \"cherry\",\n",
    "    \"date\", \"elderberry\"\n",
    "]\n",
    "\n",
    "colors = (\n",
    "    \"red\", \n",
    "    \"green\", \n",
    "    \"yellow\"\n",
    ")\n",
    "\n",
    "fruit_prices = {\n",
    "    \"apple\": 1.2,\n",
    "    \"banana\": 0.5,\n",
    "    \"cherry\": 2.5\n",
    "}\n",
    "\n",
    "print(\"Fruits:\", fruits)\n",
    "print(\"Colors:\", colors)\n",
    "print(\"Fruit Prices:\", fruit_prices)\n"
   ]
  },
  {
   "cell_type": "code",
   "execution_count": null,
   "metadata": {},
   "outputs": [],
   "source": [
    "# Exercise 4\n",
    "class Person:\n",
    "    def __init__(self, name, age):\n",
    "        self.name = name\n",
    "        self.__age = age  # Private variable\n",
    "\n",
    "    def get_age(self):\n",
    "        return self.__age\n",
    "\n",
    "person = Person(\"John\", 30)\n",
    "print(f\"Name: {person.name}\")\n",
    "print(f\"Age: {person.get_age()}\")\n",
    "\n",
    "# Attempt to access __age directly (this will fail)\n",
    "try:\n",
    "    print(person.__age)\n",
    "except AttributeError:\n",
    "    print(\"Private attribute cannot be accessed directly!\")\n"
   ]
  },
  {
   "cell_type": "code",
   "execution_count": null,
   "metadata": {},
   "outputs": [],
   "source": [
    "# Exercise 5\n",
    "balance = 1000\n",
    "\n",
    "# Deposit money\n",
    "balance += 500\n",
    "print(f\"Balance after deposit: {balance}\")\n",
    "\n",
    "# Withdraw money\n",
    "balance -= 200\n",
    "print(f\"Balance after withdrawal: {balance}\")\n",
    "\n",
    "# Apply interest\n",
    "balance *= 1.05  # 5% interest\n",
    "print(f\"Balance after applying interest: {balance}\")\n"
   ]
  },
  {
   "cell_type": "code",
   "execution_count": null,
   "metadata": {},
   "outputs": [],
   "source": [
    "# Exercise 6\n",
    "\n",
    "multi_line_string = '''This is a multi-line string:\n",
    "\\t- This line is indented\n",
    "\\n- This line starts a new line'''\n",
    "\n",
    "print(multi_line_string)\n"
   ]
  }
 ],
 "metadata": {
  "kernelspec": {
   "display_name": "Python 3",
   "language": "python",
   "name": "python3"
  },
  "language_info": {
   "codemirror_mode": {
    "name": "ipython",
    "version": 3
   },
   "file_extension": ".py",
   "mimetype": "text/x-python",
   "name": "python",
   "nbconvert_exporter": "python",
   "pygments_lexer": "ipython3",
   "version": "3.12.1"
  }
 },
 "nbformat": 4,
 "nbformat_minor": 2
}
