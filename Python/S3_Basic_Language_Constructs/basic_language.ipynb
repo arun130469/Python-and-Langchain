{
 "cells": [
  {
   "cell_type": "markdown",
   "metadata": {},
   "source": [
    "### Encoding\n",
    "1. The first or second line in a script file can contain encoding information\n",
    "2. If no encoding specified then its UTF-8\n",
    "3. List of encoding supported: https://docs.python.org/3.13/library/codecs.html#standard-encodings\n",
    "4. If the comment matches: `coding[=:]\\s*([-\\w.]+)` then its encoding\n",
    "5. Should be the only statement on the line.\n",
    "6. If second line then first also should be a comment. "
   ]
  },
  {
   "cell_type": "code",
   "execution_count": 5,
   "metadata": {},
   "outputs": [],
   "source": [
    "# -*- coding: UTF-8 -*-"
   ]
  },
  {
   "cell_type": "markdown",
   "metadata": {},
   "source": [
    "### Explicit Line joining\n",
    "1. Should be the last character in a line\n",
    "2. May or may not have a space before it.\n",
    "3. The `\\` character when encountered will simply remove itself and the `CRLF` following it and paste next line in continuation\n",
    "4. This means we need not indent the subsequent line\n",
    "5. Line ending in `\\` cannot carry comment.\n",
    "6. It does not stick together tokens other that string literals.\n"
   ]
  },
  {
   "cell_type": "code",
   "execution_count": 22,
   "metadata": {},
   "outputs": [
    {
     "name": "stdout",
     "output_type": "stream",
     "text": [
      "Works\n"
     ]
    }
   ],
   "source": [
    "# Normal without any continuation\n",
    "\n",
    "if 1< 2 and 3<4:\n",
    "    print('Works')# Normal without any continuation\n",
    "\n"
   ]
  },
  {
   "cell_type": "code",
   "execution_count": 23,
   "metadata": {},
   "outputs": [
    {
     "name": "stdout",
     "output_type": "stream",
     "text": [
      "Should work\n"
     ]
    }
   ],
   "source": [
    "# With continuation and indent.\n",
    "if 1 < 2\\\n",
    "and\\\n",
    "3 < 4: \\\n",
    "    print ('Should work')"
   ]
  },
  {
   "cell_type": "code",
   "execution_count": 1,
   "metadata": {},
   "outputs": [
    {
     "name": "stdout",
     "output_type": "stream",
     "text": [
      "Seems to work without indentation!\n"
     ]
    }
   ],
   "source": [
    "# With continuation and no indent.\n",
    "if 1 < 2\\\n",
    "and\\\n",
    "3 < 4: \\\n",
    "print ('Seems to work without indentation!') # Funnily this also works!"
   ]
  },
  {
   "cell_type": "markdown",
   "metadata": {},
   "source": [
    "### Implicit line joining\n",
    "1. Expressions in parenthesis, square brackets or curly braces can be split over multiple lines.\n",
    "2. Unlike explicit symbol `\\` comments are allowed on these lines\n",
    "3. If ` ''' ` is used then comments are not allowed."
   ]
  },
  {
   "cell_type": "code",
   "execution_count": 4,
   "metadata": {},
   "outputs": [
    {
     "data": {
      "text/plain": [
       "'\\n    Hello\\n        World\\n        '"
      ]
     },
     "execution_count": 4,
     "metadata": {},
     "output_type": "execute_result"
    }
   ],
   "source": [
    "# Triple comments to join lines. \n",
    "# New line character is retained. \n",
    "'''\n",
    "    Hello\n",
    "        World\n",
    "        '''\n"
   ]
  },
  {
   "cell_type": "code",
   "execution_count": 7,
   "metadata": {},
   "outputs": [
    {
     "data": {
      "text/plain": [
       "['first', 'Second', 'third', 'Fourth']"
      ]
     },
     "execution_count": 7,
     "metadata": {},
     "output_type": "execute_result"
    }
   ],
   "source": [
    "# Square brackets and any indentation\n",
    "['first',\n",
    "    'Second',\n",
    "\"third\",\n",
    "                        'Fourth']"
   ]
  },
  {
   "cell_type": "code",
   "execution_count": 8,
   "metadata": {},
   "outputs": [
    {
     "data": {
      "text/plain": [
       "('tuple', 'second')"
      ]
     },
     "execution_count": 8,
     "metadata": {},
     "output_type": "execute_result"
    }
   ],
   "source": [
    "('tuple',\n",
    "    'second')"
   ]
  },
  {
   "cell_type": "markdown",
   "metadata": {},
   "source": [
    "### Indentation\n",
    "1. Spaces or tabs are both white spaces\n",
    "2. A logical line is one that represents a line of code post joining\n",
    "3. Indentation is used to compute the level of indentation\n",
    "4. At runtime tabs are replaced by the spaces (8 spaces)\n",
    "5. The total number of spaces preceeding the first non whitespace character determines the level of indentation.\n",
    "6. Indentations cannot be joined across multiple lines"
   ]
  },
  {
   "cell_type": "code",
   "execution_count": 15,
   "metadata": {},
   "outputs": [
    {
     "name": "stdout",
     "output_type": "stream",
     "text": [
      "works\n",
      "This also works\n"
     ]
    }
   ],
   "source": [
    "# using tabs and spaces for indentation\n",
    "if 2 < 5:\n",
    "     if 5 < 9: # a tab and a space\n",
    "      print('works') # tab and 2 spaces\n",
    "\n",
    "if 2 < 5:\n",
    " if 5 < 9: # space\n",
    "  print('This also works') # 2 spaces\n"
   ]
  },
  {
   "cell_type": "markdown",
   "metadata": {},
   "source": [
    "### Parenthesis, brackets, curly braces\n",
    "\n",
    "1. `[]` Square brackets | Brackets |\n",
    "2. `{}` Braces | Squiggly Braces | Chicken | \n",
    "3. `()` Parenthesis"
   ]
  }
 ],
 "metadata": {
  "kernelspec": {
   "display_name": "Python 3",
   "language": "python",
   "name": "python3"
  },
  "language_info": {
   "codemirror_mode": {
    "name": "ipython",
    "version": 3
   },
   "file_extension": ".py",
   "mimetype": "text/x-python",
   "name": "python",
   "nbconvert_exporter": "python",
   "pygments_lexer": "ipython3",
   "version": "3.12.1"
  }
 },
 "nbformat": 4,
 "nbformat_minor": 2
}
