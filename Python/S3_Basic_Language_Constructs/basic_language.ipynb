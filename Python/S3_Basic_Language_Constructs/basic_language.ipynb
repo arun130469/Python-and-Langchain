{
 "cells": [
  {
   "cell_type": "markdown",
   "metadata": {},
   "source": [
    "## ENCODING\n",
    "1. The first or second line in a script file can contain encoding information\n",
    "2. If no encoding specified then its UTF-8\n",
    "3. List of encoding supported: https://docs.python.org/3.13/library/codecs.html#standard-encodings\n",
    "4. If the comment matches: `coding[=:]\\s*([-\\w.]+)` then its encoding\n",
    "5. Should be the only statement on the line.\n",
    "6. If second line then first also should be a comment. "
   ]
  },
  {
   "cell_type": "code",
   "execution_count": 5,
   "metadata": {},
   "outputs": [],
   "source": [
    "# -*- coding: UTF-8 -*-"
   ]
  },
  {
   "cell_type": "markdown",
   "metadata": {},
   "source": [
    "## Explicit Line joining\n",
    "1. Should be the last character in a line\n",
    "2. May or may not have a space before it.\n",
    "3. The `\\` character when encountered will simply remove itself and the `CRLF` following it and paste next line in continuation\n",
    "4. This means we need not indent the subsequent line\n",
    "5. Line ending in `\\` cannot carry comment.\n",
    "6. It does not stick together tokens other that string literals.\n"
   ]
  },
  {
   "cell_type": "code",
   "execution_count": 22,
   "metadata": {},
   "outputs": [
    {
     "name": "stdout",
     "output_type": "stream",
     "text": [
      "Works\n"
     ]
    }
   ],
   "source": [
    "# Normal without any continuation\n",
    "\n",
    "if 1< 2 and 3<4:\n",
    "    print('Works')# Normal without any continuation\n",
    "\n"
   ]
  },
  {
   "cell_type": "code",
   "execution_count": 23,
   "metadata": {},
   "outputs": [
    {
     "name": "stdout",
     "output_type": "stream",
     "text": [
      "Should work\n"
     ]
    }
   ],
   "source": [
    "# With continuation and indent.\n",
    "if 1 < 2\\\n",
    "and\\\n",
    "3 < 4: \\\n",
    "    print ('Should work')"
   ]
  },
  {
   "cell_type": "code",
   "execution_count": 1,
   "metadata": {},
   "outputs": [
    {
     "name": "stdout",
     "output_type": "stream",
     "text": [
      "Seems to work without indentation!\n"
     ]
    }
   ],
   "source": [
    "# With continuation and no indent.\n",
    "if 1 < 2\\\n",
    "and\\\n",
    "3 < 4: \\\n",
    "print ('Seems to work without indentation!') # Funnily this also works!"
   ]
  }
 ],
 "metadata": {
  "kernelspec": {
   "display_name": "Python 3",
   "language": "python",
   "name": "python3"
  },
  "language_info": {
   "codemirror_mode": {
    "name": "ipython",
    "version": 3
   },
   "file_extension": ".py",
   "mimetype": "text/x-python",
   "name": "python",
   "nbconvert_exporter": "python",
   "pygments_lexer": "ipython3",
   "version": "3.12.1"
  }
 },
 "nbformat": 4,
 "nbformat_minor": 2
}
