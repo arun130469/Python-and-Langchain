{
 "cells": [
  {
   "cell_type": "markdown",
   "metadata": {},
   "source": [
    "### Encoding\n",
    "1. The first or second line in a script file can contain encoding information\n",
    "2. If no encoding specified then its UTF-8\n",
    "3. List of encoding supported: https://docs.python.org/3.13/library/codecs.html#standard-encodings\n",
    "4. If the comment matches: `coding[=:]\\s*([-\\w.]+)` then its encoding\n",
    "5. Should be the only statement on the line.\n",
    "6. If second line then first also should be a comment. "
   ]
  },
  {
   "cell_type": "code",
   "execution_count": 5,
   "metadata": {},
   "outputs": [],
   "source": [
    "# -*- coding: UTF-8 -*-"
   ]
  },
  {
   "cell_type": "markdown",
   "metadata": {},
   "source": [
    "### Explicit Line joining\n",
    "1. Should be the last character in a line\n",
    "2. May or may not have a space before it.\n",
    "3. The `\\` character when encountered will simply remove itself and the `CRLF` following it and paste next line in continuation\n",
    "4. This means we need not indent the subsequent line\n",
    "5. Line ending in `\\` cannot carry comment.\n",
    "6. It does not stick together tokens other that string literals.\n"
   ]
  },
  {
   "cell_type": "code",
   "execution_count": 22,
   "metadata": {},
   "outputs": [
    {
     "name": "stdout",
     "output_type": "stream",
     "text": [
      "Works\n"
     ]
    }
   ],
   "source": [
    "# Normal without any continuation\n",
    "\n",
    "if 1< 2 and 3<4:\n",
    "    print('Works')# Normal without any continuation\n",
    "\n"
   ]
  },
  {
   "cell_type": "code",
   "execution_count": 23,
   "metadata": {},
   "outputs": [
    {
     "name": "stdout",
     "output_type": "stream",
     "text": [
      "Should work\n"
     ]
    }
   ],
   "source": [
    "# With continuation and indent.\n",
    "if 1 < 2\\\n",
    "and\\\n",
    "3 < 4: \\\n",
    "    print ('Should work')"
   ]
  },
  {
   "cell_type": "code",
   "execution_count": 1,
   "metadata": {},
   "outputs": [
    {
     "name": "stdout",
     "output_type": "stream",
     "text": [
      "Seems to work without indentation!\n"
     ]
    }
   ],
   "source": [
    "# With continuation and no indent.\n",
    "if 1 < 2\\\n",
    "and\\\n",
    "3 < 4: \\\n",
    "print ('Seems to work without indentation!') # Funnily this also works!"
   ]
  },
  {
   "cell_type": "markdown",
   "metadata": {},
   "source": [
    "### Implicit line joining\n",
    "1. Expressions in parenthesis, square brackets or curly braces can be split over multiple lines.\n",
    "2. Unlike explicit symbol `\\` comments are allowed on these lines\n",
    "3. If ` ''' ` is used then comments are not allowed."
   ]
  },
  {
   "cell_type": "code",
   "execution_count": 4,
   "metadata": {},
   "outputs": [
    {
     "data": {
      "text/plain": [
       "'\\n    Hello\\n        World\\n        '"
      ]
     },
     "execution_count": 4,
     "metadata": {},
     "output_type": "execute_result"
    }
   ],
   "source": [
    "# Triple comments to join lines. \n",
    "# New line character is retained. \n",
    "'''\n",
    "    Hello\n",
    "        World\n",
    "        '''\n"
   ]
  },
  {
   "cell_type": "code",
   "execution_count": 7,
   "metadata": {},
   "outputs": [
    {
     "data": {
      "text/plain": [
       "['first', 'Second', 'third', 'Fourth']"
      ]
     },
     "execution_count": 7,
     "metadata": {},
     "output_type": "execute_result"
    }
   ],
   "source": [
    "# Square brackets and any indentation\n",
    "['first',\n",
    "    'Second',\n",
    "\"third\",\n",
    "                        'Fourth']"
   ]
  },
  {
   "cell_type": "code",
   "execution_count": 8,
   "metadata": {},
   "outputs": [
    {
     "data": {
      "text/plain": [
       "('tuple', 'second')"
      ]
     },
     "execution_count": 8,
     "metadata": {},
     "output_type": "execute_result"
    }
   ],
   "source": [
    "('tuple',\n",
    "    'second')"
   ]
  },
  {
   "cell_type": "markdown",
   "metadata": {},
   "source": [
    "### Indentation\n",
    "1. Spaces or tabs are both white spaces\n",
    "2. A logical line is one that represents a line of code post joining\n",
    "3. Indentation is used to compute the level of indentation\n",
    "4. At runtime tabs are replaced by the spaces (8 spaces)\n",
    "5. The total number of spaces preceeding the first non whitespace character determines the level of indentation.\n",
    "6. Indentations cannot be joined across multiple lines"
   ]
  },
  {
   "cell_type": "code",
   "execution_count": 15,
   "metadata": {},
   "outputs": [
    {
     "name": "stdout",
     "output_type": "stream",
     "text": [
      "works\n",
      "This also works\n"
     ]
    }
   ],
   "source": [
    "# using tabs and spaces for indentation\n",
    "if 2 < 5:\n",
    "     if 5 < 9: # a tab and a space\n",
    "      print('works') # tab and 2 spaces\n",
    "\n",
    "if 2 < 5:\n",
    " if 5 < 9: # space\n",
    "  print('This also works') # 2 spaces\n"
   ]
  },
  {
   "cell_type": "markdown",
   "metadata": {},
   "source": [
    "### Parenthesis, brackets, curly braces\n",
    "\n",
    "1. `[]` Square brackets | Brackets \n",
    "2. `{}` Braces | Squiggly Braces | Chicken | \n",
    "3. `()` Parenthesis"
   ]
  },
  {
   "cell_type": "code",
   "execution_count": 15,
   "metadata": {},
   "outputs": [
    {
     "name": "stdout",
     "output_type": "stream",
     "text": [
      "[1, 2, 3] <class 'list'>\n"
     ]
    }
   ],
   "source": [
    "# Brackets are used for List\n",
    "val = [1,2,3]\n",
    "print (val, type(val))"
   ]
  },
  {
   "cell_type": "code",
   "execution_count": 16,
   "metadata": {},
   "outputs": [
    {
     "name": "stdout",
     "output_type": "stream",
     "text": [
      "{'key1': 3, 'key2': 5} <class 'dict'>\n"
     ]
    }
   ],
   "source": [
    "# Brackes are used for dictionaries and sets\n",
    "val = {'key1': 3, 'key2': 5} # dictionary\n",
    "print(val, type(val))"
   ]
  },
  {
   "cell_type": "code",
   "execution_count": 17,
   "metadata": {},
   "outputs": [
    {
     "name": "stdout",
     "output_type": "stream",
     "text": [
      "{'item1', 'item2'} <class 'set'>\n"
     ]
    }
   ],
   "source": [
    "# Braces for set\n",
    "val = {'item1', 'item2'}\n",
    "print(val, type(val))"
   ]
  },
  {
   "cell_type": "code",
   "execution_count": 19,
   "metadata": {},
   "outputs": [
    {
     "name": "stdout",
     "output_type": "stream",
     "text": [
      "(23, 12) <class 'tuple'>\n"
     ]
    },
    {
     "data": {
      "text/plain": [
       "tuple"
      ]
     },
     "execution_count": 19,
     "metadata": {},
     "output_type": "execute_result"
    }
   ],
   "source": [
    "# Parenthesis are used for tuples\n",
    "val = (23,12) # say x,y co-ordinates\n",
    "\n",
    "print(val, type(val))"
   ]
  },
  {
   "cell_type": "markdown",
   "metadata": {},
   "source": [
    "### Statements \n",
    "1. A statement is a single logival line\n",
    "2. Several statements can be on a single line separated by `;`\n",
    "3. Examples of statements: Expressions, Assignment statement, Assert, return, break,\n",
    "4. https://docs.python.org/3/reference/simple_stmts.html\n",
    "5. https://docs.python.org/3/reference/expressions.html#grammar-token-python-grammar-starred_expression\n"
   ]
  },
  {
   "cell_type": "code",
   "execution_count": 35,
   "metadata": {},
   "outputs": [
    {
     "data": {
      "text/plain": [
       "1"
      ]
     },
     "execution_count": 35,
     "metadata": {},
     "output_type": "execute_result"
    }
   ],
   "source": [
    "# Expression - Any statement that returns a value is an expression\n",
    "2+1 # Expression\n",
    "1 # this is also an expression"
   ]
  },
  {
   "cell_type": "code",
   "execution_count": 27,
   "metadata": {},
   "outputs": [
    {
     "data": {
      "text/plain": [
       "100"
      ]
     },
     "execution_count": 27,
     "metadata": {},
     "output_type": "execute_result"
    }
   ],
   "source": [
    "#Expression - a function call also returns a value\n",
    "def func():\n",
    "    return 100\n",
    "\n",
    "func() # expression"
   ]
  },
  {
   "cell_type": "code",
   "execution_count": 31,
   "metadata": {},
   "outputs": [
    {
     "name": "stdout",
     "output_type": "stream",
     "text": [
      "2 --- 3\n",
      "4 --- 5\n",
      "some value\n"
     ]
    }
   ],
   "source": [
    "# Assignment statements are used to bind a name to a value\n",
    "\n",
    "val = 2+3  #assignment statement\n",
    "val1, val2 = 2,3\n",
    "print(val1,'---',val2)\n",
    "\n",
    "(val1, val2) = (4,5) # assignment statement\n",
    "print(val1, \"---\", val2)\n",
    "\n",
    "class A:\n",
    "    property1 = 'some value'\n",
    "\n",
    "a = A() # assignment statement\n",
    "print(a.property1)"
   ]
  },
  {
   "cell_type": "code",
   "execution_count": 36,
   "metadata": {},
   "outputs": [
    {
     "name": "stdout",
     "output_type": "stream",
     "text": [
      "13\n"
     ]
    }
   ],
   "source": [
    "# Augmented assignment - combination of binary operation in assignment\n",
    "val = 12 #assignment statement\n",
    "val += 1  #augmented evlauates val, then expression 1. Then performs binary increment operation and assigns the result to val\n",
    "\n",
    "print(val)\n"
   ]
  },
  {
   "cell_type": "code",
   "execution_count": 38,
   "metadata": {},
   "outputs": [
    {
     "name": "stdout",
     "output_type": "stream",
     "text": [
      "Python started without -O option.\n"
     ]
    }
   ],
   "source": [
    "# The assert statement  - convenient way to inser debugging assertions.\n",
    "# If python started without -O then built-in global constant __debug__ is set to true\n",
    "# https://docs.python.org/3/library/constants.html#debug__\n",
    "\n",
    "if __debug__:\n",
    "    print('Python started without -O option.')"
   ]
  },
  {
   "cell_type": "markdown",
   "metadata": {},
   "source": [
    "### Identifiers and Keywords\n",
    "1. Identifiers are simply names\n",
    "2. Can comprise - Uppercase and lowercase alphabets, `_`, digits `0-9` except for the first character.\n",
    "3. Certain identifiers are used as resesrved words or `Keywords` These cannot be used as identifiers in our porgrams. \n",
    "Ex: `False`, `await`, `if`, `elif`\n",
    "4. https://docs.python.org/3.13/reference/lexical_analysis.html#keywords\n",
    "5. Certain identifiers are reserved in specific contexts. `match`, `case`, `type` and `_`\n",
    "\n",
    "\n",
    "## DUNDER\n",
    "1. System-defined names are called DUNDER. This is because they begin and end with `__` and are of the form `__*__`\n",
    "2. Using such identifiers in our programs is subject to breakage and therefore should be totally avoided.\n",
    "\n",
    "## Class Private Names\n",
    "1. In a class if a identifier begins with 2 or more underscores and does not end in 2 or more underscores it is considered private\n",
    "2. The parser mangles the identifier to a random value that is longer than 255 characters. \n",
    "3. This is called mangling and happens always except for certain conditions.\n",
    "4. Thus its a good idea to avoid using such identifiers."
   ]
  },
  {
   "cell_type": "markdown",
   "metadata": {},
   "source": [
    "### Literals - there are the following kinds of literals\n",
    "1. String \n",
    "2. Bytes\n",
    "3. Integer\n",
    "4. Float\n",
    "5. Imaginary number\n",
    "\n",
    "Booleans are basically literals that can have either 1 or 0 value."
   ]
  },
  {
   "cell_type": "code",
   "execution_count": 40,
   "metadata": {},
   "outputs": [
    {
     "data": {
      "text/plain": [
       "'string 1  string 2'"
      ]
     },
     "execution_count": 40,
     "metadata": {},
     "output_type": "execute_result"
    }
   ],
   "source": [
    "#String\n",
    "'some string' # string literal\n",
    "'a' # special form of string literal - character literal\n",
    "\n",
    "\n",
    "#Integer\n",
    "0b1010 # Integer in binary representation\n",
    "0xaa7 # Integer in hex\n",
    "34 # integer\n",
    "\n",
    "#Float - real numbers with integer and fractional part.\n",
    "24.8\n",
    "\n",
    "#Imaginary Number\n",
    "\n",
    "7 + 4j \n",
    "\n",
    "# Multiple adjacent string are concatenated\n",
    "\n",
    "'string 1 ' ' string 2'"
   ]
  },
  {
   "cell_type": "markdown",
   "metadata": {},
   "source": [
    "## Process Map \n",
    "1. Process map - https://medium.com/azure-monitor-from-a-programmers-perspective/essential-python-iv-b90fe8352b7e\n",
    "2. Debugger - https://medium.com/azure-monitor-from-a-programmers-perspective/essential-python-vi-8e3fb9cce828\n",
    "\n",
    "### Process Map of a program\n",
    "Let's look at the memory structures involved in running a program—the process map. Most compiled programs have similar structures.\n",
    "\n",
    "- A stack frame is created for each function in stack memory. So there is a frame for __main__ and simpleFunc()\n",
    "- __main__ frame is created when the program starts. simpleFunc frame is created when the function is invoked from the main.\n",
    "- A frame lasts in memory for as long as it executes. Post that, it's purged.\n",
    "- A frame also has a pointer to the memory address to which it has to return the program counter after execution.\n",
    "- Formal parameters are declared in the stack, and their values are stored in the heap.\n",
    "- For every parameter, literal value, or variable, a memory block is created in the heap and referred to by its ID. Thus, what gets assigned to the functions parameter is an alias to the object.\n",
    "- In __main__ someInt is created as a global variable and can be referenced by all other functions.\n",
    "- All variables local to a function are created in a symbol table part of the function's frame.\n",
    "- All functions return a value; if no explicit value is provided, it defaults to None\n",
    "\n",
    "Each function, when loaded in memory, gets a stack frame. Each frame has a local symbol table. In this table, entries are made for all local variable assignments.\n",
    "\n",
    "When a variable is referenced, it is first checked in the symbol table of the current frame, then in the frame of the enclosing frame, and finally in the global symbol table.\n",
    "\n",
    "Arguments are passed to a function by copying the value of the object reference. So, in the called function, a variable is declared that will contain a copy of the memory address the passing function has.\n"
   ]
  }
 ],
 "metadata": {
  "kernelspec": {
   "display_name": "Python 3",
   "language": "python",
   "name": "python3"
  },
  "language_info": {
   "codemirror_mode": {
    "name": "ipython",
    "version": 3
   },
   "file_extension": ".py",
   "mimetype": "text/x-python",
   "name": "python",
   "nbconvert_exporter": "python",
   "pygments_lexer": "ipython3",
   "version": "3.12.4"
  }
 },
 "nbformat": 4,
 "nbformat_minor": 2
}
