{
 "cells": [
  {
   "cell_type": "markdown",
   "metadata": {},
   "source": [
    "## User-defined functions\n",
    "`funcdef` :== [`<decorators>`] `def` `<funcname>` [`<type_params>`] `(` [`<parameter_list>`] `)` [`->` `<expression>`]:\\\n",
    "    `<suite>` \n",
    "\n",
    "`parameter_list` :== [`<position_only_parameters>`, `\\`] `,` `<position_or_keyword_params>` `,` [`<keyword_only_params>`]\n",
    "\n",
    "`parameter` =   `<identifier>` [`=` `<expression>`]\n",
    "\n",
    "## Parameter Resolution\n",
    "1. A parameter may be resolved by its position or by keyword.\n",
    "2. By default if both `\\` and `*` are not present then both position and keyword paramters can be provided. \n",
    "3. Position parameters are formal parameters who whose arguments are decided by their position from left to right\n",
    "4. Keyword parameters are formal params whose arguments are decided by keyword.\n",
    "5. Default parameters can be either positional or keyword and carry a default value which will be used if no argument is supplied at runtime.\n",
    "6. The default value is an object, as everything else in python, and is set at compile time. Its not evaluated again at runtime. This should be understood as it may have effects if an mutable object is used as default value.\n",
    "7. A special formal parameter of the kinf pointer to an object can be specified to hold any extra positional arguments supplied\n",
    "8. A special formal paramter of the kind pointer to an array of pointers to object can be specified to hold all extra keyword parameters supplied. \n",
    "9. A function can return a value. \n",
    "\n",
    "#### There are many rules that govern the usage of paramters. We will progressively build and examine these rules."
   ]
  },
  {
   "cell_type": "markdown",
   "metadata": {},
   "source": [
    "#### Passing arguments to positional parameters\n",
    "1. This is the most basic usage, something that we all have used many times in all programming languages.\n",
    "2. These are USED AS positional parameters and evaluated from left to right. So formal param `p1` gets `10` and `p2` gets `str`\n",
    "3. Note the 'USED AS' above. We can use them as keyword parameters also."
   ]
  },
  {
   "cell_type": "code",
   "execution_count": 5,
   "metadata": {},
   "outputs": [
    {
     "name": "stdout",
     "output_type": "stream",
     "text": [
      "p1=10, p2='str'\n"
     ]
    }
   ],
   "source": [
    "def func(p1,p2): \n",
    "    print(f'{p1=}, {p2=}')\n",
    "\n",
    "func(10,'str') # treated as positional params\n"
   ]
  },
  {
   "cell_type": "markdown",
   "metadata": {},
   "source": [
    "### Passing arguments to keyword paramters\n",
    "1. The same function can be passed arguments considering them as keywords"
   ]
  },
  {
   "cell_type": "code",
   "execution_count": 8,
   "metadata": {},
   "outputs": [
    {
     "name": "stdout",
     "output_type": "stream",
     "text": [
      "p1=10, p2='str'\n"
     ]
    }
   ],
   "source": [
    "def func(p1, p2): \n",
    "    print(f\"{p1=}, {p2=}\")\n",
    "\n",
    "func(p1=10, p2=\"str\")  # treated as keyword params"
   ]
  },
  {
   "cell_type": "markdown",
   "metadata": {},
   "source": [
    "##### But what if we want them passed as positional only??\n",
    "### Postional only params\n",
    "1. There is a special parameter `/` that expects no value.\n",
    "2. Its purpose is to say - 'All formal params before me are strictly positional'\n",
    "\n",
    "##### Why do we need them??\n",
    "1. Many built-in functions are implemented in C and they do not accept keyword arguments. This allows us to be consistent with C code.\n",
    "2. Some python methods (of a class) get the first argument as 'self'. This needs to be alwasys positional and is passed by Python internally. You will encounter this pattern very often with the constructor of a class.\n",
    "3. At times there is no inherent meaning to the names of a parameter. Consider a function `add(num1, num2)`. There is no need to have the developer pass keyowrd params. In fact, to a reader its a lot more intuitive to think of the function as adding any 2 arbitary numbers. "
   ]
  },
  {
   "cell_type": "code",
   "execution_count": 10,
   "metadata": {},
   "outputs": [
    {
     "name": "stdout",
     "output_type": "stream",
     "text": [
      "p1=10, p2='str'\n"
     ]
    }
   ],
   "source": [
    "def func(p1, p2, /):\n",
    "    print(f\"{p1=}, {p2=}\")\n",
    "\n",
    "# func(p1=10, p2=\"str\")  # Gives TypeError = we cannot now pass keyword params.\n",
    "\n",
    "func(10,'str') # this works. "
   ]
  },
  {
   "cell_type": "markdown",
   "metadata": {},
   "source": [
    "##### What if we want keyword only params.\n",
    "### Keyword only parameters\n",
    "1. There is a special parameter `*` that expects no value\n",
    "2. Presence of this parameter says 'From here on all parameters are keyword only'\n",
    "\n",
    "##### But why do you we need them?\n",
    "1. Allows us to reorder the paramters.\n",
    "2. We can alter the signature and add some default params without breaking existing code.\n",
    "3. Works great for functions that supports options.\n",
    "4. There are cases where we use a '*args' pattern to cat all left over positional arguments. This needs to be specified after all positional arguments are filled. There is another patters `**kwargs` to catch all left over keyword args. And it to needs to be specified last. If keyword only params construct was not there we will have to specify both `*args` and `**kwargs` and then extract.  "
   ]
  },
  {
   "cell_type": "code",
   "execution_count": 12,
   "metadata": {},
   "outputs": [
    {
     "name": "stdout",
     "output_type": "stream",
     "text": [
      "p1=10, p2='str'\n"
     ]
    }
   ],
   "source": [
    "def func(*, p1, p2):\n",
    "    print(f\"{p1=}, {p2=}\")\n",
    "\n",
    "# func(10, 'str') # throws TypeError \n",
    "\n",
    "func(p1 = 10, p2 = 'str') # this works.\n",
    "\n",
    "\n"
   ]
  },
  {
   "cell_type": "markdown",
   "metadata": {},
   "source": [
    "### Having positional only, keyword only and some params that can be both positional and keyword\n",
    "1. Use the `/` to first specify positional only params.\n",
    "2. Then specify params that can be both positional and keyword\n",
    "3. Use the '*' param to specify start of keyword only params."
   ]
  },
  {
   "cell_type": "code",
   "execution_count": 15,
   "metadata": {},
   "outputs": [
    {
     "name": "stdout",
     "output_type": "stream",
     "text": [
      "p1='positional', pk1='both', k1='kw'\n",
      "p1='positional', pk1='both', k1='kw'\n"
     ]
    }
   ],
   "source": [
    "def func(p1,/, pk1, *, k1):\n",
    "    print(f\"{p1=}, {pk1=}, {k1=}\")\n",
    "\n",
    "func('positional', 'both', k1 = 'kw') # works\n",
    "func(\"positional\", pk1 = \"both\", k1=\"kw\")  # works"
   ]
  },
  {
   "cell_type": "markdown",
   "metadata": {},
   "source": [
    "### Positional arguments cannot appear after keyword arguments.\n",
    "1. When calling a function that has multiple postional and keyword parameters then positional argument cannot be specified after a keyword one"
   ]
  },
  {
   "cell_type": "code",
   "execution_count": 20,
   "metadata": {},
   "outputs": [
    {
     "name": "stdout",
     "output_type": "stream",
     "text": [
      "p1='positional', pk1='both', pk2=10, k1='kw'\n"
     ]
    }
   ],
   "source": [
    "def func(p1, /, pk1, pk2, *, k1):\n",
    "    print(f\"{p1=}, {pk1=}, {pk2=}, {k1=}\")\n",
    "\n",
    "\n",
    "# func(\"positional\", pk1= \"both\",10,  k1=\"kw\")  # does not work\n",
    "func(\"positional\",  \"both\",pk2=10,  k1=\"kw\")  # works"
   ]
  },
  {
   "cell_type": "markdown",
   "metadata": {},
   "source": [
    "### Catch all 'left over' positional params\n",
    "1. At times the number of arguments that a function accepts is variable. \n",
    "2. The the catch all param for left over postional params is `*paramname`\n",
    "3. All the left overs are packed together in a tuple.\n",
    "4. The catch all should be the last param.\n",
    "5. A positional only seperator `/` is not allowed after the catch all. Its really not needed and no positional param can be provided after a positional catch all. All params post a positional only catch all are considered keyword only.\n",
    "6. In fact the carch all is nothing but the `*` param without a name. So when you want to ensure that random extra positional arguments should not be supplied we use `*` without a name. Else we give it a name and use that to reference all left over positional arguments.  "
   ]
  },
  {
   "cell_type": "code",
   "execution_count": 27,
   "metadata": {},
   "outputs": [
    {
     "name": "stdout",
     "output_type": "stream",
     "text": [
      "p1=10, allPositionals=(23, 'str')\n"
     ]
    }
   ],
   "source": [
    "def func1(p1, *allPositionals):\n",
    "    print(f'{p1=}, {allPositionals=}')\n",
    "\n",
    "def func2(*allPositionals, p1 ): # Here p1 is positional on.ly\n",
    "    print(f\"{p1=}, {allPositionals=}\")\n",
    "\n",
    "func1(10,23,'str') "
   ]
  },
  {
   "cell_type": "markdown",
   "metadata": {},
   "source": [
    "##### what if we have positional only and then a variable number of both positional and keyword followed by a few keyword options."
   ]
  },
  {
   "cell_type": "code",
   "execution_count": 28,
   "metadata": {},
   "outputs": [
    {
     "name": "stdout",
     "output_type": "stream",
     "text": [
      "p1=10, pk1=23, args=(34, 'str'), k1='key'\n"
     ]
    }
   ],
   "source": [
    "def func(p1,/,pk1, *args, k1):\n",
    "    print(f'{p1=}, {pk1=}, {args=}, {k1=}')\n",
    "\n",
    "# func(10, pk1=23, 34, \"str\", k1=\"key\")  # wont work as positional cannot come after keyword.\n",
    "func(10, 23, 34, \"str\", k1=\"key\")  # works."
   ]
  },
  {
   "cell_type": "markdown",
   "metadata": {},
   "source": [
    "### Catch all left over keyword arguments.\n",
    "1. The parameter has the pattern `**paramname`\n",
    "2. It obviously comes after all positional params and is the last keyword param\n",
    "3. No parameter can follow it\n",
    "4. They are packed into a dict."
   ]
  },
  {
   "cell_type": "code",
   "execution_count": 35,
   "metadata": {},
   "outputs": [
    {
     "name": "stdout",
     "output_type": "stream",
     "text": [
      "args=(10, 23, 34), kwargs={'k1': 10, 'k2': 'str'}\n",
      "pk1=10, args=(), kwargs={'k1': 10, 'k2': 'str'}\n",
      "pk1=10, args=(23, 34), kwargs={'k2': 'str'}\n",
      "pk1=10, args=(23, 34), k1='k1' kwargs={'k2': 'str'}\n",
      "{'k1': 10, 'k2': 'str'}\n"
     ]
    }
   ],
   "source": [
    "def func(*args, **kwargs): # fully left over\n",
    "    print(f'{args=}, {kwargs=}')\n",
    "\n",
    "func(10,23,34,k1=10,k2='str')\n",
    "\n",
    "\n",
    "def func(pk1, *args, **kwargs): # one positional/keyword followed by left overs\n",
    "    print(f\"{pk1=}, {args=}, {kwargs=}\")\n",
    "\n",
    "func(pk1=10,  k1=10, k2=\"str\") # since positional cannot come after keyword, if we call like this args will also be empty\n",
    "\n",
    "func(10, 23, 34, k2=\"str\") # works\n",
    "\n",
    "\n",
    "def func(pk1, *args,k1, **kwargs):  # one positional/keyword followed by left overs\n",
    "    print(f\"{pk1=}, {args=}, {k1=} {kwargs=}\")\n",
    "\n",
    "func(10, 23, 34,k1='k1', k2=\"str\")  # works\n",
    "\n",
    "def func(**kwargs):\n",
    "    print(f'{kwargs}')\n",
    "\n",
    "#func(10,k2=10) # Gives error as the func signature does not allow any positional arguments. \n",
    "\n",
    "func(k1=10, k2='str') # works."
   ]
  },
  {
   "cell_type": "markdown",
   "metadata": {},
   "source": [
    "### Default Value\n",
    "1. Any param can be provided a defualt value.\n",
    "2. If a positional parameter is provided a default value then post that all positional parameters mmust have a default value.\n",
    "3. In the case of keyword only params this rule does not apply as the order is irrelevant with them"
   ]
  },
  {
   "cell_type": "code",
   "execution_count": 41,
   "metadata": {},
   "outputs": [
    {
     "name": "stdout",
     "output_type": "stream",
     "text": [
      "p1=12, p2='str', kwargs={'p3': 'extra'}\n",
      "p1=12, p2='str'\n"
     ]
    }
   ],
   "source": [
    "def func(*, p1=10, p2, **kwargs):\n",
    "    print(f'{p1=}, {p2=}, {kwargs=}')\n",
    "\n",
    "func(p1=12, p2='str', p3='extra')\n",
    "\n",
    "def func(p1, p2=10):\n",
    "    print(f\"{p1=}, {p2=}\")\n",
    "\n",
    "# func(p1=12, p2=\"str\", p3=\"extra\") # extra params not allowed as catch all not present.\n",
    "\n",
    "func(p1=12, p2=\"str\")\n",
    "\n",
    "# def func(p1, p2=10, p3): # Wont work as non-default cannot follow default positional arguement.\n",
    "\n",
    "\n",
    "def func(p1, p2=10, *, p3): # this works as the special param for keyword only is added before p3.\n",
    "    pass"
   ]
  },
  {
   "cell_type": "markdown",
   "metadata": {},
   "source": [
    "### Function with mutable default value\n",
    "1. The default value of the function is set up in memory when the function is defined. Before its called.\n",
    "2. Subsequent calls do not alter the default value and the same object is used in subsequent calls that rely on default value\n",
    "3. This can have certain effects that we need to be aware of in case the default value is mutable and we mutate it in the function"
   ]
  },
  {
   "cell_type": "code",
   "execution_count": 48,
   "metadata": {},
   "outputs": [
    {
     "name": "stdout",
     "output_type": "stream",
     "text": [
      "4437508800 [1, 2, 3, 10]\n",
      "4437508800 [1, 2, 3, 10, 10]\n"
     ]
    }
   ],
   "source": [
    "def func(p1=[1,2,3]):\n",
    "    p1.append(10)\n",
    "    print(id(p1), p1) # the id of the object remains same across calls.\n",
    "\n",
    "func()\n",
    "func()"
   ]
  },
  {
   "cell_type": "markdown",
   "metadata": {},
   "source": [
    "### Returning values from a function"
   ]
  },
  {
   "cell_type": "code",
   "execution_count": 49,
   "metadata": {},
   "outputs": [
    {
     "name": "stdout",
     "output_type": "stream",
     "text": [
      "(10, 20)\n"
     ]
    }
   ],
   "source": [
    "# Returning Multiple Values\n",
    "def get_dimensions():\n",
    "    return 10, 20  # Returning a tuple\n",
    "\n",
    "print(get_dimensions())  # returns a tuple.\n"
   ]
  },
  {
   "cell_type": "markdown",
   "metadata": {},
   "source": [
    "### Annotations\n",
    "1. Python annotations are used to indicate the data type\n",
    "2. There are 2 main types of annotations - function annotations and variable annotation.\n",
    "3. They are not binding on Python and are just for the aid of the developer.\n",
    "4. There are however libraries that can be used in projects that enforce the types specified in annotations."
   ]
  },
  {
   "cell_type": "code",
   "execution_count": 55,
   "metadata": {},
   "outputs": [
    {
     "name": "stdout",
     "output_type": "stream",
     "text": [
      "{'a': <class 'int'>, 'b': <class 'int'>, 'return': <class 'int'>}\n",
      "()\n",
      "add(1,4)=5\n",
      "add('str1','str2')='str1str2'\n"
     ]
    }
   ],
   "source": [
    "# Annotations\n",
    "def add(a: int, b: int) -> int:\n",
    "    return a + b\n",
    "\n",
    "# add() is expected to take integers and return an integer\n",
    "\n",
    "# access annotation\n",
    "print(add.__annotations__)  # {'a': <class 'int'>, 'b': <class 'int'>, 'return': <class 'int'>}\n",
    "print(f\"{add(1,4)=}\") # takes in and returns an int.\n",
    "print(f\"{add('str1','str2')=}\") # takes strings and returns a string.\n",
    "\n"
   ]
  },
  {
   "cell_type": "markdown",
   "metadata": {},
   "source": [
    "### Generic Functions\n",
    "1. Lets say you want to define a function with annotations for controlling the type of params and return value\n",
    "2. But your function supports multiple types of parameters - what will you do? Surely you dont want to write a separate function for each type.\n",
    "3. This is where generics come in."
   ]
  },
  {
   "cell_type": "code",
   "execution_count": 62,
   "metadata": {},
   "outputs": [
    {
     "name": "stdout",
     "output_type": "stream",
     "text": [
      "(T,)\n",
      "func(1,2)=3\n",
      "func([1,2], [3,4])=[1, 2, 3, 4]\n"
     ]
    }
   ],
   "source": [
    "def func[T](p1: T, p2: T) -> T: # A generic function\n",
    "    retVal = None\n",
    "    if isinstance(p1, int): # check if both are integers\n",
    "        retVal = p1 + p2\n",
    "    if isinstance(p1, list): # check for list\n",
    "        p1.extend(p2)\n",
    "        retVal = p1\n",
    "    return retVal\n",
    "\n",
    "print(func.__type_params__) # gives a list of all types defined by the function\n",
    "print(f'{func(1,2)=}')\n",
    "print(f'{func([1,2], [3,4])=}')"
   ]
  },
  {
   "cell_type": "markdown",
   "metadata": {},
   "source": [
    "1. What the above code does during compilation is create an annotation scope which is not bound to any name!\n",
    "2. Within this scope a new function is defined say TYPE_PARAMS_OF_func(). Where the trailing 'func' is the name of out function\n",
    "2. In this function the type `T` is created: `T = typing.TypeVar(\"T\")`\n",
    "3. Next a nested function thats exactly the same as our function is created\n",
    "4. The nested the value of `__type_params__` is also set in \n",
    "5. Finally the outer function returns the nested function (our original function)"
   ]
  },
  {
   "cell_type": "markdown",
   "metadata": {},
   "source": [
    "`annotation-def TYPE_PARAMS_OF_func():`\\\n",
    "    `T = typing.TypeVar(\"T\")`\\\n",
    "    `def func(arg: T): ...`\\\n",
    "    `func.__type_params__ = (T,)`\\\n",
    "    `return func`\\\n",
    "`func = TYPE_PARAMS_OF_func()`"
   ]
  },
  {
   "cell_type": "markdown",
   "metadata": {},
   "source": [
    "### Functions as first class citizens\n",
    "1. Functions are objects and therefore can be assigned to a variable.\n",
    "2. They can be assigned to a variable\n",
    "3. Passes as params to a function\n",
    "4. Returned from a function\n",
    "5. Can be packed in a composite data type like a list."
   ]
  },
  {
   "cell_type": "code",
   "execution_count": 10,
   "metadata": {},
   "outputs": [
    {
     "name": "stdout",
     "output_type": "stream",
     "text": [
      "Hello!\n"
     ]
    }
   ],
   "source": [
    "# Assigning Functions to Variables\n",
    "\n",
    "def greet():\n",
    "    print(\"Hello!\")\n",
    "\n",
    "# Assign the greet function to a new variable\n",
    "greeting = greet\n",
    "\n",
    "# Call the function using the new variable\n",
    "greeting()  # Output: Hello!\n"
   ]
  },
  {
   "cell_type": "code",
   "execution_count": 11,
   "metadata": {},
   "outputs": [
    {
     "name": "stdout",
     "output_type": "stream",
     "text": [
      "Hello from say_hello!\n"
     ]
    }
   ],
   "source": [
    "# Passing a Function as an Argument\n",
    "\n",
    "def call_function(fn):\n",
    "    # Call the function passed as an argument\n",
    "    fn()\n",
    "\n",
    "def say_hello():\n",
    "    print(\"Hello from say_hello!\")\n",
    "\n",
    "# Pass say_hello as an argument\n",
    "call_function(say_hello)  # Output: Hello from say_hello!\n"
   ]
  },
  {
   "cell_type": "code",
   "execution_count": 12,
   "metadata": {},
   "outputs": [
    {
     "name": "stdout",
     "output_type": "stream",
     "text": [
      "Hello from the inner function!\n"
     ]
    }
   ],
   "source": [
    "# Returning a Function from Another Function\n",
    "\n",
    "def outer_function():\n",
    "    def inner_function():\n",
    "        print(\"Hello from the inner function!\")\n",
    "    \n",
    "    return inner_function  # Return the inner function\n",
    "\n",
    "# Get the inner function\n",
    "my_function = outer_function()\n",
    "\n",
    "# Call the returned function\n",
    "my_function()  # Output: Hello from the inner function!\n"
   ]
  },
  {
   "cell_type": "code",
   "execution_count": 13,
   "metadata": {},
   "outputs": [
    {
     "name": "stdout",
     "output_type": "stream",
     "text": [
      "15\n",
      "5\n"
     ]
    }
   ],
   "source": [
    "# Storing Functions in Data Structures\n",
    "\n",
    "def add(x, y):\n",
    "    return x + y\n",
    "\n",
    "def subtract(x, y):\n",
    "    return x - y\n",
    "\n",
    "# Store functions in a list\n",
    "operations = [add, subtract]\n",
    "\n",
    "# Call functions from the list\n",
    "print(operations[0](10, 5))  # Output: 15 (calls add(10, 5))\n",
    "print(operations[1](10, 5))  # Output: 5  (calls subtract(10, 5))\n"
   ]
  },
  {
   "cell_type": "code",
   "execution_count": 14,
   "metadata": {},
   "outputs": [
    {
     "name": "stdout",
     "output_type": "stream",
     "text": [
      "my_function\n",
      "{'__name__': '__main__', '__doc__': 'Automatically created module for IPython interactive environment', '__package__': None, '__loader__': None, '__spec__': None, '__builtin__': <module 'builtins' (built-in)>, '__builtins__': <module 'builtins' (built-in)>, '_ih': ['', '# Defining a Function\\ndef greet(name):\\n    return f\"Hello, {name}!\"\\n\\n# Calling the Function\\nmessage = greet(\"Jayant\")\\nprint(message)  # Output: Hello, Jayant!', '# Returning Multiple Values\\ndef get_dimensions():\\n    return 10, 20  # Returning a tuple\\n\\nlength, width = get_dimensions()\\nprint(length, width)  # 10 20', '# Formal vs. Actual Parameters\\n\\n# Formal parameters: a, b\\ndef add(a, b):\\n    return a + b\\n\\n# Actual parameters: 3, 4\\nresult = add(3, 4)', '# Formal vs. Actual Parameters\\n\\n# Formal parameters: a, b\\ndef add(a, b):\\n    return a + b\\n\\n# Actual parameters: 3, 4\\nresult = add(3, 4)', \"# Annotations\\ndef add(a: int, b: int) -> int:\\n    return a + b\\n\\n# add() is expected to take integers and return an integer\\n\\n# access annotation\\nprint(add.__annotations__)  # {'a': <class 'int'>, 'b': <class 'int'>, 'return': <class 'int'>}\", '# Positional arguments\\ndef display_info(name, age):\\n    print(f\"Name: {name}, Age: {age}\")\\n\\ndisplay_info(\"Jayant\", 24)  # Positional\\n\\n# Keyword arguments\\ndisplay_info(age=24, name=\"Jayant\")  # Keyword', '# Variable Positional Arguments (*args)\\n\\ndef multiply(*args):\\n    result = 1\\n    for num in args:\\n        result *= num\\n    return result\\n\\nprint(multiply(2, 3, 4))  # 24', '# Variable Keyword Arguments (**kwargs)\\ndef display_info(**kwargs):\\n    for key, value in kwargs.items():\\n        print(f\"{key}: {value}\")\\n\\ndisplay_info(name=\"Jayant\", age=24, occupation=\"Engineer\")', 'def greet():\\n    print(\"Hello!\")\\n\\n# Assign the greet function to a new variable\\ngreeting = greet\\n\\n# Call the function using the new variable\\ngreeting()  # Output: Hello!', '# Assigning Functions to Variables\\n\\ndef greet():\\n    print(\"Hello!\")\\n\\n# Assign the greet function to a new variable\\ngreeting = greet\\n\\n# Call the function using the new variable\\ngreeting()  # Output: Hello!', '# Passing a Function as an Argument\\n\\ndef call_function(fn):\\n    # Call the function passed as an argument\\n    fn()\\n\\ndef say_hello():\\n    print(\"Hello from say_hello!\")\\n\\n# Pass say_hello as an argument\\ncall_function(say_hello)  # Output: Hello from say_hello!', '# Returning a Function from Another Function\\n\\ndef outer_function():\\n    def inner_function():\\n        print(\"Hello from the inner function!\")\\n    \\n    return inner_function  # Return the inner function\\n\\n# Get the inner function\\nmy_function = outer_function()\\n\\n# Call the returned function\\nmy_function()  # Output: Hello from the inner function!', '# Storing Functions in Data Structures\\n\\ndef add(x, y):\\n    return x + y\\n\\ndef subtract(x, y):\\n    return x - y\\n\\n# Store functions in a list\\noperations = [add, subtract]\\n\\n# Call functions from the list\\nprint(operations[0](10, 5))  # Output: 15 (calls add(10, 5))\\nprint(operations[1](10, 5))  # Output: 5  (calls subtract(10, 5))', '# Function Attributes\\n\\ndef my_function():\\n    print(\"Hello!\")\\n\\n# Function\\'s name\\nprint(my_function.__name__)  # Output: my_function\\n\\n# Global variables accessible in the function\\'s scope\\nprint(my_function.__globals__)  # Prints global variables in the module'], '_oh': {}, '_dh': [PosixPath('/workspaces/Python-and-Langchain/Python/S7_Functions')], 'In': ['', '# Defining a Function\\ndef greet(name):\\n    return f\"Hello, {name}!\"\\n\\n# Calling the Function\\nmessage = greet(\"Jayant\")\\nprint(message)  # Output: Hello, Jayant!', '# Returning Multiple Values\\ndef get_dimensions():\\n    return 10, 20  # Returning a tuple\\n\\nlength, width = get_dimensions()\\nprint(length, width)  # 10 20', '# Formal vs. Actual Parameters\\n\\n# Formal parameters: a, b\\ndef add(a, b):\\n    return a + b\\n\\n# Actual parameters: 3, 4\\nresult = add(3, 4)', '# Formal vs. Actual Parameters\\n\\n# Formal parameters: a, b\\ndef add(a, b):\\n    return a + b\\n\\n# Actual parameters: 3, 4\\nresult = add(3, 4)', \"# Annotations\\ndef add(a: int, b: int) -> int:\\n    return a + b\\n\\n# add() is expected to take integers and return an integer\\n\\n# access annotation\\nprint(add.__annotations__)  # {'a': <class 'int'>, 'b': <class 'int'>, 'return': <class 'int'>}\", '# Positional arguments\\ndef display_info(name, age):\\n    print(f\"Name: {name}, Age: {age}\")\\n\\ndisplay_info(\"Jayant\", 24)  # Positional\\n\\n# Keyword arguments\\ndisplay_info(age=24, name=\"Jayant\")  # Keyword', '# Variable Positional Arguments (*args)\\n\\ndef multiply(*args):\\n    result = 1\\n    for num in args:\\n        result *= num\\n    return result\\n\\nprint(multiply(2, 3, 4))  # 24', '# Variable Keyword Arguments (**kwargs)\\ndef display_info(**kwargs):\\n    for key, value in kwargs.items():\\n        print(f\"{key}: {value}\")\\n\\ndisplay_info(name=\"Jayant\", age=24, occupation=\"Engineer\")', 'def greet():\\n    print(\"Hello!\")\\n\\n# Assign the greet function to a new variable\\ngreeting = greet\\n\\n# Call the function using the new variable\\ngreeting()  # Output: Hello!', '# Assigning Functions to Variables\\n\\ndef greet():\\n    print(\"Hello!\")\\n\\n# Assign the greet function to a new variable\\ngreeting = greet\\n\\n# Call the function using the new variable\\ngreeting()  # Output: Hello!', '# Passing a Function as an Argument\\n\\ndef call_function(fn):\\n    # Call the function passed as an argument\\n    fn()\\n\\ndef say_hello():\\n    print(\"Hello from say_hello!\")\\n\\n# Pass say_hello as an argument\\ncall_function(say_hello)  # Output: Hello from say_hello!', '# Returning a Function from Another Function\\n\\ndef outer_function():\\n    def inner_function():\\n        print(\"Hello from the inner function!\")\\n    \\n    return inner_function  # Return the inner function\\n\\n# Get the inner function\\nmy_function = outer_function()\\n\\n# Call the returned function\\nmy_function()  # Output: Hello from the inner function!', '# Storing Functions in Data Structures\\n\\ndef add(x, y):\\n    return x + y\\n\\ndef subtract(x, y):\\n    return x - y\\n\\n# Store functions in a list\\noperations = [add, subtract]\\n\\n# Call functions from the list\\nprint(operations[0](10, 5))  # Output: 15 (calls add(10, 5))\\nprint(operations[1](10, 5))  # Output: 5  (calls subtract(10, 5))', '# Function Attributes\\n\\ndef my_function():\\n    print(\"Hello!\")\\n\\n# Function\\'s name\\nprint(my_function.__name__)  # Output: my_function\\n\\n# Global variables accessible in the function\\'s scope\\nprint(my_function.__globals__)  # Prints global variables in the module'], 'Out': {}, 'get_ipython': <bound method InteractiveShell.get_ipython of <ipykernel.zmqshell.ZMQInteractiveShell object at 0x70fde429f1a0>>, 'exit': <IPython.core.autocall.ZMQExitAutocall object at 0x70fde429f350>, 'quit': <IPython.core.autocall.ZMQExitAutocall object at 0x70fde429f350>, 'open': <function open at 0x70fde9373c40>, '_': '', '__': '', '___': '', '__vsc_ipynb_file__': '/workspaces/Python-and-Langchain/Python/S7_Functions/functions.ipynb', '_i': '# Storing Functions in Data Structures\\n\\ndef add(x, y):\\n    return x + y\\n\\ndef subtract(x, y):\\n    return x - y\\n\\n# Store functions in a list\\noperations = [add, subtract]\\n\\n# Call functions from the list\\nprint(operations[0](10, 5))  # Output: 15 (calls add(10, 5))\\nprint(operations[1](10, 5))  # Output: 5  (calls subtract(10, 5))', '_ii': '# Returning a Function from Another Function\\n\\ndef outer_function():\\n    def inner_function():\\n        print(\"Hello from the inner function!\")\\n    \\n    return inner_function  # Return the inner function\\n\\n# Get the inner function\\nmy_function = outer_function()\\n\\n# Call the returned function\\nmy_function()  # Output: Hello from the inner function!', '_iii': '# Passing a Function as an Argument\\n\\ndef call_function(fn):\\n    # Call the function passed as an argument\\n    fn()\\n\\ndef say_hello():\\n    print(\"Hello from say_hello!\")\\n\\n# Pass say_hello as an argument\\ncall_function(say_hello)  # Output: Hello from say_hello!', '_i1': '# Defining a Function\\ndef greet(name):\\n    return f\"Hello, {name}!\"\\n\\n# Calling the Function\\nmessage = greet(\"Jayant\")\\nprint(message)  # Output: Hello, Jayant!', 'greet': <function greet at 0x70fde40fc7c0>, 'message': 'Hello, Jayant!', '_i2': '# Returning Multiple Values\\ndef get_dimensions():\\n    return 10, 20  # Returning a tuple\\n\\nlength, width = get_dimensions()\\nprint(length, width)  # 10 20', 'get_dimensions': <function get_dimensions at 0x70fde40fd1c0>, 'length': 10, 'width': 20, '_i3': '# Formal vs. Actual Parameters\\n\\n# Formal parameters: a, b\\ndef add(a, b):\\n    return a + b\\n\\n# Actual parameters: 3, 4\\nresult = add(3, 4)', 'add': <function add at 0x70fde40fce00>, 'result': 7, '_i4': '# Formal vs. Actual Parameters\\n\\n# Formal parameters: a, b\\ndef add(a, b):\\n    return a + b\\n\\n# Actual parameters: 3, 4\\nresult = add(3, 4)', '_i5': \"# Annotations\\ndef add(a: int, b: int) -> int:\\n    return a + b\\n\\n# add() is expected to take integers and return an integer\\n\\n# access annotation\\nprint(add.__annotations__)  # {'a': <class 'int'>, 'b': <class 'int'>, 'return': <class 'int'>}\", '_i6': '# Positional arguments\\ndef display_info(name, age):\\n    print(f\"Name: {name}, Age: {age}\")\\n\\ndisplay_info(\"Jayant\", 24)  # Positional\\n\\n# Keyword arguments\\ndisplay_info(age=24, name=\"Jayant\")  # Keyword', 'display_info': <function display_info at 0x70fde40fd260>, '_i7': '# Variable Positional Arguments (*args)\\n\\ndef multiply(*args):\\n    result = 1\\n    for num in args:\\n        result *= num\\n    return result\\n\\nprint(multiply(2, 3, 4))  # 24', 'multiply': <function multiply at 0x70fde40fccc0>, '_i8': '# Variable Keyword Arguments (**kwargs)\\ndef display_info(**kwargs):\\n    for key, value in kwargs.items():\\n        print(f\"{key}: {value}\")\\n\\ndisplay_info(name=\"Jayant\", age=24, occupation=\"Engineer\")', '_i9': 'def greet():\\n    print(\"Hello!\")\\n\\n# Assign the greet function to a new variable\\ngreeting = greet\\n\\n# Call the function using the new variable\\ngreeting()  # Output: Hello!', 'greeting': <function greet at 0x70fde40fc7c0>, '_i10': '# Assigning Functions to Variables\\n\\ndef greet():\\n    print(\"Hello!\")\\n\\n# Assign the greet function to a new variable\\ngreeting = greet\\n\\n# Call the function using the new variable\\ngreeting()  # Output: Hello!', '_i11': '# Passing a Function as an Argument\\n\\ndef call_function(fn):\\n    # Call the function passed as an argument\\n    fn()\\n\\ndef say_hello():\\n    print(\"Hello from say_hello!\")\\n\\n# Pass say_hello as an argument\\ncall_function(say_hello)  # Output: Hello from say_hello!', 'call_function': <function call_function at 0x70fde40fcfe0>, 'say_hello': <function say_hello at 0x70fde40fd6c0>, '_i12': '# Returning a Function from Another Function\\n\\ndef outer_function():\\n    def inner_function():\\n        print(\"Hello from the inner function!\")\\n    \\n    return inner_function  # Return the inner function\\n\\n# Get the inner function\\nmy_function = outer_function()\\n\\n# Call the returned function\\nmy_function()  # Output: Hello from the inner function!', 'outer_function': <function outer_function at 0x70fde40fcc20>, 'my_function': <function my_function at 0x70fde40fd580>, '_i13': '# Storing Functions in Data Structures\\n\\ndef add(x, y):\\n    return x + y\\n\\ndef subtract(x, y):\\n    return x - y\\n\\n# Store functions in a list\\noperations = [add, subtract]\\n\\n# Call functions from the list\\nprint(operations[0](10, 5))  # Output: 15 (calls add(10, 5))\\nprint(operations[1](10, 5))  # Output: 5  (calls subtract(10, 5))', 'subtract': <function subtract at 0x70fde40fd4e0>, 'operations': [<function add at 0x70fde40fce00>, <function subtract at 0x70fde40fd4e0>], '_i14': '# Function Attributes\\n\\ndef my_function():\\n    print(\"Hello!\")\\n\\n# Function\\'s name\\nprint(my_function.__name__)  # Output: my_function\\n\\n# Global variables accessible in the function\\'s scope\\nprint(my_function.__globals__)  # Prints global variables in the module'}\n"
     ]
    }
   ],
   "source": [
    "# Function Attributes\n",
    "\n",
    "def my_function():\n",
    "    print(\"Hello!\")\n",
    "\n",
    "# Function's name\n",
    "print(my_function.__name__)  # Output: my_function\n",
    "\n",
    "# Global variables accessible in the function's scope\n",
    "print(my_function.__globals__)  # Prints global variables in the module\n"
   ]
  },
  {
   "cell_type": "markdown",
   "metadata": {},
   "source": [
    "### Anonymous Functions with lambda"
   ]
  },
  {
   "cell_type": "code",
   "execution_count": 15,
   "metadata": {},
   "outputs": [
    {
     "name": "stdout",
     "output_type": "stream",
     "text": [
      "7\n"
     ]
    }
   ],
   "source": [
    "add = lambda x, y: x + y\n",
    "print(add(3, 4))  # Output: 7\n"
   ]
  },
  {
   "cell_type": "code",
   "execution_count": 16,
   "metadata": {},
   "outputs": [
    {
     "name": "stdout",
     "output_type": "stream",
     "text": [
      "[1, 4, 9, 16]\n"
     ]
    }
   ],
   "source": [
    "# Example with map\n",
    "numbers = [1, 2, 3, 4]\n",
    "squares = list(map(lambda x: x**2, numbers))\n",
    "print(squares)  # Output: [1, 4, 9, 16]\n"
   ]
  },
  {
   "cell_type": "markdown",
   "metadata": {},
   "source": [
    "### Built-In functions\n",
    "1. These are functions provided by Python interpreter\n",
    "2. They are always available in any scope\n",
    "3. We look at a few useful ones here.\n",
    "4. A more comprehensive list is here: https://docs.python.org/3.13/library/functions.html"
   ]
  },
  {
   "cell_type": "markdown",
   "metadata": {},
   "source": [
    "#### callable()\n",
    "1. Returns boolean - True if the object _appears_ callable.  \n",
    "2. Any object that implements the `__call__()` method is callable.\n",
    "3. The presence of this method does not guarantee that the call will be successful."
   ]
  },
  {
   "cell_type": "code",
   "execution_count": 67,
   "metadata": {},
   "outputs": [
    {
     "name": "stdout",
     "output_type": "stream",
     "text": [
      "callable(func)=True\n",
      "callable(A)=True\n",
      "callable(a)=True\n",
      "callable(B)=True\n",
      "callable(b)=False\n",
      "callable(val)=False\n"
     ]
    }
   ],
   "source": [
    "# callable()\n",
    "\n",
    "def func():\n",
    "    pass\n",
    "\n",
    "print(f'{callable(func)=}') # A function is callable.\n",
    "\n",
    "class A:\n",
    "    def __call__():\n",
    "        print('Call method of the class')\n",
    "\n",
    "print(f'{callable(A)=}')\n",
    "\n",
    "a = A()\n",
    "\n",
    "print(f\"{callable(a)=}\")\n",
    "\n",
    "\n",
    "class B:\n",
    "    pass # the  __call__ is not implemented\n",
    "\n",
    "print(f\"{callable(B)=}\") # will be true as classes are always callable and return a new instance.\n",
    "\n",
    "b = B()\n",
    "\n",
    "print(f\"{callable(b)=}\") # this is false now.\n",
    "\n",
    "val: int = 10\n",
    "print(f\"{callable(val)=}\") # this is obviously false."
   ]
  },
  {
   "cell_type": "markdown",
   "metadata": {},
   "source": [
    "#### dir() & dir(x)\n",
    "1. When used without an argument it rerutns the list of all names in the local scope.\n",
    "2. With argument, returns the a list of valid attributes of the object. "
   ]
  },
  {
   "cell_type": "code",
   "execution_count": 71,
   "metadata": {},
   "outputs": [
    {
     "name": "stdout",
     "output_type": "stream",
     "text": [
      "['val2']\n"
     ]
    },
    {
     "data": {
      "text/plain": [
       "['__annotations__',\n",
       " '__builtins__',\n",
       " '__call__',\n",
       " '__class__',\n",
       " '__closure__',\n",
       " '__code__',\n",
       " '__defaults__',\n",
       " '__delattr__',\n",
       " '__dict__',\n",
       " '__dir__',\n",
       " '__doc__',\n",
       " '__eq__',\n",
       " '__format__',\n",
       " '__ge__',\n",
       " '__get__',\n",
       " '__getattribute__',\n",
       " '__getstate__',\n",
       " '__globals__',\n",
       " '__gt__',\n",
       " '__hash__',\n",
       " '__init__',\n",
       " '__init_subclass__',\n",
       " '__kwdefaults__',\n",
       " '__le__',\n",
       " '__lt__',\n",
       " '__module__',\n",
       " '__name__',\n",
       " '__ne__',\n",
       " '__new__',\n",
       " '__qualname__',\n",
       " '__reduce__',\n",
       " '__reduce_ex__',\n",
       " '__repr__',\n",
       " '__setattr__',\n",
       " '__sizeof__',\n",
       " '__str__',\n",
       " '__subclasshook__',\n",
       " '__type_params__']"
      ]
     },
     "execution_count": 71,
     "metadata": {},
     "output_type": "execute_result"
    }
   ],
   "source": [
    "val = 1\n",
    "def func():\n",
    "    val2 = 2\n",
    "    print(dir()) # print all the attributes local to function\n",
    "\n",
    "func()\n",
    "dir(func) # print all the attributes of the function object.\n"
   ]
  },
  {
   "cell_type": "markdown",
   "metadata": {},
   "source": [
    "#### eval()\n"
   ]
  }
 ],
 "metadata": {
  "kernelspec": {
   "display_name": "Python 3",
   "language": "python",
   "name": "python3"
  },
  "language_info": {
   "codemirror_mode": {
    "name": "ipython",
    "version": 3
   },
   "file_extension": ".py",
   "mimetype": "text/x-python",
   "name": "python",
   "nbconvert_exporter": "python",
   "pygments_lexer": "ipython3",
   "version": "3.12.4"
  }
 },
 "nbformat": 4,
 "nbformat_minor": 2
}
