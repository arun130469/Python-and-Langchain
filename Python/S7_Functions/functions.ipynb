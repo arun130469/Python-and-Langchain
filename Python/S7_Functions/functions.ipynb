{
 "cells": [
  {
   "cell_type": "code",
   "execution_count": 1,
   "metadata": {},
   "outputs": [
    {
     "name": "stdout",
     "output_type": "stream",
     "text": [
      "Hello, Jayant!\n"
     ]
    }
   ],
   "source": [
    "# Defining a Function\n",
    "def greet(name):\n",
    "    return f\"Hello, {name}!\"\n",
    "\n",
    "# Calling the Function\n",
    "message = greet(\"Jayant\")\n",
    "print(message)  # Output: Hello, Jayant!"
   ]
  },
  {
   "cell_type": "code",
   "execution_count": 2,
   "metadata": {},
   "outputs": [
    {
     "name": "stdout",
     "output_type": "stream",
     "text": [
      "10 20\n"
     ]
    }
   ],
   "source": [
    "# Returning Multiple Values\n",
    "def get_dimensions():\n",
    "    return 10, 20  # Returning a tuple\n",
    "\n",
    "length, width = get_dimensions()\n",
    "print(length, width)  # 10 20\n"
   ]
  },
  {
   "cell_type": "code",
   "execution_count": 4,
   "metadata": {},
   "outputs": [],
   "source": [
    "# Formal vs. Actual Parameters\n",
    "\n",
    "# Formal parameters: a, b\n",
    "def add(a, b):\n",
    "    return a + b\n",
    "\n",
    "# Actual parameters: 3, 4\n",
    "result = add(3, 4)\n"
   ]
  },
  {
   "cell_type": "code",
   "execution_count": 5,
   "metadata": {},
   "outputs": [
    {
     "name": "stdout",
     "output_type": "stream",
     "text": [
      "{'a': <class 'int'>, 'b': <class 'int'>, 'return': <class 'int'>}\n"
     ]
    }
   ],
   "source": [
    "# Annotations\n",
    "def add(a: int, b: int) -> int:\n",
    "    return a + b\n",
    "\n",
    "# add() is expected to take integers and return an integer\n",
    "\n",
    "# access annotation\n",
    "print(add.__annotations__)  # {'a': <class 'int'>, 'b': <class 'int'>, 'return': <class 'int'>}\n",
    "\n"
   ]
  },
  {
   "cell_type": "code",
   "execution_count": 6,
   "metadata": {},
   "outputs": [
    {
     "name": "stdout",
     "output_type": "stream",
     "text": [
      "Name: Jayant, Age: 24\n",
      "Name: Jayant, Age: 24\n"
     ]
    }
   ],
   "source": [
    "# Positional arguments\n",
    "def display_info(name, age):\n",
    "    print(f\"Name: {name}, Age: {age}\")\n",
    "\n",
    "display_info(\"Jayant\", 24)  # Positional\n",
    "\n",
    "# Keyword arguments\n",
    "display_info(age=24, name=\"Jayant\")  # Keyword\n"
   ]
  },
  {
   "cell_type": "code",
   "execution_count": 7,
   "metadata": {},
   "outputs": [
    {
     "name": "stdout",
     "output_type": "stream",
     "text": [
      "24\n"
     ]
    }
   ],
   "source": [
    "# Variable Positional Arguments (*args)\n",
    "\n",
    "def multiply(*args):\n",
    "    result = 1\n",
    "    for num in args:\n",
    "        result *= num\n",
    "    return result\n",
    "\n",
    "print(multiply(2, 3, 4))  # 24\n"
   ]
  },
  {
   "cell_type": "code",
   "execution_count": 8,
   "metadata": {},
   "outputs": [
    {
     "name": "stdout",
     "output_type": "stream",
     "text": [
      "name: Jayant\n",
      "age: 24\n",
      "occupation: Engineer\n"
     ]
    }
   ],
   "source": [
    "# Variable Keyword Arguments (**kwargs)\n",
    "def display_info(**kwargs):\n",
    "    for key, value in kwargs.items():\n",
    "        print(f\"{key}: {value}\")\n",
    "\n",
    "display_info(name=\"Jayant\", age=24, occupation=\"Engineer\")\n"
   ]
  },
  {
   "cell_type": "markdown",
   "metadata": {},
   "source": [
    "Function Object"
   ]
  },
  {
   "cell_type": "code",
   "execution_count": 10,
   "metadata": {},
   "outputs": [
    {
     "name": "stdout",
     "output_type": "stream",
     "text": [
      "Hello!\n"
     ]
    }
   ],
   "source": [
    "# Assigning Functions to Variables\n",
    "\n",
    "def greet():\n",
    "    print(\"Hello!\")\n",
    "\n",
    "# Assign the greet function to a new variable\n",
    "greeting = greet\n",
    "\n",
    "# Call the function using the new variable\n",
    "greeting()  # Output: Hello!\n"
   ]
  },
  {
   "cell_type": "code",
   "execution_count": 11,
   "metadata": {},
   "outputs": [
    {
     "name": "stdout",
     "output_type": "stream",
     "text": [
      "Hello from say_hello!\n"
     ]
    }
   ],
   "source": [
    "# Passing a Function as an Argument\n",
    "\n",
    "def call_function(fn):\n",
    "    # Call the function passed as an argument\n",
    "    fn()\n",
    "\n",
    "def say_hello():\n",
    "    print(\"Hello from say_hello!\")\n",
    "\n",
    "# Pass say_hello as an argument\n",
    "call_function(say_hello)  # Output: Hello from say_hello!\n"
   ]
  },
  {
   "cell_type": "code",
   "execution_count": 12,
   "metadata": {},
   "outputs": [
    {
     "name": "stdout",
     "output_type": "stream",
     "text": [
      "Hello from the inner function!\n"
     ]
    }
   ],
   "source": [
    "# Returning a Function from Another Function\n",
    "\n",
    "def outer_function():\n",
    "    def inner_function():\n",
    "        print(\"Hello from the inner function!\")\n",
    "    \n",
    "    return inner_function  # Return the inner function\n",
    "\n",
    "# Get the inner function\n",
    "my_function = outer_function()\n",
    "\n",
    "# Call the returned function\n",
    "my_function()  # Output: Hello from the inner function!\n"
   ]
  },
  {
   "cell_type": "code",
   "execution_count": 13,
   "metadata": {},
   "outputs": [
    {
     "name": "stdout",
     "output_type": "stream",
     "text": [
      "15\n",
      "5\n"
     ]
    }
   ],
   "source": [
    "# Storing Functions in Data Structures\n",
    "\n",
    "def add(x, y):\n",
    "    return x + y\n",
    "\n",
    "def subtract(x, y):\n",
    "    return x - y\n",
    "\n",
    "# Store functions in a list\n",
    "operations = [add, subtract]\n",
    "\n",
    "# Call functions from the list\n",
    "print(operations[0](10, 5))  # Output: 15 (calls add(10, 5))\n",
    "print(operations[1](10, 5))  # Output: 5  (calls subtract(10, 5))\n"
   ]
  },
  {
   "cell_type": "code",
   "execution_count": 14,
   "metadata": {},
   "outputs": [
    {
     "name": "stdout",
     "output_type": "stream",
     "text": [
      "my_function\n",
      "{'__name__': '__main__', '__doc__': 'Automatically created module for IPython interactive environment', '__package__': None, '__loader__': None, '__spec__': None, '__builtin__': <module 'builtins' (built-in)>, '__builtins__': <module 'builtins' (built-in)>, '_ih': ['', '# Defining a Function\\ndef greet(name):\\n    return f\"Hello, {name}!\"\\n\\n# Calling the Function\\nmessage = greet(\"Jayant\")\\nprint(message)  # Output: Hello, Jayant!', '# Returning Multiple Values\\ndef get_dimensions():\\n    return 10, 20  # Returning a tuple\\n\\nlength, width = get_dimensions()\\nprint(length, width)  # 10 20', '# Formal vs. Actual Parameters\\n\\n# Formal parameters: a, b\\ndef add(a, b):\\n    return a + b\\n\\n# Actual parameters: 3, 4\\nresult = add(3, 4)', '# Formal vs. Actual Parameters\\n\\n# Formal parameters: a, b\\ndef add(a, b):\\n    return a + b\\n\\n# Actual parameters: 3, 4\\nresult = add(3, 4)', \"# Annotations\\ndef add(a: int, b: int) -> int:\\n    return a + b\\n\\n# add() is expected to take integers and return an integer\\n\\n# access annotation\\nprint(add.__annotations__)  # {'a': <class 'int'>, 'b': <class 'int'>, 'return': <class 'int'>}\", '# Positional arguments\\ndef display_info(name, age):\\n    print(f\"Name: {name}, Age: {age}\")\\n\\ndisplay_info(\"Jayant\", 24)  # Positional\\n\\n# Keyword arguments\\ndisplay_info(age=24, name=\"Jayant\")  # Keyword', '# Variable Positional Arguments (*args)\\n\\ndef multiply(*args):\\n    result = 1\\n    for num in args:\\n        result *= num\\n    return result\\n\\nprint(multiply(2, 3, 4))  # 24', '# Variable Keyword Arguments (**kwargs)\\ndef display_info(**kwargs):\\n    for key, value in kwargs.items():\\n        print(f\"{key}: {value}\")\\n\\ndisplay_info(name=\"Jayant\", age=24, occupation=\"Engineer\")', 'def greet():\\n    print(\"Hello!\")\\n\\n# Assign the greet function to a new variable\\ngreeting = greet\\n\\n# Call the function using the new variable\\ngreeting()  # Output: Hello!', '# Assigning Functions to Variables\\n\\ndef greet():\\n    print(\"Hello!\")\\n\\n# Assign the greet function to a new variable\\ngreeting = greet\\n\\n# Call the function using the new variable\\ngreeting()  # Output: Hello!', '# Passing a Function as an Argument\\n\\ndef call_function(fn):\\n    # Call the function passed as an argument\\n    fn()\\n\\ndef say_hello():\\n    print(\"Hello from say_hello!\")\\n\\n# Pass say_hello as an argument\\ncall_function(say_hello)  # Output: Hello from say_hello!', '# Returning a Function from Another Function\\n\\ndef outer_function():\\n    def inner_function():\\n        print(\"Hello from the inner function!\")\\n    \\n    return inner_function  # Return the inner function\\n\\n# Get the inner function\\nmy_function = outer_function()\\n\\n# Call the returned function\\nmy_function()  # Output: Hello from the inner function!', '# Storing Functions in Data Structures\\n\\ndef add(x, y):\\n    return x + y\\n\\ndef subtract(x, y):\\n    return x - y\\n\\n# Store functions in a list\\noperations = [add, subtract]\\n\\n# Call functions from the list\\nprint(operations[0](10, 5))  # Output: 15 (calls add(10, 5))\\nprint(operations[1](10, 5))  # Output: 5  (calls subtract(10, 5))', '# Function Attributes\\n\\ndef my_function():\\n    print(\"Hello!\")\\n\\n# Function\\'s name\\nprint(my_function.__name__)  # Output: my_function\\n\\n# Global variables accessible in the function\\'s scope\\nprint(my_function.__globals__)  # Prints global variables in the module'], '_oh': {}, '_dh': [PosixPath('/workspaces/Python-and-Langchain/Python/S7_Functions')], 'In': ['', '# Defining a Function\\ndef greet(name):\\n    return f\"Hello, {name}!\"\\n\\n# Calling the Function\\nmessage = greet(\"Jayant\")\\nprint(message)  # Output: Hello, Jayant!', '# Returning Multiple Values\\ndef get_dimensions():\\n    return 10, 20  # Returning a tuple\\n\\nlength, width = get_dimensions()\\nprint(length, width)  # 10 20', '# Formal vs. Actual Parameters\\n\\n# Formal parameters: a, b\\ndef add(a, b):\\n    return a + b\\n\\n# Actual parameters: 3, 4\\nresult = add(3, 4)', '# Formal vs. Actual Parameters\\n\\n# Formal parameters: a, b\\ndef add(a, b):\\n    return a + b\\n\\n# Actual parameters: 3, 4\\nresult = add(3, 4)', \"# Annotations\\ndef add(a: int, b: int) -> int:\\n    return a + b\\n\\n# add() is expected to take integers and return an integer\\n\\n# access annotation\\nprint(add.__annotations__)  # {'a': <class 'int'>, 'b': <class 'int'>, 'return': <class 'int'>}\", '# Positional arguments\\ndef display_info(name, age):\\n    print(f\"Name: {name}, Age: {age}\")\\n\\ndisplay_info(\"Jayant\", 24)  # Positional\\n\\n# Keyword arguments\\ndisplay_info(age=24, name=\"Jayant\")  # Keyword', '# Variable Positional Arguments (*args)\\n\\ndef multiply(*args):\\n    result = 1\\n    for num in args:\\n        result *= num\\n    return result\\n\\nprint(multiply(2, 3, 4))  # 24', '# Variable Keyword Arguments (**kwargs)\\ndef display_info(**kwargs):\\n    for key, value in kwargs.items():\\n        print(f\"{key}: {value}\")\\n\\ndisplay_info(name=\"Jayant\", age=24, occupation=\"Engineer\")', 'def greet():\\n    print(\"Hello!\")\\n\\n# Assign the greet function to a new variable\\ngreeting = greet\\n\\n# Call the function using the new variable\\ngreeting()  # Output: Hello!', '# Assigning Functions to Variables\\n\\ndef greet():\\n    print(\"Hello!\")\\n\\n# Assign the greet function to a new variable\\ngreeting = greet\\n\\n# Call the function using the new variable\\ngreeting()  # Output: Hello!', '# Passing a Function as an Argument\\n\\ndef call_function(fn):\\n    # Call the function passed as an argument\\n    fn()\\n\\ndef say_hello():\\n    print(\"Hello from say_hello!\")\\n\\n# Pass say_hello as an argument\\ncall_function(say_hello)  # Output: Hello from say_hello!', '# Returning a Function from Another Function\\n\\ndef outer_function():\\n    def inner_function():\\n        print(\"Hello from the inner function!\")\\n    \\n    return inner_function  # Return the inner function\\n\\n# Get the inner function\\nmy_function = outer_function()\\n\\n# Call the returned function\\nmy_function()  # Output: Hello from the inner function!', '# Storing Functions in Data Structures\\n\\ndef add(x, y):\\n    return x + y\\n\\ndef subtract(x, y):\\n    return x - y\\n\\n# Store functions in a list\\noperations = [add, subtract]\\n\\n# Call functions from the list\\nprint(operations[0](10, 5))  # Output: 15 (calls add(10, 5))\\nprint(operations[1](10, 5))  # Output: 5  (calls subtract(10, 5))', '# Function Attributes\\n\\ndef my_function():\\n    print(\"Hello!\")\\n\\n# Function\\'s name\\nprint(my_function.__name__)  # Output: my_function\\n\\n# Global variables accessible in the function\\'s scope\\nprint(my_function.__globals__)  # Prints global variables in the module'], 'Out': {}, 'get_ipython': <bound method InteractiveShell.get_ipython of <ipykernel.zmqshell.ZMQInteractiveShell object at 0x70fde429f1a0>>, 'exit': <IPython.core.autocall.ZMQExitAutocall object at 0x70fde429f350>, 'quit': <IPython.core.autocall.ZMQExitAutocall object at 0x70fde429f350>, 'open': <function open at 0x70fde9373c40>, '_': '', '__': '', '___': '', '__vsc_ipynb_file__': '/workspaces/Python-and-Langchain/Python/S7_Functions/functions.ipynb', '_i': '# Storing Functions in Data Structures\\n\\ndef add(x, y):\\n    return x + y\\n\\ndef subtract(x, y):\\n    return x - y\\n\\n# Store functions in a list\\noperations = [add, subtract]\\n\\n# Call functions from the list\\nprint(operations[0](10, 5))  # Output: 15 (calls add(10, 5))\\nprint(operations[1](10, 5))  # Output: 5  (calls subtract(10, 5))', '_ii': '# Returning a Function from Another Function\\n\\ndef outer_function():\\n    def inner_function():\\n        print(\"Hello from the inner function!\")\\n    \\n    return inner_function  # Return the inner function\\n\\n# Get the inner function\\nmy_function = outer_function()\\n\\n# Call the returned function\\nmy_function()  # Output: Hello from the inner function!', '_iii': '# Passing a Function as an Argument\\n\\ndef call_function(fn):\\n    # Call the function passed as an argument\\n    fn()\\n\\ndef say_hello():\\n    print(\"Hello from say_hello!\")\\n\\n# Pass say_hello as an argument\\ncall_function(say_hello)  # Output: Hello from say_hello!', '_i1': '# Defining a Function\\ndef greet(name):\\n    return f\"Hello, {name}!\"\\n\\n# Calling the Function\\nmessage = greet(\"Jayant\")\\nprint(message)  # Output: Hello, Jayant!', 'greet': <function greet at 0x70fde40fc7c0>, 'message': 'Hello, Jayant!', '_i2': '# Returning Multiple Values\\ndef get_dimensions():\\n    return 10, 20  # Returning a tuple\\n\\nlength, width = get_dimensions()\\nprint(length, width)  # 10 20', 'get_dimensions': <function get_dimensions at 0x70fde40fd1c0>, 'length': 10, 'width': 20, '_i3': '# Formal vs. Actual Parameters\\n\\n# Formal parameters: a, b\\ndef add(a, b):\\n    return a + b\\n\\n# Actual parameters: 3, 4\\nresult = add(3, 4)', 'add': <function add at 0x70fde40fce00>, 'result': 7, '_i4': '# Formal vs. Actual Parameters\\n\\n# Formal parameters: a, b\\ndef add(a, b):\\n    return a + b\\n\\n# Actual parameters: 3, 4\\nresult = add(3, 4)', '_i5': \"# Annotations\\ndef add(a: int, b: int) -> int:\\n    return a + b\\n\\n# add() is expected to take integers and return an integer\\n\\n# access annotation\\nprint(add.__annotations__)  # {'a': <class 'int'>, 'b': <class 'int'>, 'return': <class 'int'>}\", '_i6': '# Positional arguments\\ndef display_info(name, age):\\n    print(f\"Name: {name}, Age: {age}\")\\n\\ndisplay_info(\"Jayant\", 24)  # Positional\\n\\n# Keyword arguments\\ndisplay_info(age=24, name=\"Jayant\")  # Keyword', 'display_info': <function display_info at 0x70fde40fd260>, '_i7': '# Variable Positional Arguments (*args)\\n\\ndef multiply(*args):\\n    result = 1\\n    for num in args:\\n        result *= num\\n    return result\\n\\nprint(multiply(2, 3, 4))  # 24', 'multiply': <function multiply at 0x70fde40fccc0>, '_i8': '# Variable Keyword Arguments (**kwargs)\\ndef display_info(**kwargs):\\n    for key, value in kwargs.items():\\n        print(f\"{key}: {value}\")\\n\\ndisplay_info(name=\"Jayant\", age=24, occupation=\"Engineer\")', '_i9': 'def greet():\\n    print(\"Hello!\")\\n\\n# Assign the greet function to a new variable\\ngreeting = greet\\n\\n# Call the function using the new variable\\ngreeting()  # Output: Hello!', 'greeting': <function greet at 0x70fde40fc7c0>, '_i10': '# Assigning Functions to Variables\\n\\ndef greet():\\n    print(\"Hello!\")\\n\\n# Assign the greet function to a new variable\\ngreeting = greet\\n\\n# Call the function using the new variable\\ngreeting()  # Output: Hello!', '_i11': '# Passing a Function as an Argument\\n\\ndef call_function(fn):\\n    # Call the function passed as an argument\\n    fn()\\n\\ndef say_hello():\\n    print(\"Hello from say_hello!\")\\n\\n# Pass say_hello as an argument\\ncall_function(say_hello)  # Output: Hello from say_hello!', 'call_function': <function call_function at 0x70fde40fcfe0>, 'say_hello': <function say_hello at 0x70fde40fd6c0>, '_i12': '# Returning a Function from Another Function\\n\\ndef outer_function():\\n    def inner_function():\\n        print(\"Hello from the inner function!\")\\n    \\n    return inner_function  # Return the inner function\\n\\n# Get the inner function\\nmy_function = outer_function()\\n\\n# Call the returned function\\nmy_function()  # Output: Hello from the inner function!', 'outer_function': <function outer_function at 0x70fde40fcc20>, 'my_function': <function my_function at 0x70fde40fd580>, '_i13': '# Storing Functions in Data Structures\\n\\ndef add(x, y):\\n    return x + y\\n\\ndef subtract(x, y):\\n    return x - y\\n\\n# Store functions in a list\\noperations = [add, subtract]\\n\\n# Call functions from the list\\nprint(operations[0](10, 5))  # Output: 15 (calls add(10, 5))\\nprint(operations[1](10, 5))  # Output: 5  (calls subtract(10, 5))', 'subtract': <function subtract at 0x70fde40fd4e0>, 'operations': [<function add at 0x70fde40fce00>, <function subtract at 0x70fde40fd4e0>], '_i14': '# Function Attributes\\n\\ndef my_function():\\n    print(\"Hello!\")\\n\\n# Function\\'s name\\nprint(my_function.__name__)  # Output: my_function\\n\\n# Global variables accessible in the function\\'s scope\\nprint(my_function.__globals__)  # Prints global variables in the module'}\n"
     ]
    }
   ],
   "source": [
    "# Function Attributes\n",
    "\n",
    "def my_function():\n",
    "    print(\"Hello!\")\n",
    "\n",
    "# Function's name\n",
    "print(my_function.__name__)  # Output: my_function\n",
    "\n",
    "# Global variables accessible in the function's scope\n",
    "print(my_function.__globals__)  # Prints global variables in the module\n"
   ]
  },
  {
   "cell_type": "markdown",
   "metadata": {},
   "source": [
    "Anonymous Functions with lambda"
   ]
  },
  {
   "cell_type": "code",
   "execution_count": 15,
   "metadata": {},
   "outputs": [
    {
     "name": "stdout",
     "output_type": "stream",
     "text": [
      "7\n"
     ]
    }
   ],
   "source": [
    "add = lambda x, y: x + y\n",
    "print(add(3, 4))  # Output: 7\n"
   ]
  },
  {
   "cell_type": "code",
   "execution_count": 16,
   "metadata": {},
   "outputs": [
    {
     "name": "stdout",
     "output_type": "stream",
     "text": [
      "[1, 4, 9, 16]\n"
     ]
    }
   ],
   "source": [
    "# Example with map\n",
    "numbers = [1, 2, 3, 4]\n",
    "squares = list(map(lambda x: x**2, numbers))\n",
    "print(squares)  # Output: [1, 4, 9, 16]\n"
   ]
  }
 ],
 "metadata": {
  "kernelspec": {
   "display_name": "Python 3",
   "language": "python",
   "name": "python3"
  },
  "language_info": {
   "codemirror_mode": {
    "name": "ipython",
    "version": 3
   },
   "file_extension": ".py",
   "mimetype": "text/x-python",
   "name": "python",
   "nbconvert_exporter": "python",
   "pygments_lexer": "ipython3",
   "version": "3.12.1"
  }
 },
 "nbformat": 4,
 "nbformat_minor": 2
}
