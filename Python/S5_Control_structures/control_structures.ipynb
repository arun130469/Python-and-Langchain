{
 "cells": [
  {
   "cell_type": "markdown",
   "metadata": {},
   "source": [
    "## Compound statements\n",
    "Group of simple statements are together called compound statement. They contain multiple logical lines of code. \n",
    "Following are main compound statements\n",
    "\n",
    "1. `if` `while` and `for` statements regular control flow constructs\n",
    "2. `try` is for exception handling\n",
    "3. `with` for having init and finalization blocks of code.\n",
    "4. `functions` and `class` are also compound statements.\n",
    "5. A compound statement consists of a `header` and `suite`. \n",
    "6. Header begins with a keyword like `if` or `for` and ends with a `:`\n",
    "7. A suite is a group of statments controlled by the header.\n",
    "8. A simple suite (without nested statement) can occur on the same line as header or on subsequent lines with an indent. "
   ]
  },
  {
   "cell_type": "code",
   "execution_count": 1,
   "metadata": {},
   "outputs": [
    {
     "name": "stdout",
     "output_type": "stream",
     "text": [
      "val is between 1 and 100\n",
      "val is between 1 and 100\n",
      "val is \n",
      "between\n",
      "1 and 100\n"
     ]
    }
   ],
   "source": [
    "val = 10\n",
    "if val < 100 and val > 1: # HEADER\n",
    "    print('val is between 1 and 100')  # suite\n",
    "\n",
    "if val < 100 and val > 1: print(\"val is between 1 and 100\") # both header and suite on same line\n",
    "\n",
    "# if val < 100: if val > 1: print(\"val is between 1 and 100\") # nested compound statements on the same line not allowed.\n",
    "\n",
    "# What happens here?\n",
    "\n",
    "if 1 < val < 100: print('val is '); print('between'); print('1 and 100')\n",
    "\n",
    "# Well the options are that the COLON will get precedence over binding and will get to bind only the first print statment\n",
    "# Or SEMI-COLON gets precedence and packs all the 3 prints together into a suite and attach to the header\n",
    "# Try it out. Turns out that SEMI-COLON wins over a COLON"
   ]
  },
  {
   "cell_type": "markdown",
   "metadata": {},
   "source": [
    "## IF Statement\n",
    "### Used for conditional execution\n",
    "`if_statement` ::=\\\n",
    "  `if` `<assignment_expression>` `:` <suite>\\\n",
    "  ([`elif` `<assignment_expression>` `:` <suite>])* \\\n",
    "  [`else` `:` `<suite>`]\n",
    "\n",
    "\n",
    "\n",
    "\n",
    "1. An assignment expression is of the type [`identifier` `=`] `expression`. \n",
    "2. There can be 0 or more `elif` statements\n",
    "3. There can be 0 or 1 `else` statements\n",
    "4. At runtime exactly 1 suite is chosen for execution. The first truthy <assignment_expression> is chosen for execution. Rest are ignored.\n",
    "5. If none are truthy and an `else` is specified its executed."
   ]
  },
  {
   "cell_type": "code",
   "execution_count": 1,
   "metadata": {},
   "outputs": [
    {
     "name": "stdout",
     "output_type": "stream",
     "text": [
      "x is equal to 10\n"
     ]
    }
   ],
   "source": [
    "x = 10\n",
    "if x > 10:\n",
    "    print(\"x is greater than 10\")\n",
    "elif x == 10:\n",
    "    print(\"x is equal to 10\")\n",
    "else:\n",
    "    print(\"x is less than 10\")\n"
   ]
  },
  {
   "cell_type": "markdown",
   "metadata": {},
   "source": [
    "\n",
    "## While Loop\n",
    "### Used for repeated execution of a suite until an expression is truthy\n",
    "\n",
    "`while_statement` ::= \\\n",
    "  `while` `<assignment_expression>` `:` `<suite>`\\\n",
    "    ...\\\n",
    "  [`else` `:` `<suite>`]\n",
    "\n",
    "1. Executes the first suite as long as the expression is true\n",
    "2. Once the expression is false - executes the optional else once\n",
    "3. In first suite `break` may be used to force exit from the loop. In this case the else will not be executed\n",
    "4. A continue can be used in the first suite to skip all subsequent statements and go back to the start of the loop.\n",
    "\n"
   ]
  },
  {
   "cell_type": "code",
   "execution_count": 4,
   "metadata": {},
   "outputs": [
    {
     "name": "stdout",
     "output_type": "stream",
     "text": [
      "0\n",
      "1\n",
      "2\n",
      "3\n",
      "4\n",
      "The while loop has ended normally and not without a break.\n",
      "1\n",
      "2\n",
      "3\n",
      "4\n",
      "Break condition reached. Will not execute else.\n"
     ]
    }
   ],
   "source": [
    "# while loop\n",
    "count = 0\n",
    "while count < 5:\n",
    "    print(count)\n",
    "    count += 1\n",
    "else:\n",
    "    print('The while loop has ended normally and not without a break.')\n",
    "\n",
    "count = 1\n",
    "while count:\n",
    "    print(count)\n",
    "    count += 1\n",
    "    if count > 4: \n",
    "        print('Break condition reached. Will not execute else.')\n",
    "        break\n",
    "else:\n",
    "    print(\"The while loop has ended normally and not without a break.\")"
   ]
  },
  {
   "cell_type": "markdown",
   "metadata": {},
   "source": [
    "## For Loop\n",
    "### Used to iterate over elements of a sequence or any iterable object. \n",
    "\n",
    "`for_stmt` ::=\\\n",
    "  `for` `<target_list>` `in` `<starred_list>` `:` `<suite>`\\\n",
    "   [`else` `:` `<suite>`]\n",
    "\n",
    "1. Starred list is the list iterable that we want to loop through\n",
    "2. Python creates an `iterator` for the iterable that yields items from the starred list.\n",
    "3. The first item provided by the iterator is put in the target list and the suite is executed.\n",
    "4. This repeats for all items in the iterator and then if an else clause is present then its executed once.\n",
    "5. A break and continue work like in for while loop.\n"
   ]
  },
  {
   "cell_type": "code",
   "execution_count": 6,
   "metadata": {},
   "outputs": [
    {
     "name": "stdout",
     "output_type": "stream",
     "text": [
      "0\n",
      "1\n",
      "2\n",
      "3\n",
      "4\n",
      "The for loop has ended normally and not without a break.\n",
      "0\n",
      "1\n",
      "2\n",
      "3\n",
      "Break condition reached. Will not execute else.\n"
     ]
    }
   ],
   "source": [
    "# for loop\n",
    "# Iterate over a range\n",
    "for i in range(5):\n",
    "    print(i)  # Will print numbers from 0 to 4\n",
    "else:\n",
    "    print(\"The for loop has ended normally and not without a break.\")\n",
    "\n",
    "for i in range(5):\n",
    "    print(i)  # Will print numbers from 0 to 4\n",
    "    if i == 3:\n",
    "        print(\"Break condition reached. Will not execute else.\")\n",
    "        break\n",
    "else:\n",
    "    print(\"The for loop has ended normally and not without a break.\")"
   ]
  },
  {
   "cell_type": "markdown",
   "metadata": {},
   "source": [
    "## Try Statement\n",
    "### Used for exception handling and cleanup code\n",
    "\n",
    "`try_stmt` ::= \\\n",
    "  `try` `:` <suite>\\\n",
    "  ( (`except` [`<expression>` [`as` `<identifier>` ]] `:` `<suite>`)+ |\\\n",
    "    (`except*` `<expression>` [`as` `<identifier>`] `:` `<suite>`)+ )\\\n",
    "  [`else` `:` `<suite>`]\\\n",
    "  [`finally` `:` `<suite>`]\n",
    "\n",
    "1. Try clause specifies a suite that will be monitored for errors and if one occurs then Python will execute your exception handlers\n",
    "2. The optional finally is always executed and is guaranteed by Python\n",
    "3. NOTE: if there are no except clauses then a finally is mandatory. Basically either an except or a finally MUST be present.\n",
    "4. Else like in the case of for and while; is executed if no exception was encoundered and the suite of try is completed successfully\n",
    "5. An except is mandatory for an else to exist.\n",
    "6. There are 2 forms of except. \n",
    "7. Use except to specify one or more exception handlers\n",
    "8. Once a matching exception handler is found its suite executed. No all other handlers are ignored.\n",
    "9. Since expression is optional - an expressionless except is like a catch all and must be last.\n",
    "\n",
    "### Handling the raised exception\n",
    "1. When an exception is raised Python evaluates the except expressions in order that they are present\n",
    "2. The expression should evaluate to and `exception` type or a `tuple` of exception types.\n",
    "3. if the expression evaluates to an individual class then it matches it to the class of the exception object or non-virtual base class of the exception object.\n",
    "4. If the expression evaluates to a tuple then it must contain the class or non-virtual base class of the exception object.\n",
    "\n",
    "### What if except expression evaluation raises an exception\n",
    "1. It is treated as if the try block raised an exception.\n",
    "2. Finally is executed \n",
    "3. Python then looks for a matching except in the enclosing try\n",
    "\n",
    "### The target of the exception object\n",
    "1. The exception object is assigned to the `as target` variable. \n",
    "2. It is cleared after the execution of the suite.\n",
    "\n",
    "### sys.exception()\n",
    "1. Before the suite of the except is executed - the raised exception object is stored in the `sys` module. \n",
    "2. It can be accessed `sys.exception()`\n",
    "3. Post execution its reset to its earlier value."
   ]
  },
  {
   "cell_type": "code",
   "execution_count": 46,
   "metadata": {},
   "outputs": [
    {
     "name": "stdout",
     "output_type": "stream",
     "text": [
      "Basic exception handling\n",
      "\n",
      "In the try suite\n",
      "This is the else suite\n",
      "This is the finally suite\n"
     ]
    }
   ],
   "source": [
    "print('Basic exception handling\\n')\n",
    "try:\n",
    "    print('In the try suite')\n",
    "except:\n",
    "    print('This is the except suite.') # since there is no error will not be executed.\n",
    "else:\n",
    "    print('This is the else suite')\n",
    "finally:\n",
    "    print('This is the finally suite')\n"
   ]
  },
  {
   "cell_type": "code",
   "execution_count": 47,
   "metadata": {},
   "outputs": [
    {
     "name": "stdout",
     "output_type": "stream",
     "text": [
      "Catch all Except\n",
      "\n",
      "I will catch all errors\n",
      "Finally will surely execute\n"
     ]
    }
   ],
   "source": [
    "\n",
    "print(\"Catch all Except\\n\")\n",
    "try:\n",
    "    raise ValueError\n",
    "except:\n",
    "    print('I will catch all errors')\n",
    "else:\n",
    "    print('Else only if try finishes normally')\n",
    "finally:\n",
    "    print('Finally will surely execute')\n",
    "\n"
   ]
  },
  {
   "cell_type": "code",
   "execution_count": 48,
   "metadata": {},
   "outputs": [
    {
     "name": "stdout",
     "output_type": "stream",
     "text": [
      "as target \n",
      "\n",
      "I will catch all errors <class 'ValueError'>\n",
      "Finally will surely execute\n"
     ]
    }
   ],
   "source": [
    "\n",
    "print(\"as target \\n\")\n",
    "try:\n",
    "    raise ValueError\n",
    "except ValueError as err: # specifyint the target\n",
    "    print(\"I will catch all errors\", type(err)) # using the target\n",
    "else:\n",
    "    print(\"Else only if try finishes normally\")\n",
    "finally:\n",
    "    print(\"Finally will surely execute\")\n",
    "\n"
   ]
  },
  {
   "cell_type": "code",
   "execution_count": 43,
   "metadata": {},
   "outputs": [
    {
     "name": "stdout",
     "output_type": "stream",
     "text": [
      "Using sys.exception() \n",
      "\n",
      "Does it have str? True; And is it callable? True; But its value is empty? True\n",
      "I will catch all errors. The current one from sys:  ValueError()\n",
      "Finally will surely execute\n"
     ]
    }
   ],
   "source": [
    "\n",
    "print(\"Using sys.exception() \\n\")\n",
    "import sys\n",
    "try:\n",
    "    raise ValueError\n",
    "except:\n",
    "    excep = sys.exception()\n",
    "    print( f'Does it have str? {hasattr(excep, \"__str__\")}; And is it callable? {callable(getattr(excep,\"__str__\"))}; But its value is empty? {not excep.__str__()}')\n",
    "    print(\"I will catch all errors. The current one from sys: \", repr(sys.exception()))  # using sys.exception()\n",
    "else:\n",
    "    print(\"Else only if try finishes normally\")\n",
    "finally:\n",
    "    print(\"Finally will surely execute\")\n"
   ]
  },
  {
   "cell_type": "code",
   "execution_count": 52,
   "metadata": {},
   "outputs": [
    {
     "name": "stdout",
     "output_type": "stream",
     "text": [
      "Using base exception\n",
      "I will catch all errors. The current one is:  ValueError()\n",
      "Finally will surely execute\n"
     ]
    }
   ],
   "source": [
    "print(\"Using base exception\")\n",
    "import sys\n",
    "\n",
    "try:\n",
    "    raise ValueError\n",
    "except BaseException  as err:\n",
    "    \n",
    "    print(\"I will catch all errors. The current one is: \", err.__repr__()) \n",
    "else:\n",
    "    print(\"Else only if try finishes normally\")\n",
    "finally:\n",
    "    print(\"Finally will surely execute\")"
   ]
  },
  {
   "cell_type": "code",
   "execution_count": 57,
   "metadata": {},
   "outputs": [
    {
     "name": "stdout",
     "output_type": "stream",
     "text": [
      "Inner try\n",
      "Inner except that will throw an exception TypeError()\n",
      "Finally of inner exception\n",
      "Except of outer try TypeError()\n",
      "I am finally of outer.\n"
     ]
    }
   ],
   "source": [
    "# Nested try with raising exception from an except handler.\n",
    "import sys\n",
    "\n",
    "try:\n",
    "    try:\n",
    "        print('Inner try')\n",
    "        raise TypeError\n",
    "    except:\n",
    "        print('Inner except that will throw an exception', repr(sys.exception()))\n",
    "        raise # reraises the same exception.\n",
    "    finally:\n",
    "        print('Finally of inner exception')\n",
    "except:\n",
    "    print('Except of outer try', repr(sys.exception()))\n",
    "finally:\n",
    "    print('I am finally of outer.')"
   ]
  },
  {
   "cell_type": "code",
   "execution_count": 59,
   "metadata": {},
   "outputs": [
    {
     "name": "stdout",
     "output_type": "stream",
     "text": [
      "The main try suite\n",
      "In the exception handler ValueError()\n"
     ]
    }
   ],
   "source": [
    "# Tuple of exceptions\n",
    "\n",
    "try:\n",
    "    print('The main try suite')\n",
    "    raise ValueError\n",
    "except (TypeError, ValueError) as err:\n",
    "    print('In the exception handler', repr(err))"
   ]
  },
  {
   "cell_type": "markdown",
   "metadata": {},
   "source": [
    "## Except Groups\n",
    "1. We saw earlier that there is another form of except: `except*`\n",
    "2. Imaging in your program you have a situation where more than one user defined exceptin occurs.\n",
    "3. For example say you have a function `f(count, message='default message)` with 2 params\n",
    "4. If your business logic says that count must be positive and message should always be more than 2 chars\n",
    "5. And you have custom exceptions InvalidCount and InvalidMessage.\n",
    "6. Its possible that both may occur at the same time.\n",
    "7. Exception groups allow you to raise multiple exceptions simultaneously\n",
    "8. You specify a name or message that acts as the identifier of the message group\n",
    "9. And a list of exceptions to wrap in the group\n",
    "10. You can then have one or more `except*` handlers. Each could handle one or more exceptions.\n",
    "11. In this way, for our case, you can have 2 handlers for the 2 excpetions.\n",
    "12. Python will go on using multiple handlers until all exceptions in the group are handled.\n",
    "13. If some exception is not handled then it will be raised for the enclosing try\n",
    "14. Each exception will be handled exactly once.\n",
    "15. You can have wither `except` or `except*` in the handler block"
   ]
  },
  {
   "cell_type": "code",
   "execution_count": 71,
   "metadata": {},
   "outputs": [
    {
     "name": "stdout",
     "output_type": "stream",
     "text": [
      "Handling ValueError: (ValueError('second'),)\n"
     ]
    },
    {
     "name": "stderr",
     "output_type": "stream",
     "text": [
      "  + Exception Group Traceback (most recent call last):\n",
      "  |   File \"/Users/arunsaxena/Library/Python/3.12/lib/python/site-packages/IPython/core/interactiveshell.py\", line 3577, in run_code\n",
      "  |     exec(code_obj, self.user_global_ns, self.user_ns)\n",
      "  |   File \"/var/folders/s5/trfxqnmj7n5cbrnhs7f2fcyr0000gn/T/ipykernel_95431/3328102399.py\", line 3, in <module>\n",
      "  |     raise ExceptionGroup(\"MyExceptionGroup\",[TypeError('first'), ValueError('second')])\n",
      "  | ExceptionGroup: MyExceptionGroup (1 sub-exception)\n",
      "  +-+---------------- 1 ----------------\n",
      "    | TypeError: first\n",
      "    +------------------------------------\n"
     ]
    }
   ],
   "source": [
    "try:\n",
    "    raise ExceptionGroup(\"MyExceptionGroup\",[TypeError('first'), ValueError('second')])\n",
    "except* ValueError as e:\n",
    "    print('Handling ValueError:', e.exceptions)\n"
   ]
  },
  {
   "cell_type": "markdown",
   "metadata": {},
   "source": [
    "1. In the above code we have handled one of the errors from the group - ValueError\n",
    "2. But we did not handle the other error TypeError\n",
    "3. Python raises it for the enclosing try\n",
    "4. Lets look at the enclosing try"
   ]
  },
  {
   "cell_type": "code",
   "execution_count": 73,
   "metadata": {},
   "outputs": [
    {
     "name": "stdout",
     "output_type": "stream",
     "text": [
      "Handling ValueError: (ValueError('second'),)\n",
      "I am outer exception handler MyExceptionGroup (1 sub-exception)  With the type:  <class 'ExceptionGroup'>  And the enclosed exceptions:  (TypeError('first'),)\n"
     ]
    }
   ],
   "source": [
    "try:\n",
    "    try:\n",
    "        raise ExceptionGroup(\"MyExceptionGroup\", [TypeError(\"first\"), ValueError(\"second\")])\n",
    "    except* ValueError as e:\n",
    "        print(\"Handling ValueError:\", e.exceptions)\n",
    "except BaseException as e:\n",
    "    print(\"I am outer exception handler\", e, ' With the type: ',type(e), ' And the enclosed exceptions: ',e.exceptions )"
   ]
  },
  {
   "cell_type": "markdown",
   "metadata": {},
   "source": [
    "## With Statement\n",
    "1. The problem with try except is that you need to implement these except blocks all the while\n",
    "2. This is cumbersome and subjectve to choices of a developer.\n",
    "3. Turns out that Python has a way to encapsulate all this in a reusable with statement\n",
    "4. The encapsulation is with a construct called the Context Manager\n",
    "5. This manager provides pre and post methods that Python calls before an after the suite that you want to execute\n",
    "6. The manager is a class with special mathods as required. The following are needed\n",
    "\n",
    "`<contextmanager>.__enter__(self)`\n",
    "Executed before entering the suite. If this method returns a value that will be passed to the target specified with `with` so your code can get any context that it needs.\n",
    "\n",
    "`<contextmanager>.__exit__(self, exc_type, exc_value, traceback)`\n",
    "This method is executed when exiting the suite. The parameters describe any exceptions encountered. If there were no exceptions all 3 params will be `None`\n",
    "\n",
    "If you handle the exception successfully the exit should return a `True` value. Else `False` for it to be propagated.\n"
   ]
  },
  {
   "cell_type": "code",
   "execution_count": 86,
   "metadata": {},
   "outputs": [
    {
     "name": "stdout",
     "output_type": "stream",
     "text": [
      "In enter func\n",
      "<__main__.myContextManager object at 0x111449d60>\n",
      "In Exit Func, exc_type=None, exc_value=None, traceback=None\n"
     ]
    }
   ],
   "source": [
    "# The most basic example\n",
    "\n",
    "class myContextManager:\n",
    "    def __enter__(self):\n",
    "        print(\"In enter func\")\n",
    "        return self\n",
    "\n",
    "    def __exit__(self, exc_type, exc_value, traceback):\n",
    "        print(f\"In Exit Func, {exc_type=}, {exc_value=}, {traceback=}\")\n",
    "        return True\n",
    "\n",
    "\n",
    "with myContextManager() as mcp:\n",
    "    print(mcp)"
   ]
  },
  {
   "cell_type": "markdown",
   "metadata": {},
   "source": [
    "1. Python evaluated the expression `myContextManager()` which returns a brand new object of this class.\n",
    "2. Python then executes the `__enter__()` of this object\n",
    "3. Since it returns itself `return self` its assigned to target `mcp`\n",
    "4. Now Python will execute the suite.\n",
    "5. Post the execution it will call `__exit__()`. Since no exception was raised all the 3 params are `None`\n",
    "6. We return True as we are happy with our exit.\n",
    "\n",
    "Now lets try and raise some error"
   ]
  },
  {
   "cell_type": "code",
   "execution_count": 87,
   "metadata": {},
   "outputs": [
    {
     "name": "stdout",
     "output_type": "stream",
     "text": [
      "In enter func\n",
      "<__main__.myContextManager object at 0x1113f3620>\n",
      "In Exit Func, exc_type=<class 'ValueError'>, exc_value=ValueError('Value is wrong'), traceback=<traceback object at 0x111c06800>\n"
     ]
    }
   ],
   "source": [
    "# With a simple exception\n",
    "\n",
    "\n",
    "class myContextManager:\n",
    "    def __enter__(self):\n",
    "        print(\"In enter func\")\n",
    "        return self\n",
    "\n",
    "    def __exit__(self, exc_type, exc_value, traceback):\n",
    "        print(f\"In Exit Func, {exc_type=}, {exc_value=}, {traceback=}\")\n",
    "        return True\n",
    "\n",
    "\n",
    "with myContextManager() as mcp:\n",
    "    print(mcp)\n",
    "    raise ValueError('Value is wrong')"
   ]
  },
  {
   "cell_type": "markdown",
   "metadata": {},
   "source": [
    "1. You can see that we get all the exceptions.\n",
    "2. We can easily set up handling routines here."
   ]
  },
  {
   "cell_type": "code",
   "execution_count": 111,
   "metadata": {},
   "outputs": [
    {
     "name": "stdout",
     "output_type": "stream",
     "text": [
      "In enter func\n",
      "<__main__.myContextManager object at 0x1113ab3b0>\n",
      "In Exit Func, exc_type=<class 'ValueError'>, \n",
      "exc_value=ValueError('Single Exception'), \n",
      "traceback=<traceback object at 0x1113d1cc0>\n",
      "We got a single exception:  Single Exception\n"
     ]
    }
   ],
   "source": [
    "# With a except groups\n",
    "\n",
    "\n",
    "class myContextManager:\n",
    "    def __enter__(self):\n",
    "        print(\"In enter func\")\n",
    "        return self\n",
    "\n",
    "    def __exit__(self, exc_type, exc_value, traceback):\n",
    "        print(f\"In Exit Func, {exc_type=}, \\n{exc_value=}, \\n{traceback=}\")\n",
    "        if(not exc_type):\n",
    "            print('No exception reported')\n",
    "            return True\n",
    "        \n",
    "        if isinstance(exc_value, ExceptionGroup): \n",
    "            exceptions = exc_value.exceptions\n",
    "            for ex in exceptions:\n",
    "                if isinstance(ex, ValueError):\n",
    "                    print('Handle the value error here:', repr(ex))\n",
    "        if (isinstance(exc_value, ValueError)): # if we get individual exception and not a group\n",
    "            print('We got a single exception: ', str(exc_value))\n",
    "        \n",
    "        return True\n",
    "\n",
    "\n",
    "with myContextManager() as mcp:\n",
    "    print(mcp)\n",
    "    # raise ExceptionGroup(\"Context Manager Exception Group\", [ValueError('First'), TypeError(\"Second\")])\n",
    "    raise ValueError(\"Single Exception\")"
   ]
  },
  {
   "cell_type": "markdown",
   "metadata": {},
   "source": [
    "1. You now also have the exception groups as well. \n",
    "2. Using standard constructs we can handle any exception we need to.\n",
    "3. Once you publish this class, your team and just use it with the confidence that exceptions will be handles in a standard manner."
   ]
  },
  {
   "cell_type": "markdown",
   "metadata": {},
   "source": [
    "## Nested loop\n",
    "1. The nested loop iterates fully for each iteration of the outer loop."
   ]
  },
  {
   "cell_type": "code",
   "execution_count": 75,
   "metadata": {},
   "outputs": [
    {
     "name": "stdout",
     "output_type": "stream",
     "text": [
      "outerIndex=0, innerIndex=0\n",
      "outerIndex=0, innerIndex=1\n",
      "outerIndex=0, innerIndex=2\n",
      "outerIndex=1, innerIndex=0\n",
      "outerIndex=1, innerIndex=1\n",
      "outerIndex=1, innerIndex=2\n",
      "outerIndex=2, innerIndex=0\n",
      "outerIndex=2, innerIndex=1\n",
      "outerIndex=2, innerIndex=2\n"
     ]
    }
   ],
   "source": [
    "for outerIndex in range(3):\n",
    "    for innerIndex in range(3):\n",
    "        print(f\"{outerIndex=}, {innerIndex=}\")  \n"
   ]
  },
  {
   "cell_type": "markdown",
   "metadata": {},
   "source": [
    "## Complex Logical Conditions"
   ]
  },
  {
   "cell_type": "code",
   "execution_count": 10,
   "metadata": {},
   "outputs": [
    {
     "name": "stdout",
     "output_type": "stream",
     "text": [
      "Eligible\n"
     ]
    }
   ],
   "source": [
    "age = 25\n",
    "income = 50000\n",
    "\n",
    "# Example of complex condition\n",
    "if age > 18 and (income > 40000 or income == 50000):\n",
    "    print(\"Eligible\")\n",
    "else:\n",
    "    print(\"Not eligible\")\n"
   ]
  }
 ],
 "metadata": {
  "kernelspec": {
   "display_name": "Python 3",
   "language": "python",
   "name": "python3"
  },
  "language_info": {
   "codemirror_mode": {
    "name": "ipython",
    "version": 3
   },
   "file_extension": ".py",
   "mimetype": "text/x-python",
   "name": "python",
   "nbconvert_exporter": "python",
   "pygments_lexer": "ipython3",
   "version": "3.12.4"
  }
 },
 "nbformat": 4,
 "nbformat_minor": 2
}
