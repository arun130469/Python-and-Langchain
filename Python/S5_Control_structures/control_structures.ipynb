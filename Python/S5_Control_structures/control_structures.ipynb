{
 "cells": [
  {
   "cell_type": "markdown",
   "metadata": {},
   "source": [
    "## Compound statements\n",
    "Group of simple statements are together called compound statement. They contain multiple logical lines of code. \n",
    "Following are main compound statements\n",
    "\n",
    "1. `if` `while` and `for` statements regular control flow constructs\n",
    "2. `try` is for exception handling\n",
    "3. `with` for having init and finalization blocks of code.\n",
    "4. `functions` and `class` are also compound statements.\n",
    "5. A compound statement consists of a `header` and `suite`. \n",
    "6. Header begins with a keyword like `if` or `for` and ends with a `:`\n",
    "7. A suite is a group of statments controlled by the header.\n",
    "8. A simple suite (without nested statement) can occur on the same line as header or on subsequent lines with an indent. "
   ]
  },
  {
   "cell_type": "code",
   "execution_count": 1,
   "metadata": {},
   "outputs": [
    {
     "name": "stdout",
     "output_type": "stream",
     "text": [
      "val is between 1 and 100\n",
      "val is between 1 and 100\n",
      "val is \n",
      "between\n",
      "1 and 100\n"
     ]
    }
   ],
   "source": [
    "val = 10\n",
    "if val < 100 and val > 1: # HEADER\n",
    "    print('val is between 1 and 100')  # suite\n",
    "\n",
    "if val < 100 and val > 1: print(\"val is between 1 and 100\") # both header and suite on same line\n",
    "\n",
    "# if val < 100: if val > 1: print(\"val is between 1 and 100\") # nested compound statements on the same line not allowed.\n",
    "\n",
    "# What happens here?\n",
    "\n",
    "if 1 < val < 100: print('val is '); print('between'); print('1 and 100')\n",
    "\n",
    "# Well the options are that the COLON will get precedence over binding and will get to bind only the first print statment\n",
    "# Or SEMI-COLON gets precedence and packs all the 3 prints together into a suite and attach to the header\n",
    "# Try it out. Turns out that SEMI-COLON wins over a COLON"
   ]
  },
  {
   "cell_type": "markdown",
   "metadata": {},
   "source": [
    "## IF Statement\n",
    "`if_statement` ::=\n",
    ">`if` <assignment_expression> `:` <suite>\\\n",
    ">([`elif` <assignment_expression> `:` <suite>])* \\\n",
    ">[`else` `:` <suite>]\n",
    "\n",
    "\n",
    "\n",
    "\n",
    "1. An assignment expression is of the type [`identifier` `=`] `expression`. \n",
    "2. There can be 0 or more `elif` statements\n",
    "3. There can be 0 or 1 `else` statements\n",
    "4. At runtime exactly 1 suite is chosen for execution. The first truthy <assignment_expression> is chosen for execution. Rest are ignored.\n",
    "5. If none are truthy and an `else` is specified its executed."
   ]
  },
  {
   "cell_type": "code",
   "execution_count": 1,
   "metadata": {},
   "outputs": [
    {
     "name": "stdout",
     "output_type": "stream",
     "text": [
      "x is equal to 10\n"
     ]
    }
   ],
   "source": [
    "x = 10\n",
    "if x > 10:\n",
    "    print(\"x is greater than 10\")\n",
    "elif x == 10:\n",
    "    print(\"x is equal to 10\")\n",
    "else:\n",
    "    print(\"x is less than 10\")\n"
   ]
  },
  {
   "cell_type": "markdown",
   "metadata": {},
   "source": [
    "## While Loop\n",
    "`while_statement` ::= \n",
    "    `while` <assignment_expression> `:` <suite>\n",
    "    [`else` `:` <suite>]\n",
    "\n",
    "\n"
   ]
  },
  {
   "cell_type": "markdown",
   "metadata": {},
   "source": [
    "2. Looping"
   ]
  },
  {
   "cell_type": "code",
   "execution_count": 2,
   "metadata": {},
   "outputs": [
    {
     "name": "stdout",
     "output_type": "stream",
     "text": [
      "0\n",
      "1\n",
      "2\n",
      "3\n",
      "4\n"
     ]
    }
   ],
   "source": [
    "# for loop\n",
    "# Iterate over a range\n",
    "for i in range(5):\n",
    "    print(i)  # Will print numbers from 0 to 4\n",
    " "
   ]
  },
  {
   "cell_type": "code",
   "execution_count": 3,
   "metadata": {},
   "outputs": [
    {
     "name": "stdout",
     "output_type": "stream",
     "text": [
      "0\n",
      "1\n",
      "2\n",
      "3\n",
      "4\n"
     ]
    }
   ],
   "source": [
    "# while loop\n",
    "count = 0\n",
    "while count < 5:\n",
    "    print(count)\n",
    "    count += 1\n"
   ]
  },
  {
   "cell_type": "code",
   "execution_count": 4,
   "metadata": {},
   "outputs": [
    {
     "name": "stdout",
     "output_type": "stream",
     "text": [
      "0\n",
      "1\n",
      "2\n",
      "3\n",
      "4\n"
     ]
    }
   ],
   "source": [
    "# Do while loop\n",
    "count = 0\n",
    "while True:\n",
    "    print(count)\n",
    "    count += 1\n",
    "    if count >= 5:\n",
    "        break  # Exit loop manually\n"
   ]
  },
  {
   "cell_type": "markdown",
   "metadata": {},
   "source": [
    "3. Range()"
   ]
  },
  {
   "cell_type": "code",
   "execution_count": 6,
   "metadata": {},
   "outputs": [
    {
     "name": "stdout",
     "output_type": "stream",
     "text": [
      "0\n",
      "1\n",
      "2\n",
      "3\n",
      "4\n",
      "5\n",
      "6\n",
      "7\n",
      "8\n",
      "9\n",
      "--------------------------\n",
      "1\n",
      "3\n",
      "5\n",
      "7\n",
      "9\n"
     ]
    }
   ],
   "source": [
    "# Using range to loop from 0 to 9\n",
    "for i in range(10):\n",
    "    print(i)\n",
    "\n",
    "print(\"--------------------------\")\n",
    "    \n",
    "# Range with a start, stop, and step\n",
    "for i in range(1, 10, 2):\n",
    "    print(i)  # Will print 1, 3, 5, 7, 9\n"
   ]
  },
  {
   "cell_type": "markdown",
   "metadata": {},
   "source": [
    "4. Break and Continue"
   ]
  },
  {
   "cell_type": "code",
   "execution_count": 7,
   "metadata": {},
   "outputs": [
    {
     "name": "stdout",
     "output_type": "stream",
     "text": [
      "0\n",
      "1\n",
      "2\n",
      "3\n",
      "4\n",
      "1\n",
      "3\n",
      "5\n",
      "7\n",
      "9\n"
     ]
    }
   ],
   "source": [
    "# Break example\n",
    "for i in range(10):\n",
    "    if i == 5:\n",
    "        break  # Loop stops when i is 5\n",
    "    print(i)\n",
    "\n",
    "# Continue example\n",
    "for i in range(10):\n",
    "    if i % 2 == 0:\n",
    "        continue  # Skip even numbers\n",
    "    print(i)  # Will print odd numbers only\n"
   ]
  },
  {
   "cell_type": "markdown",
   "metadata": {},
   "source": [
    "5. Nested loop"
   ]
  },
  {
   "cell_type": "code",
   "execution_count": 8,
   "metadata": {},
   "outputs": [
    {
     "name": "stdout",
     "output_type": "stream",
     "text": [
      "i=0, j=0\n",
      "i=0, j=1\n",
      "i=0, j=2\n",
      "i=1, j=0\n",
      "i=1, j=1\n",
      "i=1, j=2\n",
      "i=2, j=0\n",
      "i=2, j=1\n",
      "i=2, j=2\n"
     ]
    }
   ],
   "source": [
    "for i in range(3):\n",
    "    for j in range(3):\n",
    "        print(f\"i={i}, j={j}\")  # Prints combinations of i and j\n"
   ]
  },
  {
   "cell_type": "code",
   "execution_count": 9,
   "metadata": {},
   "outputs": [
    {
     "name": "stdout",
     "output_type": "stream",
     "text": [
      "[0, 4, 16, 36, 64]\n"
     ]
    }
   ],
   "source": [
    "# Comprehensions with Conditionals\n",
    "# List comprehension with a conditional\n",
    "squares = [x**2 for x in range(10) if x % 2 == 0]  # List of squares for even numbers\n",
    "print(squares)\n"
   ]
  },
  {
   "cell_type": "markdown",
   "metadata": {},
   "source": [
    "6. Complex Logical Conditions"
   ]
  },
  {
   "cell_type": "code",
   "execution_count": 10,
   "metadata": {},
   "outputs": [
    {
     "name": "stdout",
     "output_type": "stream",
     "text": [
      "Eligible\n"
     ]
    }
   ],
   "source": [
    "age = 25\n",
    "income = 50000\n",
    "\n",
    "# Example of complex condition\n",
    "if age > 18 and (income > 40000 or income == 50000):\n",
    "    print(\"Eligible\")\n",
    "else:\n",
    "    print(\"Not eligible\")\n"
   ]
  }
 ],
 "metadata": {
  "kernelspec": {
   "display_name": "Python 3",
   "language": "python",
   "name": "python3"
  },
  "language_info": {
   "codemirror_mode": {
    "name": "ipython",
    "version": 3
   },
   "file_extension": ".py",
   "mimetype": "text/x-python",
   "name": "python",
   "nbconvert_exporter": "python",
   "pygments_lexer": "ipython3",
   "version": "3.12.4"
  }
 },
 "nbformat": 4,
 "nbformat_minor": 2
}
