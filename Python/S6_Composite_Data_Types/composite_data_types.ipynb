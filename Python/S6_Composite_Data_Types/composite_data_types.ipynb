{
 "cells": [
  {
   "cell_type": "markdown",
   "metadata": {},
   "source": [
    "Tuples"
   ]
  },
  {
   "cell_type": "code",
   "execution_count": 1,
   "metadata": {},
   "outputs": [
    {
     "name": "stdout",
     "output_type": "stream",
     "text": [
      "1 2 3\n"
     ]
    }
   ],
   "source": [
    "# Packing a tuple\n",
    "my_tuple = 1, 2, 3\n",
    "\n",
    "# Unpacking the tuple\n",
    "a, b, c = my_tuple\n",
    "print(a, b, c)  # Outputs 1, 2, 3\n"
   ]
  },
  {
   "cell_type": "code",
   "execution_count": 2,
   "metadata": {},
   "outputs": [
    {
     "name": "stdout",
     "output_type": "stream",
     "text": [
      "(8, 2)\n"
     ]
    }
   ],
   "source": [
    "# Returning a Tuple from a Function\n",
    "def calculate(a, b):\n",
    "    return a + b, a - b  # Returns a tuple\n",
    "\n",
    "result = calculate(5, 3)\n",
    "print(result)  # (8, 2)\n"
   ]
  },
  {
   "cell_type": "code",
   "execution_count": 3,
   "metadata": {},
   "outputs": [
    {
     "name": "stdout",
     "output_type": "stream",
     "text": [
      "True\n"
     ]
    }
   ],
   "source": [
    "# Copying a Tuple\n",
    "\n",
    "original_tuple = (1, 2, 3)\n",
    "copied_tuple = original_tuple\n",
    "print(copied_tuple is original_tuple)  # True, both point to the same object\n"
   ]
  },
  {
   "cell_type": "code",
   "execution_count": 6,
   "metadata": {},
   "outputs": [
    {
     "name": "stdout",
     "output_type": "stream",
     "text": [
      "(4, 3, 2, 1)\n"
     ]
    }
   ],
   "source": [
    "# Reversing a Tuple\n",
    "my_tuple = (1, 2, 3, 4)\n",
    "reversed_tuple = my_tuple[::-1]\n",
    "print(reversed_tuple)  # (4, 3, 2, 1)\n"
   ]
  },
  {
   "cell_type": "code",
   "execution_count": 7,
   "metadata": {},
   "outputs": [
    {
     "name": "stdout",
     "output_type": "stream",
     "text": [
      "True\n"
     ]
    }
   ],
   "source": [
    "# Comparing Tuples\n",
    "tuple1 = (1, 2, 3)\n",
    "tuple2 = (1, 2, 4)\n",
    "print(tuple1 < tuple2)  # True, because 3 < 4\n"
   ]
  },
  {
   "cell_type": "code",
   "execution_count": 8,
   "metadata": {},
   "outputs": [
    {
     "name": "stdout",
     "output_type": "stream",
     "text": [
      "1\n",
      "2\n",
      "3\n"
     ]
    }
   ],
   "source": [
    "# Looping through a Tuple\n",
    "my_tuple = (1, 2, 3)\n",
    "for value in my_tuple:\n",
    "    print(value)\n"
   ]
  },
  {
   "cell_type": "markdown",
   "metadata": {},
   "source": [
    "Sets"
   ]
  },
  {
   "cell_type": "code",
   "execution_count": 9,
   "metadata": {},
   "outputs": [
    {
     "name": "stdout",
     "output_type": "stream",
     "text": [
      "4\n",
      "4\n",
      "1\n",
      "10\n"
     ]
    }
   ],
   "source": [
    "# Set Functions\n",
    "\n",
    "my_set = {1, 2, 3, 4}\n",
    "print(len(my_set))  # 4\n",
    "print(max(my_set))  # 4\n",
    "print(min(my_set))  # 1\n",
    "print(sum(my_set))  # 10\n"
   ]
  },
  {
   "cell_type": "code",
   "execution_count": 10,
   "metadata": {},
   "outputs": [
    {
     "name": "stdout",
     "output_type": "stream",
     "text": [
      "{1, 2, 4}\n",
      "{1, 2, 3, 4}\n",
      "{2, 3}\n"
     ]
    }
   ],
   "source": [
    "# Set Methods\n",
    "\n",
    "my_set = {1, 2, 3}\n",
    "my_set.add(4)\n",
    "my_set.remove(3)\n",
    "print(my_set)  # {1, 2, 4}\n",
    "\n",
    "set_a = {1, 2, 3}\n",
    "set_b = {2, 3, 4}\n",
    "print(set_a.union(set_b))  # {1, 2, 3, 4}\n",
    "print(set_a.intersection(set_b))  # {2, 3}\n"
   ]
  },
  {
   "cell_type": "code",
   "execution_count": 11,
   "metadata": {},
   "outputs": [
    {
     "name": "stdout",
     "output_type": "stream",
     "text": [
      "frozenset({1, 2, 3})\n"
     ]
    }
   ],
   "source": [
    "# Frozenset\n",
    "\n",
    "my_frozenset = frozenset([1, 2, 3])\n",
    "print(my_frozenset)\n",
    "# Cannot add or modify elements in frozenset\n"
   ]
  },
  {
   "cell_type": "code",
   "execution_count": 12,
   "metadata": {},
   "outputs": [
    {
     "name": "stdout",
     "output_type": "stream",
     "text": [
      "tuple as key\n"
     ]
    }
   ],
   "source": [
    "# Using Tuples as Keys in a Dictionary\n",
    "\n",
    "my_dict = { (1, 2): \"tuple as key\", (3, 4): \"another tuple\" }\n",
    "print(my_dict[(1, 2)])  # \"tuple as key\"\n"
   ]
  },
  {
   "cell_type": "markdown",
   "metadata": {},
   "source": [
    "Dictionary"
   ]
  },
  {
   "cell_type": "code",
   "execution_count": 13,
   "metadata": {},
   "outputs": [
    {
     "name": "stdout",
     "output_type": "stream",
     "text": [
      "{0: 0, 1: 1, 2: 4, 3: 9, 4: 16}\n"
     ]
    }
   ],
   "source": [
    "# Create a Dictionary Using Comprehension\n",
    "\n",
    "squares = {x: x**2 for x in range(5)}\n",
    "print(squares)  # {0: 0, 1: 1, 2: 4, 3: 9, 4: 16}"
   ]
  },
  {
   "cell_type": "code",
   "execution_count": 14,
   "metadata": {},
   "outputs": [
    {
     "name": "stdout",
     "output_type": "stream",
     "text": [
      "John\n",
      "dict_keys(['name', 'age'])\n",
      "dict_values(['John', 30])\n",
      "dict_items([('name', 'John'), ('age', 30)])\n"
     ]
    }
   ],
   "source": [
    "# Dictionary Methods\n",
    "\n",
    "my_dict = {\"name\": \"John\", \"age\": 30}\n",
    "\n",
    "# Accessing a value\n",
    "print(my_dict.get(\"name\"))  # John\n",
    "\n",
    "# Getting keys, values, and items\n",
    "print(my_dict.keys())    # dict_keys(['name', 'age'])\n",
    "print(my_dict.values())  # dict_values(['John', 30])\n",
    "print(my_dict.items())   # dict_items([('name', 'John'), ('age', 30)])\n"
   ]
  },
  {
   "cell_type": "code",
   "execution_count": 15,
   "metadata": {},
   "outputs": [
    {
     "name": "stdout",
     "output_type": "stream",
     "text": [
      "name John\n",
      "age 30\n",
      "name John\n",
      "age 30\n"
     ]
    }
   ],
   "source": [
    "# Loop Over a Dictionary\n",
    "my_dict = {\"name\": \"John\", \"age\": 30}\n",
    "\n",
    "for key in my_dict:\n",
    "    print(key, my_dict[key])\n",
    "\n",
    "for key, value in my_dict.items():\n",
    "    print(key, value)\n"
   ]
  },
  {
   "cell_type": "markdown",
   "metadata": {},
   "source": [
    "Specialized Container Datatypes"
   ]
  },
  {
   "cell_type": "code",
   "execution_count": 16,
   "metadata": {},
   "outputs": [
    {
     "name": "stdout",
     "output_type": "stream",
     "text": [
      "defaultdict(<class 'int'>, {'apple': 1})\n"
     ]
    }
   ],
   "source": [
    "# defaultdict\n",
    "from collections import defaultdict\n",
    "\n",
    "dd = defaultdict(int)  # Default value will be 0 for any new key\n",
    "dd[\"apple\"] += 1\n",
    "print(dd)  # defaultdict(<class 'int'>, {'apple': 1})\n"
   ]
  },
  {
   "cell_type": "code",
   "execution_count": 17,
   "metadata": {},
   "outputs": [
    {
     "name": "stdout",
     "output_type": "stream",
     "text": [
      "deque([0, 1, 2, 3, 4])\n"
     ]
    }
   ],
   "source": [
    "# deque\n",
    "from collections import deque\n",
    "\n",
    "d = deque([1, 2, 3])\n",
    "d.appendleft(0)  # Add to the left\n",
    "d.append(4)      # Add to the right\n",
    "print(d)  # deque([0, 1, 2, 3, 4])\n"
   ]
  },
  {
   "cell_type": "code",
   "execution_count": 18,
   "metadata": {},
   "outputs": [
    {
     "name": "stdout",
     "output_type": "stream",
     "text": [
      "Counter({'i': 4, 's': 4, 'p': 2, 'm': 1})\n"
     ]
    }
   ],
   "source": [
    "# Counter\n",
    "\n",
    "from collections import Counter\n",
    "\n",
    "word_count = Counter(\"mississippi\")\n",
    "print(word_count)  # Counter({'i': 4, 's': 4, 'p': 2, 'm': 1})\n"
   ]
  }
 ],
 "metadata": {
  "kernelspec": {
   "display_name": "Python 3",
   "language": "python",
   "name": "python3"
  },
  "language_info": {
   "codemirror_mode": {
    "name": "ipython",
    "version": 3
   },
   "file_extension": ".py",
   "mimetype": "text/x-python",
   "name": "python",
   "nbconvert_exporter": "python",
   "pygments_lexer": "ipython3",
   "version": "3.12.1"
  }
 },
 "nbformat": 4,
 "nbformat_minor": 2
}
