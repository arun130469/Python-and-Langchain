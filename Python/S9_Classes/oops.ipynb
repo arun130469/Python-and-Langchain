{
 "cells": [
  {
   "cell_type": "markdown",
   "metadata": {},
   "source": [
    "### Class vs Function"
   ]
  },
  {
   "cell_type": "markdown",
   "metadata": {},
   "source": [
    "<table><thead><tr><th>Aspect</th><th><strong>Class</strong></th><th><strong>Function</strong></th></tr></thead><tbody><tr><td><strong>Definition</strong></td><td>A class is a blueprint that defines attributes and methods to model an object.</td><td>A function is a block of reusable code that performs a specific task.</td></tr><tr><td><strong>State</strong></td><td>Classes maintain state through instance attributes.</td><td>Functions don’t have internal state unless global variables or external storage are used.</td></tr><tr><td><strong>Encapsulation</strong></td><td>Encapsulates both data (attributes) and behavior (methods) together.</td><td>Encapsulates behavior (a specific task) but not data.</td></tr><tr><td><strong>Reusability</strong></td><td>A class allows reusability through objects and methods, and can be extended via inheritance.</td><td>Functions are reusable but don’t support advanced reusability features like inheritance.</td></tr><tr><td><strong>Scope</strong></td><td>Classes can have multiple methods, each with their own scope, and methods can share the object's state.</td><td>Functions have their own local scope, and don't retain information between calls unless passed.</td></tr><tr><td><strong>When to Use</strong></td><td>Use classes when you need to model entities that require both state and behavior.</td><td>Use functions when you need to perform a simple, reusable task.</td></tr><tr><td><strong>Code Organization</strong></td><td>Classes promote modular and organized code, especially for larger applications.</td><td>Functions are better suited for simpler, specific tasks.</td></tr><tr><td><strong>Inheritance/Polymorphism</strong></td><td>Supports object-oriented concepts like inheritance, polymorphism, and encapsulation.</td><td>Functions don’t support inheritance or polymorphism.</td></tr><tr><td><strong>Real-World Representation</strong></td><td>Ideal for modeling real-world objects (e.g., a car, a bank account) with attributes and behaviors.</td><td>Ideal for implementing simple utilities (e.g., sorting, calculating a sum).</td></tr></tbody></table>"
   ]
  },
  {
   "cell_type": "markdown",
   "metadata": {},
   "source": [
    "### Class\n",
    "1. They are composed of attributes\n",
    "2. Attributes can be variables or functions\n",
    "3. Classes are also objects pretty much like an instance.\n",
    "4. Class attributes are attributes of the class object and shared by all its instances.\n",
    "5. Changing a mutable class attribute will show the change to all instances also.\n",
    "6. We refer functions defined on a class as _Function Objects_ and within an instance as _Method Objects_\n",
    "7. The difference is that when a method object is called Python passes as the first parameter as reference to the instance. Else the method will not know the context.\n"
   ]
  },
  {
   "cell_type": "code",
   "execution_count": 16,
   "metadata": {},
   "outputs": [
    {
     "name": "stdout",
     "output_type": "stream",
     "text": [
      "Creating the class object.\n",
      "Class attribute is already available 10\n",
      "The class attribute 10\n",
      "The instance has both class and instance attributes. A.classAttr=10, 20\n",
      "id(b.classAttr)=4390987032, id(a.classAttr)=4390987032\n",
      "The class attribute 10\n",
      "id(a.objAttr)=4390987352, id(b.objAttr)=4390987352\n",
      "A.lst=[1, 1], a.lst=[1, 1], b.lst=[1, 1]\n"
     ]
    }
   ],
   "source": [
    "class A:\n",
    "    classAttr = 10\n",
    "    lst = []\n",
    "    print('Creating the class object.')\n",
    "    def func(self):\n",
    "        print('The class attribute', A.classAttr) # because A is also an object and owns classAttr\n",
    "        self.objAttr = 20 # instance attribute. Not available in the class object. \n",
    "    def mutateList(self):\n",
    "        A.lst.append(1)\n",
    "\n",
    "\n",
    "print('Class attribute is already available', A.classAttr)\n",
    "a = A() # create an object of the class. At this stage objAttr is not defined.\n",
    "a.func() # this will add objAttr attribute to the object.\n",
    "print(f'The instance has both class and instance attributes. {A.classAttr=}, {a.objAttr}')\n",
    "\n",
    "\n",
    "# Lets make another instance\n",
    "b = A()\n",
    "print(f'{id(b.classAttr)=}, {id(a.classAttr)=}') # Both instances share the same class attribute. They are simply referring it from the class. \n",
    "\n",
    "b.func() # Lets have the objAttr also set up\n",
    "print(f\"{id(a.objAttr)=}, {id(b.objAttr)=}\") # they are obviously different.\n",
    "\n",
    "\n",
    "a.mutateList\n",
    "b.mutateList()\n",
    "A.mutateList(None)\n",
    "\n",
    "print(f'{A.lst=}, {a.lst=}, {b.lst=}') # Will show the list as modified by both as its shared. \n",
    "\n",
    "\n"
   ]
  },
  {
   "cell_type": "markdown",
   "metadata": {},
   "source": [
    "### The init method\n",
    "1. We use the init method to give it an initial state\n",
    "2. We saw above that objAttr was created after the method was invoked. Ideally we want it to exist the moment an instance is created\n",
    "3. We also want the same state attributes for each instance of the class but they should all be different and not references to the same class attribute.\n",
    "4. This is where `__init__()` comes in.\n",
    "5. If this is defined python executes it when creating an instnace and passes it the freshly minted instance of the class. \n",
    "6. You can use `__new__()` to manipulate this process. "
   ]
  },
  {
   "cell_type": "code",
   "execution_count": null,
   "metadata": {},
   "outputs": [],
   "source": [
    "# Modifying the above example.\n",
    "class A:\n",
    "    classAttr = 10\n",
    "    lst = []\n",
    "    print(\"Creating the class object.\")\n",
    "    def __init__(self, *, objAttrValue):\n",
    "        self.objAttr = objAttrValue # define and initialize an attribute on the instance. \n",
    "\n",
    "    def func(self):\n",
    "        print(\n",
    "            \"The class attribute\", A.classAttr\n",
    "        )  # because A is also an object and owns classAttr\n",
    "        self.objAttr = 20  # This now modifies the attribute value\n",
    "\n",
    "    def mutateList(self):\n",
    "        A.lst.append(1)\n",
    "\n",
    "\n",
    "a = A()\n",
    "print(f'{a.objAttr=}') # works as Init "
   ]
  },
  {
   "cell_type": "markdown",
   "metadata": {},
   "source": [
    "### Data attributes of classes"
   ]
  },
  {
   "cell_type": "code",
   "execution_count": 1,
   "metadata": {},
   "outputs": [
    {
     "name": "stdout",
     "output_type": "stream",
     "text": [
      "20\n",
      "30\n",
      "10\n"
     ]
    }
   ],
   "source": [
    "class MyClass:\n",
    "    class_variable = 10  # Class attribute\n",
    "\n",
    "    def __init__(self, instance_variable):\n",
    "        self.instance_variable = instance_variable  # Instance attribute\n",
    "\n",
    "obj1 = MyClass(20)\n",
    "obj2 = MyClass(30)\n",
    "\n",
    "print(obj1.instance_variable)  # 20\n",
    "print(obj2.instance_variable)  # 30\n",
    "print(MyClass.class_variable)  # 10"
   ]
  },
  {
   "cell_type": "markdown",
   "metadata": {},
   "source": [
    "#### Function Object vs Method Object"
   ]
  },
  {
   "cell_type": "code",
   "execution_count": 2,
   "metadata": {},
   "outputs": [
    {
     "name": "stdout",
     "output_type": "stream",
     "text": [
      "I am a function\n",
      "I am a method\n"
     ]
    }
   ],
   "source": [
    "def function():\n",
    "    print(\"I am a function\")\n",
    "\n",
    "class MyClass:\n",
    "    def method(self):\n",
    "        print(\"I am a method\")\n",
    "\n",
    "obj = MyClass()\n",
    "function()   # Function call\n",
    "obj.method()  # Method call\n"
   ]
  },
  {
   "cell_type": "markdown",
   "metadata": {},
   "source": [
    "#### Bound Method Object vs Function Object"
   ]
  },
  {
   "cell_type": "code",
   "execution_count": 3,
   "metadata": {},
   "outputs": [
    {
     "name": "stdout",
     "output_type": "stream",
     "text": [
      "I am bound to this instance\n"
     ]
    }
   ],
   "source": [
    "class MyClass:\n",
    "    def method(self):\n",
    "        print(\"I am bound to this instance\")\n",
    "\n",
    "obj = MyClass()\n",
    "bound_method = obj.method  # Bound method\n",
    "bound_method()  # Calls the method bound to obj\n"
   ]
  },
  {
   "cell_type": "markdown",
   "metadata": {},
   "source": [
    "#### Initial State of a Class"
   ]
  },
  {
   "cell_type": "code",
   "execution_count": 4,
   "metadata": {},
   "outputs": [
    {
     "name": "stdout",
     "output_type": "stream",
     "text": [
      "100\n"
     ]
    }
   ],
   "source": [
    "class MyClass:\n",
    "    def __init__(self, value):\n",
    "        self.value = value\n",
    "\n",
    "obj = MyClass(100)\n",
    "print(obj.value)  # 100\n"
   ]
  },
  {
   "cell_type": "code",
   "execution_count": 5,
   "metadata": {},
   "outputs": [],
   "source": [
    "## Playing Around with __init__"
   ]
  },
  {
   "cell_type": "code",
   "execution_count": 6,
   "metadata": {},
   "outputs": [
    {
     "name": "stdout",
     "output_type": "stream",
     "text": [
      "Jayant 30\n"
     ]
    }
   ],
   "source": [
    "class MyClass:\n",
    "    def __init__(self, name, age=25):  # Default age = 25\n",
    "        self.name = name\n",
    "        self.age = age\n",
    "\n",
    "obj = MyClass(\"Jayant\", 30)\n",
    "print(obj.name, obj.age)  # Jayant 30\n"
   ]
  },
  {
   "cell_type": "markdown",
   "metadata": {},
   "source": [
    "#### Calling Methods/Functions within an Instance or a Class"
   ]
  },
  {
   "cell_type": "code",
   "execution_count": 1,
   "metadata": {},
   "outputs": [
    {
     "name": "stdout",
     "output_type": "stream",
     "text": [
      "Instance method called\n",
      "Class method called\n"
     ]
    }
   ],
   "source": [
    "class MyClass:\n",
    "    def instance_method(self):\n",
    "        print(\"Instance method called\")\n",
    "\n",
    "    @classmethod\n",
    "    def class_method(cls):\n",
    "        print(\"Class method called\")\n",
    "\n",
    "obj = MyClass()\n",
    "obj.instance_method()  # Instance method\n",
    "MyClass.class_method()  # Class method\n"
   ]
  },
  {
   "cell_type": "markdown",
   "metadata": {},
   "source": [
    "#### Creating Classes Dynamically"
   ]
  },
  {
   "cell_type": "code",
   "execution_count": 2,
   "metadata": {},
   "outputs": [
    {
     "name": "stdout",
     "output_type": "stream",
     "text": [
      "42\n",
      "Dynamic method\n"
     ]
    }
   ],
   "source": [
    "DynamicClass = type('DynamicClass', (object,), {'attr': 42, 'method': lambda self: print(\"Dynamic method\")})\n",
    "\n",
    "obj = DynamicClass()\n",
    "print(obj.attr)  # 42\n",
    "obj.method()  # Dynamic method\n"
   ]
  },
  {
   "cell_type": "markdown",
   "metadata": {},
   "source": [
    "#### Metaclasses"
   ]
  },
  {
   "cell_type": "code",
   "execution_count": 3,
   "metadata": {},
   "outputs": [
    {
     "name": "stdout",
     "output_type": "stream",
     "text": [
      "Creating class: MyClass\n"
     ]
    }
   ],
   "source": [
    "class MyMeta(type):\n",
    "    def __new__(cls, name, bases, dct):\n",
    "        print(\"Creating class:\", name)\n",
    "        return super().__new__(cls, name, bases, dct)\n",
    "\n",
    "class MyClass(metaclass=MyMeta):\n",
    "    pass\n",
    "\n",
    "# Output: Creating class: MyClass\n"
   ]
  }
 ],
 "metadata": {
  "kernelspec": {
   "display_name": "Python 3",
   "language": "python",
   "name": "python3"
  },
  "language_info": {
   "codemirror_mode": {
    "name": "ipython",
    "version": 3
   },
   "file_extension": ".py",
   "mimetype": "text/x-python",
   "name": "python",
   "nbconvert_exporter": "python",
   "pygments_lexer": "ipython3",
   "version": "3.12.4"
  }
 },
 "nbformat": 4,
 "nbformat_minor": 2
}
