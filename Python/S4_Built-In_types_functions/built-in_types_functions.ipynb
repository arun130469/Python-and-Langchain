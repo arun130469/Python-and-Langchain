{
 "cells": [
  {
   "cell_type": "markdown",
   "metadata": {},
   "source": [
    "## Everything is an object\n",
    "\n",
    "1. In CPython entities that you deal with are objects\n",
    "2. So Int, string, dict, functions, classes are all objects.\n",
    "3. Actually these objects are all `struct` \n",
    "4. Check the CPython source code. Function Object: https://github.com/python/cpython/blob/main/Objects/funcobject.c \n",
    "5. Float Object here: https://github.com/python/cpython/blob/main/Objects/floatobject.c\n",
    "6. Each `object` in python is characterised by 3 key \n",
    "7. Every object has `identity`, `type` and `value` \n",
    "\n",
    "### Identity\n",
    "2. In CPython the identity is the memory address of the object and never changes.\n",
    "3. The ID can be viewed using `id(x)` function\n",
    "4. Use the `is` operator to perform an ID based comparison of objects. "
   ]
  },
  {
   "cell_type": "code",
   "execution_count": 13,
   "metadata": {},
   "outputs": [
    {
     "name": "stdout",
     "output_type": "stream",
     "text": [
      "4390937880\n",
      "val: 4390937880   val2: 4390937880\n",
      "str1:  4419974368 str2:  4419974368\n",
      "char1:  4390971168 char2:  4390971168\n",
      "ls1:  4493881840 ls2:  4493882480\n"
     ]
    }
   ],
   "source": [
    "val = 10\n",
    "print(id(val))\n",
    "val2 = val # does not create a new object but reuses the same object. \n",
    "\n",
    "if val is val2:\n",
    "    print('val:',id(val), '  val2:', id(val2)) # print if they have the same ID\n",
    "\n",
    "\n",
    "str1 = 'string1'\n",
    "str2 = str1\n",
    "\n",
    "print('str1: ', id(str1), 'str2: ', id(str2)) # same id\n",
    "\n",
    "char1 = 'a'\n",
    "char2 = 'a'\n",
    "\n",
    "print(\"char1: \", id(char1), \"char2: \", id(char2))  # Surprise!! they are same!\n",
    "\n",
    "longstring1 = 'this is a long string'\n",
    "longstring2 = 'this is a long string'\n",
    "\n",
    "print('ls1: ', id(longstring1), 'ls2: ', id(longstring2)) # BUT these are different!!"
   ]
  },
  {
   "cell_type": "markdown",
   "metadata": {},
   "source": [
    "### Type\n",
    "1. The type of an object determines the behavior of the object.\n",
    "2. `type(x)` gives the type of the object - which is an object in itself!\n",
    "3. Like identity the type of an object also cannot be changed."
   ]
  },
  {
   "cell_type": "code",
   "execution_count": 50,
   "metadata": {},
   "outputs": [
    {
     "name": "stdout",
     "output_type": "stream",
     "text": [
      "<class 'float'>\n",
      "<class 'float'>\n",
      "<class 'type'>\n",
      "typeOfType=<class 'type'>,  type(typeOfType)=<class 'type'>\n"
     ]
    },
    {
     "data": {
      "text/plain": [
       "\"<class 'type'>\""
      ]
     },
     "execution_count": 50,
     "metadata": {},
     "output_type": "execute_result"
    }
   ],
   "source": [
    "val = 1.0\n",
    "print(type(val)) # a user friendly value of the object. Calls the __str__()\n",
    "\n",
    "typeOfVal = type(val)\n",
    "print(typeOfVal) #An object that represents the type of val\n",
    "\n",
    "print(type(typeOfVal)) # Lets see the type of typeOfVal.\n",
    "\n",
    "typeOfType = type(typeOfVal) # Lets see what the type of type is\n",
    "\n",
    "print(f'{typeOfType=},  {type(typeOfType)=}') # an easy handy way of printing the name and value of variable.\n"
   ]
  },
  {
   "cell_type": "markdown",
   "metadata": {},
   "source": [
    "### Value\n",
    "1. Value refers to the state of an object. \n",
    "2. In interactive mode Python evaluates an expression and prints the results\n",
    "3. Read more here: https://en.wikipedia.org/wiki/Read–eval–print_loop\n",
    "4. So on the interactive prompt if we simply type a literal or the name of an object - its read-eval-printerd\n",
    "5. We can also explicitly get the value of an object by using `str()` and `repr()` methods.  \n",
    "6. You can also use an objects `__str__()`, `__repr__()` methods also. Remember to check if they are supported. "
   ]
  },
  {
   "cell_type": "code",
   "execution_count": 52,
   "metadata": {},
   "outputs": [
    {
     "name": "stdout",
     "output_type": "stream",
     "text": [
      "val.__str__()='10'\n",
      "str(val)='10'\n",
      "repr(val)='10'\n",
      "val.__repr__()='10'\n"
     ]
    }
   ],
   "source": [
    "val = 10\n",
    "print(f\"{val.__str__()=}\")\n",
    "print(f\"{str(val)=}\")\n",
    "\n",
    "print(f\"{repr(val)=}\")\n",
    "print(f\"{val.__repr__()=}\")"
   ]
  },
  {
   "cell_type": "markdown",
   "metadata": {},
   "source": [
    "## Methods supported by an object\n",
    "1. If you want to find all the menthods supported by an object use the `dir()` function"
   ]
  },
  {
   "cell_type": "code",
   "execution_count": null,
   "metadata": {},
   "outputs": [],
   "source": [
    "val = 'str'\n",
    "\n",
    "dir(val)"
   ]
  },
  {
   "cell_type": "markdown",
   "metadata": {},
   "source": [
    "## Numbers\n",
    "1. There are 3 types of numbers supported - integers, floating-point numbers and complex numbers\n",
    "2. There are 2 types of integers = `int` and `bool`\n",
    "3. `int` have unlimited range constrained by the memory availabe in the computer. \n",
    "4. `bool` represents truth value - `False` and `True`. Internally bools are a sub type of integers. \n",
    "\n",
    "### Integers\n",
    "1. In CPython they are not 32-bit or 64-bit representations of numbers.\n",
    "2. Internally they are represented by a struct, simplified version shown below:\n",
    "3. The value of the number integer is represented by `ob_digit` a pointer to an array of digits\n",
    "4. On 64 bit computers this is a 30 bit long word that can have value from `0` to `2**30-1`\n",
    "5. `ob_size` is a signed int whose value gives the number of digits in `ob_digit` array and the sign of the integer.\n",
    "6. Read more here: https://levelup.gitconnected.com/how-python-represents-integers-using-bignum-f8f0574d0d6b\n",
    "\n",
    "### Float\n",
    "1. Python supports `double` precision floating-point numbers.\n",
    "2. computers store floats in 2 parts. `mantissa` and the `exponent` of 2.\n",
    "3. `+/-mantissa` x `2**exponent`\n",
    "4.  Python has 52 bits mantissa and 11 b1ts for exponent. This is against 23 and 8 used for single precision.\n",
    "\n",
    "### Complex\n",
    "1. They represent function of square root of `-1`\n",
    "2. Internally they are stored as a pair of double precision floating-point numbers. "
   ]
  },
  {
   "cell_type": "code",
   "execution_count": null,
   "metadata": {},
   "outputs": [],
   "source": [
    "# C struct used for representing numbers.\n",
    "\n",
    "# struct{\n",
    "#   sssize_t obr_refcnt;\n",
    "#   struct _typeobject *ob_type;\n",
    "#   ssize_t ob_size;\n",
    "#   uint32_t ob_digit[1];\n",
    "# };"
   ]
  },
  {
   "cell_type": "code",
   "execution_count": 56,
   "metadata": {},
   "outputs": [
    {
     "name": "stdout",
     "output_type": "stream",
     "text": [
      "<class 'float'>\n",
      "<class 'complex'>   (47+26j)\n"
     ]
    }
   ],
   "source": [
    "val = 10.34\n",
    "print(type(val))\n",
    "\n",
    "cmpx = 45 + 23j\n",
    "cmpx2 = 2 + 3j\n",
    "print(type(cmpx), ' ', cmpx+cmpx2)\n"
   ]
  },
  {
   "cell_type": "code",
   "execution_count": 4,
   "metadata": {},
   "outputs": [
    {
     "name": "stdout",
     "output_type": "stream",
     "text": [
      "val=0 True\n",
      "val=0 True\n"
     ]
    }
   ],
   "source": [
    "val = 1\n",
    "\n",
    "print('val=0',val.__bool__())\n",
    "\n",
    "val = [1]\n",
    "print(\"val=0\", bool(val.__len__()))"
   ]
  },
  {
   "cell_type": "markdown",
   "metadata": {},
   "source": [
    "## Bools\n",
    "1. We know that bools are a special case of integers.\n",
    "2. For any object (and we know its all objects), its considered True by default. Unless it defines a special method `__bool__()` that returns its truthyness.\n",
    "3. Or a `__len__()` method. If it returns `0` then the object is False else True\n",
    "4. This in short determies the boolean nature of the object. "
   ]
  },
  {
   "cell_type": "code",
   "execution_count": 70,
   "metadata": {},
   "outputs": [
    {
     "name": "stdout",
     "output_type": "stream",
     "text": [
      "Checking int 1: (1).__bool__() = True, \n",
      "\t And True as integer is: int((1).__bool__()) = 1\n",
      "\n",
      "\n",
      "Array with members: bool([1,2,3].__len__()) = True, \n",
      "\t And an empty one: bool([].__len__()) = False\n"
     ]
    }
   ],
   "source": [
    "# (1) expression returns an int. (1,) returns a tuple\n",
    "print(f'Checking int 1: {(1).__bool__() = }, \\n\\t And True as integer is: {int((1).__bool__()) = }')\n",
    "\n",
    "# Lets look at an array\n",
    "\n",
    "print(f'\\n\\nArray with members: {bool([1,2,3].__len__()) = }, \\n\\t And an empty one: {bool([].__len__()) = }')"
   ]
  },
  {
   "cell_type": "markdown",
   "metadata": {},
   "source": [
    "## None\n",
    "1. There is a special type `None`\n",
    "2. Python maintains a `SINGLE` object of this type and all references point to this only\n",
    "3. It simply signifies absence of value. So setting any variable to None means that variable holds no value.\n",
    "4. Its boolean value is `False`"
   ]
  },
  {
   "cell_type": "code",
   "execution_count": 71,
   "metadata": {},
   "outputs": [
    {
     "name": "stdout",
     "output_type": "stream",
     "text": [
      "The truth value of None: val.__bool__() = False\n"
     ]
    }
   ],
   "source": [
    "val = None\n",
    "print(f'The truth value of None: {val.__bool__() = }')"
   ]
  },
  {
   "cell_type": "markdown",
   "metadata": {},
   "source": [
    "## Boolean Operations\n",
    "1. Python supports the following in the order of priority\n",
    "2. `Logical OR` - Any one of the expressions in a series need to be truthy to make the composite expression truthy. It follows that once a truthy expression is found subsequent evaluation will not be done.\n",
    "3. `Logical AND` - Any of of the expressions in a series need to be falsey to make the composite expression falsey. A falsey expression suspends further evaluation\n",
    "4. `NOT` - Applied to a single expression; inverses its truthyness."
   ]
  },
  {
   "cell_type": "code",
   "execution_count": 75,
   "metadata": {},
   "outputs": [
    {
     "name": "stdout",
     "output_type": "stream",
     "text": [
      "Logical OR of 0 and 1: True \n",
      "Logical AND of 0 and 1: False \n",
      "Inversing the truthyness of 1: False\n"
     ]
    }
   ],
   "source": [
    "# OR\n",
    "print(f'Logical OR of 0 and 1: {(0).__bool__() or (1).__bool__()} ')\n",
    "\n",
    "# AND\n",
    "print(f\"Logical AND of 0 and 1: {(0).__bool__() and (1).__bool__()} \")\n",
    "\n",
    "# NOT\n",
    "print(f'Inversing the truthyness of 1: {not (1).__bool__()}')"
   ]
  },
  {
   "cell_type": "markdown",
   "metadata": {},
   "source": [
    "## Comparison operators\n",
    "1. All the standard comparison operations are supported. \n",
    "2. `<`, `>`, `<=`, `>=`, `==`, `!=`, `is`, `is not`\n",
    "3. Objects of different types are always not equal until comparing int with float or complex.\n",
    "4. `is` is equivalent to `==` for some objects like class object. This means `is` internally calls `==`\n",
    "5. While we can override all operators; `is` and `is not` cannot be.\n",
    "6. The internal implementation used dunder methods like `__lt__()` for less than and so on."
   ]
  },
  {
   "cell_type": "code",
   "execution_count": 80,
   "metadata": {},
   "outputs": [
    {
     "name": "stdout",
     "output_type": "stream",
     "text": [
      "Imaginary part 0: True, Imaginary part non-zero: False \n",
      "Is 2 less than 3?: True\n",
      "Is 2 less than 3?: True\n"
     ]
    }
   ],
   "source": [
    "# comparing int with complex\n",
    "print(f\"Imaginary part 0: {2 == 2 +0j}, Imaginary part non-zero: {2 == 2 +1j} \")\n",
    "\n",
    "# using the internal dunder methods\n",
    "print(f'Is 2 less than 3?: {(2).__le__(3)}')\n",
    "\n",
    "# above is similar to:\n",
    "print(f\"Is 2 less than 3?: {2 < 3}\")"
   ]
  },
  {
   "cell_type": "markdown",
   "metadata": {},
   "source": [
    "## Numerical Operators\n",
    "1. All non complex numbers support the following:\n",
    "- `+` for addition\n",
    "- `-` for substraction\n",
    "- `*` for multiplication\n",
    "- `/` for quotient\n",
    "- `//` floored quotient\n",
    "- `%` remainder\n",
    "- `abs(x)` absolute value of `x`\n",
    "- `int(x)` convert `x` to int\n",
    "- `float(x)` convert `x` to float\n",
    "- `pow(x,y) or x ** y` raise `x` to power `y`"
   ]
  },
  {
   "cell_type": "code",
   "execution_count": 103,
   "metadata": {},
   "outputs": [
    {
     "name": "stdout",
     "output_type": "stream",
     "text": [
      "Quotient of 4/2: 2.0 is a float? True\n",
      "Quotient of 5/2: 2.5 And its floored is 2\n",
      "Absolute value should make things positive? True\n",
      "The float value is: 2.67 and when converted to int floors it: 2\n"
     ]
    }
   ],
   "source": [
    "# Quotient\n",
    "print(f'Quotient of 4/2: {4/2} is a float? {type(4/2) is float}')\n",
    "\n",
    "# Ok lets try something that does not divide fully and then the floored...\n",
    "print(f\"Quotient of 5/2: {5/2} And its floored is {5 // 2}\")\n",
    "\n",
    "# Absolute value\n",
    "print(f'Absolute value should make things positive? {abs(-1).__ge__(0)}')\n",
    "\n",
    "# int of a float\n",
    "print(f'The float value is: {8/3:.3} and when converted to int floors it: {int(8/3)}') # limit decimals to 3 including '.'"
   ]
  },
  {
   "cell_type": "markdown",
   "metadata": {},
   "source": [
    "## Bitwise Operators\n",
    "1. Supported only for integers. \n",
    "2. Supported are `OR` `XOR` `AND` `ShiftLeft n` `ShiftRight n` `Invert` "
   ]
  },
  {
   "cell_type": "code",
   "execution_count": 1,
   "metadata": {},
   "outputs": [
    {
     "name": "stdout",
     "output_type": "stream",
     "text": [
      "Integer Variable: 42 of type <class 'int'>\n",
      "Float Variable: 3.14159 of type <class 'float'>\n",
      "String Variable: LangChain Python Session of type <class 'str'>\n",
      "Boolean Variable: True of type <class 'bool'>\n",
      "Converted Float: 42.0 of type <class 'float'>\n",
      "Converted String: True of type <class 'str'>\n"
     ]
    }
   ],
   "source": [
    "# Variables and Data Types\n",
    "integer_var = 42\n",
    "float_var = 3.14159\n",
    "string_var = \"LangChain Python Session\"\n",
    "boolean_var = True\n",
    "\n",
    "# Type Conversion\n",
    "converted_float = float(integer_var)\n",
    "converted_string = str(boolean_var)\n",
    "\n",
    "# Printing Variables and Their Types\n",
    "print(\"Integer Variable:\", integer_var, \"of type\", type(integer_var))\n",
    "print(\"Float Variable:\", float_var, \"of type\", type(float_var))\n",
    "print(\"String Variable:\", string_var, \"of type\", type(string_var))\n",
    "print(\"Boolean Variable:\", boolean_var, \"of type\", type(boolean_var))\n",
    "print(\"Converted Float:\", converted_float, \"of type\", type(converted_float))\n",
    "print(\"Converted String:\", converted_string, \"of type\", type(converted_string))\n"
   ]
  },
  {
   "cell_type": "markdown",
   "metadata": {},
   "source": [
    "## Type Conversion (Explicit)"
   ]
  },
  {
   "cell_type": "code",
   "execution_count": 2,
   "metadata": {},
   "outputs": [
    {
     "name": "stdout",
     "output_type": "stream",
     "text": [
      "Original Integer: 42 -> Converted to Float: 42.0 of type <class 'float'>\n",
      "Original Boolean: True -> Converted to String: True of type <class 'str'>\n",
      "Original Float: 3.14159 -> Converted to Integer: 3 of type <class 'int'>\n"
     ]
    }
   ],
   "source": [
    "# Variables of different types\n",
    "integer_var = 42\n",
    "float_var = 3.14159\n",
    "string_var = \"LangChain Python Session\"\n",
    "boolean_var = True\n",
    "\n",
    "# Type Conversion (Explicit)\n",
    "converted_float = float(integer_var)  # Convert integer to float\n",
    "converted_string = str(boolean_var)   # Convert boolean to string\n",
    "converted_integer = int(float_var)    # Convert float to integer (note the truncation)\n",
    "\n",
    "# Printing Variables and Their Types after Conversion\n",
    "print(\"Original Integer:\", integer_var, \"-> Converted to Float:\", converted_float, \"of type\", type(converted_float))\n",
    "print(\"Original Boolean:\", boolean_var, \"-> Converted to String:\", converted_string, \"of type\", type(converted_string))\n",
    "print(\"Original Float:\", float_var, \"-> Converted to Integer:\", converted_integer, \"of type\", type(converted_integer))\n"
   ]
  },
  {
   "cell_type": "markdown",
   "metadata": {},
   "source": [
    "## Type Casting (Implicit)"
   ]
  },
  {
   "cell_type": "code",
   "execution_count": 5,
   "metadata": {},
   "outputs": [
    {
     "name": "stdout",
     "output_type": "stream",
     "text": [
      "Result of Integer + Float: 45.14159 of type <class 'float'>\n"
     ]
    }
   ],
   "source": [
    "integer_var = 42\n",
    "float_var = 3.14159\n",
    "\n",
    "# Implicit Type Casting\n",
    "result = integer_var + float_var  # integer is automatically cast to float\n",
    "print(\"Result of Integer + Float:\", result, \"of type\", type(result))\n"
   ]
  },
  {
   "cell_type": "markdown",
   "metadata": {},
   "source": [
    "## Interning \n",
    "1. For better proformance Python does many optimizations. One of them is Interning\n",
    "2. Creating and garbage collecting objects is expensive, lot more than managing references to them\n",
    "3. So python like to maintain a single reusable object and manage references to it.\n",
    "4. All empty strings and string of length 1 are interned. \n",
    "5. Slightly longer string can also be intered - but this is an internal detail and an change\n",
    "6. We can explicitly intern string as and when needed.\n",
    "7. A string can contain characters that are interned. This is usually the case."
   ]
  },
  {
   "cell_type": "code",
   "execution_count": 135,
   "metadata": {},
   "outputs": [
    {
     "name": "stdout",
     "output_type": "stream",
     "text": [
      "Compact strings are interned fully:  True Length: 4\n",
      "String with spaces are not:  False Length: 7\n",
      "But all strings reuse interned characters:  True\n",
      "True Length: 7\n"
     ]
    }
   ],
   "source": [
    "import sys\n",
    "val1 = 'Hold'\n",
    "val2 = \"Hold\"\n",
    "\n",
    "print(f'Compact strings are interned fully: ',val1 is val2, f'Length: {val1.__len__()}') # interned\n",
    "\n",
    "val1 = \"Hold Me\"\n",
    "val2 = \"Hold Me\"\n",
    "\n",
    "print(f'String with spaces are not: ',val1 is val2, f\"Length: {val1.__len__()}\") \n",
    "\n",
    "print(f'But all strings reuse interned characters: ',val1[1] is val2[1]) # individual characters are however interned\n",
    "\n",
    "\n",
    "# Explicitly interning strings with spaces.\n",
    "val1 = sys.intern('Hold Me')\n",
    "val2 = sys.intern(\"Hold Me\")\n",
    "print(val1 is val2, f\"Length: {val1.__len__()}\")  # full string not interned"
   ]
  },
  {
   "cell_type": "code",
   "execution_count": 29,
   "metadata": {},
   "outputs": [
    {
     "name": "stdout",
     "output_type": "stream",
     "text": [
      "Are string_a and string_b the same object? True\n",
      "Are string_c and string_d the same object? True\n",
      "Are string_c and string_d the same object? True\n",
      "Does spaces have interning False\n"
     ]
    }
   ],
   "source": [
    "# More examples\n",
    "\n",
    "# Interning example with strings\n",
    "string_a = \"hello\"\n",
    "string_b = \"hello\"\n",
    "print(\"Are string_a and string_b the same object?\", string_a is string_b)  # This should return True because of interning\n",
    "\n",
    "# When strings are longer or generated at runtime, interning may not happen automatically\n",
    "string_c = \"long_string_example_12345\"\n",
    "string_d = \"long_string_example_12345\"\n",
    "print(\"Are string_c and string_d the same object?\", string_c is string_d)  # Might return False\n",
    "\n",
    "print(\"Are string_c and string_d the same object?\", string_c[0] is string_d[0])\n",
    "\n",
    "\n",
    "# Likely False because spaces are not interned automatically\n",
    "space_a = \"a b\"\n",
    "space_b = \"a b\"\n",
    "print(\"Does spaces have interning\", space_a is space_b)\n"
   ]
  }
 ],
 "metadata": {
  "kernelspec": {
   "display_name": "Python 3",
   "language": "python",
   "name": "python3"
  },
  "language_info": {
   "codemirror_mode": {
    "name": "ipython",
    "version": 3
   },
   "file_extension": ".py",
   "mimetype": "text/x-python",
   "name": "python",
   "nbconvert_exporter": "python",
   "pygments_lexer": "ipython3",
   "version": "3.12.4"
  }
 },
 "nbformat": 4,
 "nbformat_minor": 2
}
