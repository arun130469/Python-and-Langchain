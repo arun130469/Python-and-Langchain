{
 "cells": [
  {
   "cell_type": "markdown",
   "metadata": {},
   "source": [
    "## Everything is an object\n",
    "\n",
    "1. In CPython entities that you deal with are objects\n",
    "2. So Int, string, dict, functions, classes are all objects.\n",
    "3. Actually these objects are all `struct` \n",
    "4. Check the CPython source code. Function Object: https://github.com/python/cpython/blob/main/Objects/funcobject.c \n",
    "5. Float Object here: https://github.com/python/cpython/blob/main/Objects/floatobject.c\n",
    "6. Each `object` in python is characterised by 3 key \n",
    "7. Every object has `identity`, `type` and `value` \n",
    "\n",
    "### Identity\n",
    "2. In CPython the identity is the memory address of the object and never changes.\n",
    "3. The ID can be viewed using `id(x)` function\n",
    "4. Use the `is` operator to perform an ID based comparison of objects. "
   ]
  },
  {
   "cell_type": "code",
   "execution_count": 13,
   "metadata": {},
   "outputs": [
    {
     "name": "stdout",
     "output_type": "stream",
     "text": [
      "4390937880\n",
      "val: 4390937880   val2: 4390937880\n",
      "str1:  4419974368 str2:  4419974368\n",
      "char1:  4390971168 char2:  4390971168\n",
      "ls1:  4493881840 ls2:  4493882480\n"
     ]
    }
   ],
   "source": [
    "val = 10\n",
    "print(id(val))\n",
    "val2 = val # does not create a new object but reuses the same object. \n",
    "\n",
    "if val is val2:\n",
    "    print('val:',id(val), '  val2:', id(val2)) # print if they have the same ID\n",
    "\n",
    "\n",
    "str1 = 'string1'\n",
    "str2 = str1\n",
    "\n",
    "print('str1: ', id(str1), 'str2: ', id(str2)) # same id\n",
    "\n",
    "char1 = 'a'\n",
    "char2 = 'a'\n",
    "\n",
    "print(\"char1: \", id(char1), \"char2: \", id(char2))  # Surprise!! they are same!\n",
    "\n",
    "longstring1 = 'this is a long string'\n",
    "longstring2 = 'this is a long string'\n",
    "\n",
    "print('ls1: ', id(longstring1), 'ls2: ', id(longstring2)) # BUT these are different!!"
   ]
  },
  {
   "cell_type": "markdown",
   "metadata": {},
   "source": [
    "### Type\n",
    "1. The type of an object determines the behavior of the object.\n",
    "2. `type(x)` gives the type of the object - which is an object in itself!"
   ]
  },
  {
   "cell_type": "code",
   "execution_count": 36,
   "metadata": {},
   "outputs": [
    {
     "name": "stdout",
     "output_type": "stream",
     "text": [
      "<class 'float'>\n",
      "<class 'float'>\n",
      "<class 'type'>\n",
      "typeOfType=<class 'type'>,  type(typeOfType)=<class 'type'>\n"
     ]
    }
   ],
   "source": [
    "val = 1.0\n",
    "print(type(val)) # a user friendly value of the object. Calls the __str__()\n",
    "\n",
    "typeOfVal = type(val)\n",
    "print(typeOfVal) #An object that represents the type of val\n",
    "\n",
    "print(type(typeOfVal)) # Lets see the type of typeOfVal.\n",
    "\n",
    "typeOfType = type(typeOfVal) # Lets see what the type of type is\n",
    "\n",
    "print(f'{typeOfType=},  {type(typeOfType)=}') # an easy handy way of printing the name and value of variable.\n",
    "\n"
   ]
  },
  {
   "cell_type": "code",
   "execution_count": 4,
   "metadata": {},
   "outputs": [
    {
     "name": "stdout",
     "output_type": "stream",
     "text": [
      "val=0 True\n",
      "val=0 True\n"
     ]
    }
   ],
   "source": [
    "val = 1\n",
    "\n",
    "print('val=0',val.__bool__())\n",
    "\n",
    "val = [1]\n",
    "print(\"val=0\", bool(val.__len__()))"
   ]
  },
  {
   "cell_type": "markdown",
   "metadata": {},
   "source": [
    "### Variables and Data Types"
   ]
  },
  {
   "cell_type": "code",
   "execution_count": 1,
   "metadata": {},
   "outputs": [
    {
     "name": "stdout",
     "output_type": "stream",
     "text": [
      "Integer Variable: 42 of type <class 'int'>\n",
      "Float Variable: 3.14159 of type <class 'float'>\n",
      "String Variable: LangChain Python Session of type <class 'str'>\n",
      "Boolean Variable: True of type <class 'bool'>\n",
      "Converted Float: 42.0 of type <class 'float'>\n",
      "Converted String: True of type <class 'str'>\n"
     ]
    }
   ],
   "source": [
    "# Variables and Data Types\n",
    "integer_var = 42\n",
    "float_var = 3.14159\n",
    "string_var = \"LangChain Python Session\"\n",
    "boolean_var = True\n",
    "\n",
    "# Type Conversion\n",
    "converted_float = float(integer_var)\n",
    "converted_string = str(boolean_var)\n",
    "\n",
    "# Printing Variables and Their Types\n",
    "print(\"Integer Variable:\", integer_var, \"of type\", type(integer_var))\n",
    "print(\"Float Variable:\", float_var, \"of type\", type(float_var))\n",
    "print(\"String Variable:\", string_var, \"of type\", type(string_var))\n",
    "print(\"Boolean Variable:\", boolean_var, \"of type\", type(boolean_var))\n",
    "print(\"Converted Float:\", converted_float, \"of type\", type(converted_float))\n",
    "print(\"Converted String:\", converted_string, \"of type\", type(converted_string))\n"
   ]
  },
  {
   "cell_type": "markdown",
   "metadata": {},
   "source": [
    "### Type Conversion (Explicit)"
   ]
  },
  {
   "cell_type": "code",
   "execution_count": 2,
   "metadata": {},
   "outputs": [
    {
     "name": "stdout",
     "output_type": "stream",
     "text": [
      "Original Integer: 42 -> Converted to Float: 42.0 of type <class 'float'>\n",
      "Original Boolean: True -> Converted to String: True of type <class 'str'>\n",
      "Original Float: 3.14159 -> Converted to Integer: 3 of type <class 'int'>\n"
     ]
    }
   ],
   "source": [
    "# Variables of different types\n",
    "integer_var = 42\n",
    "float_var = 3.14159\n",
    "string_var = \"LangChain Python Session\"\n",
    "boolean_var = True\n",
    "\n",
    "# Type Conversion (Explicit)\n",
    "converted_float = float(integer_var)  # Convert integer to float\n",
    "converted_string = str(boolean_var)   # Convert boolean to string\n",
    "converted_integer = int(float_var)    # Convert float to integer (note the truncation)\n",
    "\n",
    "# Printing Variables and Their Types after Conversion\n",
    "print(\"Original Integer:\", integer_var, \"-> Converted to Float:\", converted_float, \"of type\", type(converted_float))\n",
    "print(\"Original Boolean:\", boolean_var, \"-> Converted to String:\", converted_string, \"of type\", type(converted_string))\n",
    "print(\"Original Float:\", float_var, \"-> Converted to Integer:\", converted_integer, \"of type\", type(converted_integer))\n"
   ]
  },
  {
   "cell_type": "markdown",
   "metadata": {},
   "source": [
    "Type Casting (Implicit)"
   ]
  },
  {
   "cell_type": "code",
   "execution_count": 5,
   "metadata": {},
   "outputs": [
    {
     "name": "stdout",
     "output_type": "stream",
     "text": [
      "Result of Integer + Float: 45.14159 of type <class 'float'>\n"
     ]
    }
   ],
   "source": [
    "integer_var = 42\n",
    "float_var = 3.14159\n",
    "\n",
    "# Implicit Type Casting\n",
    "result = integer_var + float_var  # integer is automatically cast to float\n",
    "print(\"Result of Integer + Float:\", result, \"of type\", type(result))\n"
   ]
  },
  {
   "cell_type": "markdown",
   "metadata": {},
   "source": [
    "Interning (for Strings)"
   ]
  },
  {
   "cell_type": "code",
   "execution_count": 29,
   "metadata": {},
   "outputs": [
    {
     "name": "stdout",
     "output_type": "stream",
     "text": [
      "Are string_a and string_b the same object? True\n",
      "Are string_c and string_d the same object? True\n",
      "Are string_c and string_d the same object? True\n",
      "Does spaces have interning False\n"
     ]
    }
   ],
   "source": [
    "# Interning example with strings\n",
    "string_a = \"hello\"\n",
    "string_b = \"hello\"\n",
    "print(\"Are string_a and string_b the same object?\", string_a is string_b)  # This should return True because of interning\n",
    "\n",
    "# When strings are longer or generated at runtime, interning may not happen automatically\n",
    "string_c = \"long_string_example_12345\"\n",
    "string_d = \"long_string_example_12345\"\n",
    "print(\"Are string_c and string_d the same object?\", string_c is string_d)  # Might return False\n",
    "\n",
    "print(\"Are string_c and string_d the same object?\", string_c[0] is string_d[0])\n",
    "\n",
    "\n",
    "# Likely False because spaces are not interned automatically\n",
    "space_a = \"a b\"\n",
    "space_b = \"a b\"\n",
    "print(\"Does spaces have interning\", space_a is space_b)\n"
   ]
  },
  {
   "cell_type": "code",
   "execution_count": 30,
   "metadata": {},
   "outputs": [
    {
     "name": "stdout",
     "output_type": "stream",
     "text": [
      "True\n"
     ]
    }
   ],
   "source": [
    "import sys\n",
    "\n",
    "string_c = sys.intern(\"hello world\")\n",
    "string_d = sys.intern(\"hello world\")\n",
    "print(string_c is string_d)  # This will return True after explicit interning\n"
   ]
  }
 ],
 "metadata": {
  "kernelspec": {
   "display_name": "Python 3",
   "language": "python",
   "name": "python3"
  },
  "language_info": {
   "codemirror_mode": {
    "name": "ipython",
    "version": 3
   },
   "file_extension": ".py",
   "mimetype": "text/x-python",
   "name": "python",
   "nbconvert_exporter": "python",
   "pygments_lexer": "ipython3",
   "version": "3.12.4"
  }
 },
 "nbformat": 4,
 "nbformat_minor": 2
}
