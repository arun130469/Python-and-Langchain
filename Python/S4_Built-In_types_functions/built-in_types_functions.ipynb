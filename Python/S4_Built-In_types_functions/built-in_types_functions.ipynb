{
 "cells": [
  {
   "cell_type": "code",
   "execution_count": 4,
   "metadata": {},
   "outputs": [
    {
     "name": "stdout",
     "output_type": "stream",
     "text": [
      "val=0 True\n",
      "val=0 True\n"
     ]
    }
   ],
   "source": [
    "val = 1\n",
    "\n",
    "print('val=0',val.__bool__())\n",
    "\n",
    "val = [1]\n",
    "print(\"val=0\", bool(val.__len__()))"
   ]
  },
  {
   "cell_type": "markdown",
   "metadata": {},
   "source": [
    "### Variables and Data Types"
   ]
  },
  {
   "cell_type": "code",
   "execution_count": 1,
   "metadata": {},
   "outputs": [
    {
     "name": "stdout",
     "output_type": "stream",
     "text": [
      "Integer Variable: 42 of type <class 'int'>\n",
      "Float Variable: 3.14159 of type <class 'float'>\n",
      "String Variable: LangChain Python Session of type <class 'str'>\n",
      "Boolean Variable: True of type <class 'bool'>\n",
      "Converted Float: 42.0 of type <class 'float'>\n",
      "Converted String: True of type <class 'str'>\n"
     ]
    }
   ],
   "source": [
    "# Variables and Data Types\n",
    "integer_var = 42\n",
    "float_var = 3.14159\n",
    "string_var = \"LangChain Python Session\"\n",
    "boolean_var = True\n",
    "\n",
    "# Type Conversion\n",
    "converted_float = float(integer_var)\n",
    "converted_string = str(boolean_var)\n",
    "\n",
    "# Printing Variables and Their Types\n",
    "print(\"Integer Variable:\", integer_var, \"of type\", type(integer_var))\n",
    "print(\"Float Variable:\", float_var, \"of type\", type(float_var))\n",
    "print(\"String Variable:\", string_var, \"of type\", type(string_var))\n",
    "print(\"Boolean Variable:\", boolean_var, \"of type\", type(boolean_var))\n",
    "print(\"Converted Float:\", converted_float, \"of type\", type(converted_float))\n",
    "print(\"Converted String:\", converted_string, \"of type\", type(converted_string))\n"
   ]
  },
  {
   "cell_type": "markdown",
   "metadata": {},
   "source": [
    "### Type Conversion (Explicit)"
   ]
  },
  {
   "cell_type": "code",
   "execution_count": 2,
   "metadata": {},
   "outputs": [
    {
     "name": "stdout",
     "output_type": "stream",
     "text": [
      "Original Integer: 42 -> Converted to Float: 42.0 of type <class 'float'>\n",
      "Original Boolean: True -> Converted to String: True of type <class 'str'>\n",
      "Original Float: 3.14159 -> Converted to Integer: 3 of type <class 'int'>\n"
     ]
    }
   ],
   "source": [
    "# Variables of different types\n",
    "integer_var = 42\n",
    "float_var = 3.14159\n",
    "string_var = \"LangChain Python Session\"\n",
    "boolean_var = True\n",
    "\n",
    "# Type Conversion (Explicit)\n",
    "converted_float = float(integer_var)  # Convert integer to float\n",
    "converted_string = str(boolean_var)   # Convert boolean to string\n",
    "converted_integer = int(float_var)    # Convert float to integer (note the truncation)\n",
    "\n",
    "# Printing Variables and Their Types after Conversion\n",
    "print(\"Original Integer:\", integer_var, \"-> Converted to Float:\", converted_float, \"of type\", type(converted_float))\n",
    "print(\"Original Boolean:\", boolean_var, \"-> Converted to String:\", converted_string, \"of type\", type(converted_string))\n",
    "print(\"Original Float:\", float_var, \"-> Converted to Integer:\", converted_integer, \"of type\", type(converted_integer))\n"
   ]
  },
  {
   "cell_type": "markdown",
   "metadata": {},
   "source": [
    "Type Casting (Implicit)"
   ]
  },
  {
   "cell_type": "code",
   "execution_count": 5,
   "metadata": {},
   "outputs": [
    {
     "name": "stdout",
     "output_type": "stream",
     "text": [
      "Result of Integer + Float: 45.14159 of type <class 'float'>\n"
     ]
    }
   ],
   "source": [
    "integer_var = 42\n",
    "float_var = 3.14159\n",
    "\n",
    "# Implicit Type Casting\n",
    "result = integer_var + float_var  # integer is automatically cast to float\n",
    "print(\"Result of Integer + Float:\", result, \"of type\", type(result))\n"
   ]
  },
  {
   "cell_type": "markdown",
   "metadata": {},
   "source": [
    "Interning (for Strings)"
   ]
  },
  {
   "cell_type": "code",
   "execution_count": 29,
   "metadata": {},
   "outputs": [
    {
     "name": "stdout",
     "output_type": "stream",
     "text": [
      "Are string_a and string_b the same object? True\n",
      "Are string_c and string_d the same object? True\n",
      "Are string_c and string_d the same object? True\n",
      "Does spaces have interning False\n"
     ]
    }
   ],
   "source": [
    "# Interning example with strings\n",
    "string_a = \"hello\"\n",
    "string_b = \"hello\"\n",
    "print(\"Are string_a and string_b the same object?\", string_a is string_b)  # This should return True because of interning\n",
    "\n",
    "# When strings are longer or generated at runtime, interning may not happen automatically\n",
    "string_c = \"long_string_example_12345\"\n",
    "string_d = \"long_string_example_12345\"\n",
    "print(\"Are string_c and string_d the same object?\", string_c is string_d)  # Might return False\n",
    "\n",
    "print(\"Are string_c and string_d the same object?\", string_c[0] is string_d[0])\n",
    "\n",
    "\n",
    "# Likely False because spaces are not interned automatically\n",
    "space_a = \"a b\"\n",
    "space_b = \"a b\"\n",
    "print(\"Does spaces have interning\", space_a is space_b)\n"
   ]
  },
  {
   "cell_type": "code",
   "execution_count": 30,
   "metadata": {},
   "outputs": [
    {
     "name": "stdout",
     "output_type": "stream",
     "text": [
      "True\n"
     ]
    }
   ],
   "source": [
    "import sys\n",
    "\n",
    "string_c = sys.intern(\"hello world\")\n",
    "string_d = sys.intern(\"hello world\")\n",
    "print(string_c is string_d)  # This will return True after explicit interning\n"
   ]
  }
 ],
 "metadata": {
  "kernelspec": {
   "display_name": "Python 3",
   "language": "python",
   "name": "python3"
  },
  "language_info": {
   "codemirror_mode": {
    "name": "ipython",
    "version": 3
   },
   "file_extension": ".py",
   "mimetype": "text/x-python",
   "name": "python",
   "nbconvert_exporter": "python",
   "pygments_lexer": "ipython3",
   "version": "3.12.4"
  }
 },
 "nbformat": 4,
 "nbformat_minor": 2
}
