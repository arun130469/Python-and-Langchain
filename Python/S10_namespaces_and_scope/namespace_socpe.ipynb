{
 "cells": [
  {
   "cell_type": "markdown",
   "metadata": {},
   "source": [
    "### Types of Namespaces:\n",
    "- Local namespace: Inside a function, a local namespace holds the names defined within the function.\n",
    "- Global namespace: The namespace for variables defined at the top level of a script or module.\n",
    "- Built-in namespace: Contains all built-in Python functions and exceptions like print(), len(), etc.\n",
    "\n",
    "Python resolves variable names by looking in these namespaces in a specific order: Local → Enclosing → Global → Built-in (this is called the LEGB rule)."
   ]
  },
  {
   "cell_type": "code",
   "execution_count": 4,
   "metadata": {},
   "outputs": [
    {
     "name": "stdout",
     "output_type": "stream",
     "text": [
      "Inside function: 5\n",
      "Outside function: 10\n"
     ]
    }
   ],
   "source": [
    "# Global namespace\n",
    "x = 10\n",
    "\n",
    "def my_function():\n",
    "    # Local namespace\n",
    "    x = 5\n",
    "    print(\"Inside function:\", x)\n",
    "\n",
    "my_function()\n",
    "print(\"Outside function:\", x)\n"
   ]
  },
  {
   "cell_type": "markdown",
   "metadata": {},
   "source": [
    "You can see the namespaces as dictionaries using Python's built-in functions locals() and globals():"
   ]
  },
  {
   "cell_type": "code",
   "execution_count": 5,
   "metadata": {},
   "outputs": [
    {
     "name": "stdout",
     "output_type": "stream",
     "text": [
      "{'__name__': '__main__', '__doc__': 'Automatically created module for IPython interactive environment', '__package__': None, '__loader__': None, '__spec__': None, '__builtin__': <module 'builtins' (built-in)>, '__builtins__': <module 'builtins' (built-in)>, '_ih': ['', 'print(globals())  # Dictionary of global variables', 'x = 10  # Global scope\\n\\ndef outer_function():\\n    x = 5  # Enclosing scope\\n\\n    def inner_function():\\n        x = 3  # Local scope\\n        print(\"Inner:\", x)\\n\\n    inner_function()\\n    print(\"Outer:\", x)\\n\\nouter_function()\\nprint(\"Global:\", x)', '# Global variable\\nx = \"global x\"\\n\\ndef outer_function():\\n    # Enclosing (nonlocal) variable\\n    x = \"enclosing x\"\\n\\n    def inner_function():\\n        # Local variable\\n        x = \"local x\"\\n        print(\"Inner function:\", x)  # This will print the local x\\n\\n    def modify_enclosing():\\n        nonlocal x  # Refers to enclosing x\\n        x = \"modified enclosing x\"\\n        print(\"Inner function after modifying enclosing:\", x)\\n\\n    def modify_global():\\n        global x  # Refers to the global x\\n        x = \"modified global x\"\\n        print(\"Inner function after modifying global:\", x)\\n\\n    print(\"Outer function before calling inner functions:\", x)  # This will print the enclosing x\\n    inner_function()  # This will print the local x\\n    print(\"Outer function after calling inner function:\", x)  # Still prints enclosing x\\n    modify_enclosing()  # Modifies the enclosing x\\n    print(\"Outer function after modifying enclosing:\", x)  # This prints the modified enclosing x\\n    modify_global()  # Modifies the global x\\n    print(\"Outer function after modifying global:\", x)  # Still prints the modified enclosing x\\n\\n# Calling the outer function\\nouter_function()\\n\\n# Checking the global variable outside\\nprint(\"Global scope after calling outer_function:\", x)  # Prints the modified global x', '# Global namespace\\nx = 10\\n\\ndef my_function():\\n    # Local namespace\\n    x = 5\\n    print(\"Inside function:\", x)\\n\\nmy_function()\\nprint(\"Outside function:\", x)', 'print(globals())  # Dictionary of global variables'], '_oh': {}, '_dh': [PosixPath('/workspaces/Python-and-Langchain/Python/S10_namespaces_and_scope')], 'In': ['', 'print(globals())  # Dictionary of global variables', 'x = 10  # Global scope\\n\\ndef outer_function():\\n    x = 5  # Enclosing scope\\n\\n    def inner_function():\\n        x = 3  # Local scope\\n        print(\"Inner:\", x)\\n\\n    inner_function()\\n    print(\"Outer:\", x)\\n\\nouter_function()\\nprint(\"Global:\", x)', '# Global variable\\nx = \"global x\"\\n\\ndef outer_function():\\n    # Enclosing (nonlocal) variable\\n    x = \"enclosing x\"\\n\\n    def inner_function():\\n        # Local variable\\n        x = \"local x\"\\n        print(\"Inner function:\", x)  # This will print the local x\\n\\n    def modify_enclosing():\\n        nonlocal x  # Refers to enclosing x\\n        x = \"modified enclosing x\"\\n        print(\"Inner function after modifying enclosing:\", x)\\n\\n    def modify_global():\\n        global x  # Refers to the global x\\n        x = \"modified global x\"\\n        print(\"Inner function after modifying global:\", x)\\n\\n    print(\"Outer function before calling inner functions:\", x)  # This will print the enclosing x\\n    inner_function()  # This will print the local x\\n    print(\"Outer function after calling inner function:\", x)  # Still prints enclosing x\\n    modify_enclosing()  # Modifies the enclosing x\\n    print(\"Outer function after modifying enclosing:\", x)  # This prints the modified enclosing x\\n    modify_global()  # Modifies the global x\\n    print(\"Outer function after modifying global:\", x)  # Still prints the modified enclosing x\\n\\n# Calling the outer function\\nouter_function()\\n\\n# Checking the global variable outside\\nprint(\"Global scope after calling outer_function:\", x)  # Prints the modified global x', '# Global namespace\\nx = 10\\n\\ndef my_function():\\n    # Local namespace\\n    x = 5\\n    print(\"Inside function:\", x)\\n\\nmy_function()\\nprint(\"Outside function:\", x)', 'print(globals())  # Dictionary of global variables'], 'Out': {}, 'get_ipython': <bound method InteractiveShell.get_ipython of <ipykernel.zmqshell.ZMQInteractiveShell object at 0x70e3303dca70>>, 'exit': <IPython.core.autocall.ZMQExitAutocall object at 0x70e330732570>, 'quit': <IPython.core.autocall.ZMQExitAutocall object at 0x70e330732570>, 'open': <function open at 0x70e3354d7c40>, '_': '', '__': '', '___': '', '__vsc_ipynb_file__': '/workspaces/Python-and-Langchain/Python/S10_namespaces_and_scope/namespace_socpe.ipynb', '_i': '# Global namespace\\nx = 10\\n\\ndef my_function():\\n    # Local namespace\\n    x = 5\\n    print(\"Inside function:\", x)\\n\\nmy_function()\\nprint(\"Outside function:\", x)', '_ii': '# Global variable\\nx = \"global x\"\\n\\ndef outer_function():\\n    # Enclosing (nonlocal) variable\\n    x = \"enclosing x\"\\n\\n    def inner_function():\\n        # Local variable\\n        x = \"local x\"\\n        print(\"Inner function:\", x)  # This will print the local x\\n\\n    def modify_enclosing():\\n        nonlocal x  # Refers to enclosing x\\n        x = \"modified enclosing x\"\\n        print(\"Inner function after modifying enclosing:\", x)\\n\\n    def modify_global():\\n        global x  # Refers to the global x\\n        x = \"modified global x\"\\n        print(\"Inner function after modifying global:\", x)\\n\\n    print(\"Outer function before calling inner functions:\", x)  # This will print the enclosing x\\n    inner_function()  # This will print the local x\\n    print(\"Outer function after calling inner function:\", x)  # Still prints enclosing x\\n    modify_enclosing()  # Modifies the enclosing x\\n    print(\"Outer function after modifying enclosing:\", x)  # This prints the modified enclosing x\\n    modify_global()  # Modifies the global x\\n    print(\"Outer function after modifying global:\", x)  # Still prints the modified enclosing x\\n\\n# Calling the outer function\\nouter_function()\\n\\n# Checking the global variable outside\\nprint(\"Global scope after calling outer_function:\", x)  # Prints the modified global x', '_iii': 'x = 10  # Global scope\\n\\ndef outer_function():\\n    x = 5  # Enclosing scope\\n\\n    def inner_function():\\n        x = 3  # Local scope\\n        print(\"Inner:\", x)\\n\\n    inner_function()\\n    print(\"Outer:\", x)\\n\\nouter_function()\\nprint(\"Global:\", x)', '_i1': 'print(globals())  # Dictionary of global variables', '_i2': 'x = 10  # Global scope\\n\\ndef outer_function():\\n    x = 5  # Enclosing scope\\n\\n    def inner_function():\\n        x = 3  # Local scope\\n        print(\"Inner:\", x)\\n\\n    inner_function()\\n    print(\"Outer:\", x)\\n\\nouter_function()\\nprint(\"Global:\", x)', 'x': 10, 'outer_function': <function outer_function at 0x70e33043cc20>, '_i3': '# Global variable\\nx = \"global x\"\\n\\ndef outer_function():\\n    # Enclosing (nonlocal) variable\\n    x = \"enclosing x\"\\n\\n    def inner_function():\\n        # Local variable\\n        x = \"local x\"\\n        print(\"Inner function:\", x)  # This will print the local x\\n\\n    def modify_enclosing():\\n        nonlocal x  # Refers to enclosing x\\n        x = \"modified enclosing x\"\\n        print(\"Inner function after modifying enclosing:\", x)\\n\\n    def modify_global():\\n        global x  # Refers to the global x\\n        x = \"modified global x\"\\n        print(\"Inner function after modifying global:\", x)\\n\\n    print(\"Outer function before calling inner functions:\", x)  # This will print the enclosing x\\n    inner_function()  # This will print the local x\\n    print(\"Outer function after calling inner function:\", x)  # Still prints enclosing x\\n    modify_enclosing()  # Modifies the enclosing x\\n    print(\"Outer function after modifying enclosing:\", x)  # This prints the modified enclosing x\\n    modify_global()  # Modifies the global x\\n    print(\"Outer function after modifying global:\", x)  # Still prints the modified enclosing x\\n\\n# Calling the outer function\\nouter_function()\\n\\n# Checking the global variable outside\\nprint(\"Global scope after calling outer_function:\", x)  # Prints the modified global x', 'builtins': <module 'builtins' (built-in)>, 'ipykernel': <module 'ipykernel' from '/home/codespace/.local/lib/python3.12/site-packages/ipykernel/__init__.py'>, 'debugpy': <module 'debugpy' from '/home/codespace/.local/lib/python3.12/site-packages/debugpy/__init__.py'>, 'file': '/tmp/ipykernel_3970/3990065800.py', '_i4': '# Global namespace\\nx = 10\\n\\ndef my_function():\\n    # Local namespace\\n    x = 5\\n    print(\"Inside function:\", x)\\n\\nmy_function()\\nprint(\"Outside function:\", x)', 'my_function': <function my_function at 0x70e330294cc0>, '_i5': 'print(globals())  # Dictionary of global variables'}\n"
     ]
    }
   ],
   "source": [
    "print(globals())  # Dictionary of global variables\n"
   ]
  },
  {
   "cell_type": "markdown",
   "metadata": {},
   "source": [
    "### Scopes in Python\n",
    "\n",
    "The scope of a variable defines the region of code where that variable can be used. Python has 4 types of scopes:\n",
    "\n",
    "- Local: Names defined inside a function or method.\n",
    "- Enclosing (nonlocal): Names defined in the outer function for nested functions.\n",
    "- Global: Names defined at the top level of a module.\n",
    "- Built-in: Names preassigned in Python (like len() or int())."
   ]
  },
  {
   "cell_type": "code",
   "execution_count": 6,
   "metadata": {},
   "outputs": [
    {
     "name": "stdout",
     "output_type": "stream",
     "text": [
      "Inner: 3\n",
      "Outer: 5\n",
      "Global: 10\n"
     ]
    }
   ],
   "source": [
    "x = 10  # Global scope\n",
    "\n",
    "def outer_function():\n",
    "    x = 5  # Enclosing scope\n",
    "\n",
    "    def inner_function():\n",
    "        x = 3  # Local scope\n",
    "        print(\"Inner:\", x)\n",
    "\n",
    "    inner_function()\n",
    "    print(\"Outer:\", x)\n",
    "\n",
    "outer_function()\n",
    "print(\"Global:\", x)\n"
   ]
  },
  {
   "cell_type": "markdown",
   "metadata": {},
   "source": [
    "### Local, Global, and Nonlocal Variables\n",
    "- Local variables: Defined inside a function, their scope is limited to that function.\n",
    "- Global variables: Defined outside any function and accessible throughout the entire script.\n",
    "- Nonlocal variables: Used in nested functions to refer to variables in the enclosing function's scope, not the global scope."
   ]
  },
  {
   "cell_type": "code",
   "execution_count": 7,
   "metadata": {},
   "outputs": [
    {
     "name": "stdout",
     "output_type": "stream",
     "text": [
      "Outer function before calling inner functions: enclosing x\n",
      "Inner function: local x\n",
      "Outer function after calling inner function: enclosing x\n",
      "Inner function after modifying enclosing: modified enclosing x\n",
      "Outer function after modifying enclosing: modified enclosing x\n",
      "Inner function after modifying global: modified global x\n",
      "Outer function after modifying global: modified enclosing x\n",
      "Global scope after calling outer_function: modified global x\n"
     ]
    }
   ],
   "source": [
    "# Global variable\n",
    "x = \"global x\"\n",
    "\n",
    "def outer_function():\n",
    "    # Enclosing (nonlocal) variable\n",
    "    x = \"enclosing x\"\n",
    "\n",
    "    def inner_function():\n",
    "        # Local variable\n",
    "        x = \"local x\"\n",
    "        print(\"Inner function:\", x)  # This will print the local x\n",
    "\n",
    "    def modify_enclosing():\n",
    "        nonlocal x  # Refers to enclosing x\n",
    "        x = \"modified enclosing x\"\n",
    "        print(\"Inner function after modifying enclosing:\", x)\n",
    "\n",
    "    def modify_global():\n",
    "        global x  # Refers to the global x\n",
    "        x = \"modified global x\"\n",
    "        print(\"Inner function after modifying global:\", x)\n",
    "\n",
    "    print(\"Outer function before calling inner functions:\", x)  # This will print the enclosing x\n",
    "    inner_function()  # This will print the local x\n",
    "    print(\"Outer function after calling inner function:\", x)  # Still prints enclosing x\n",
    "    modify_enclosing()  # Modifies the enclosing x\n",
    "    print(\"Outer function after modifying enclosing:\", x)  # This prints the modified enclosing x\n",
    "    modify_global()  # Modifies the global x\n",
    "    print(\"Outer function after modifying global:\", x)  # Still prints the modified enclosing x\n",
    "\n",
    "# Calling the outer function\n",
    "outer_function()\n",
    "\n",
    "# Checking the global variable outside\n",
    "print(\"Global scope after calling outer_function:\", x)  # Prints the modified global x\n"
   ]
  },
  {
   "cell_type": "markdown",
   "metadata": {},
   "source": [
    "### Scope Resolution (LEGB Rule)"
   ]
  },
  {
   "cell_type": "code",
   "execution_count": 8,
   "metadata": {},
   "outputs": [
    {
     "name": "stdout",
     "output_type": "stream",
     "text": [
      "local\n",
      "enclosing\n",
      "global\n"
     ]
    }
   ],
   "source": [
    "x = \"global\"\n",
    "\n",
    "def outer():\n",
    "    x = \"enclosing\"\n",
    "\n",
    "    def inner():\n",
    "        x = \"local\"\n",
    "        print(x)  # Uses the 'local' variable\n",
    "\n",
    "    inner()\n",
    "    print(x)  # Uses the 'enclosing' variable\n",
    "\n",
    "outer()\n",
    "print(x)  # Uses the 'global' variable\n"
   ]
  }
 ],
 "metadata": {
  "kernelspec": {
   "display_name": "Python 3",
   "language": "python",
   "name": "python3"
  },
  "language_info": {
   "codemirror_mode": {
    "name": "ipython",
    "version": 3
   },
   "file_extension": ".py",
   "mimetype": "text/x-python",
   "name": "python",
   "nbconvert_exporter": "python",
   "pygments_lexer": "ipython3",
   "version": "3.12.1"
  }
 },
 "nbformat": 4,
 "nbformat_minor": 2
}
