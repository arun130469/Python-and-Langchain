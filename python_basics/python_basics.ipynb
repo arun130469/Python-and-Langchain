{
 "cells": [
  {
   "cell_type": "markdown",
   "metadata": {},
   "source": [
    "# Session 1: Python Brush-Up\n",
    "\n",
    "In this session, we'll revisit Python basics with an emphasis on hands-on coding. This will help you solidify your understanding before diving into more advanced topics in subsequent sessions.\n"
   ]
  },
  {
   "cell_type": "markdown",
   "metadata": {},
   "source": [
    "## 1. Detailed Python Brush-Up\n",
    "1.1. Variables, Data Types, and Type Conversion"
   ]
  },
  {
   "cell_type": "code",
   "execution_count": 1,
   "metadata": {},
   "outputs": [
    {
     "name": "stdout",
     "output_type": "stream",
     "text": [
      "Integer Variable: 42 of type <class 'int'>\n",
      "Float Variable: 3.14159 of type <class 'float'>\n",
      "String Variable: LangChain Python Session of type <class 'str'>\n",
      "Boolean Variable: True of type <class 'bool'>\n",
      "Converted Float: 42.0 of type <class 'float'>\n",
      "Converted String: True of type <class 'str'>\n"
     ]
    }
   ],
   "source": [
    "# Variables and Data Types\n",
    "integer_var = 42\n",
    "float_var = 3.14159\n",
    "string_var = \"LangChain Python Session\"\n",
    "boolean_var = True\n",
    "\n",
    "# Type Conversion\n",
    "converted_float = float(integer_var)\n",
    "converted_string = str(boolean_var)\n",
    "\n",
    "# Printing Variables and Their Types\n",
    "print(\"Integer Variable:\", integer_var, \"of type\", type(integer_var))\n",
    "print(\"Float Variable:\", float_var, \"of type\", type(float_var))\n",
    "print(\"String Variable:\", string_var, \"of type\", type(string_var))\n",
    "print(\"Boolean Variable:\", boolean_var, \"of type\", type(boolean_var))\n",
    "print(\"Converted Float:\", converted_float, \"of type\", type(converted_float))\n",
    "print(\"Converted String:\", converted_string, \"of type\", type(converted_string))\n"
   ]
  },
  {
   "cell_type": "markdown",
   "metadata": {},
   "source": [
    "1.2. Strings and String Manipulation"
   ]
  },
  {
   "cell_type": "code",
   "execution_count": 2,
   "metadata": {},
   "outputs": [
    {
     "name": "stdout",
     "output_type": "stream",
     "text": [
      "Full Greeting: Hello, Jayant!\n",
      "Formatted String: Hello, Jayant! Welcome to the Python session.\n",
      "Multi-line String:\n",
      " This is a multi-line string.\n",
      "You can write across multiple lines.\n",
      "Upper Case: HELLO, JAYANT!\n",
      "Lower Case: hello, jayant!\n",
      "Split String: ['Hello,', 'Jayant!']\n",
      "Sliced String: Hello\n"
     ]
    }
   ],
   "source": [
    "# String Operations\n",
    "greeting = \"Hello\"\n",
    "name = \"Jayant\"\n",
    "full_greeting = greeting + \", \" + name + \"!\"\n",
    "\n",
    "# String Formatting\n",
    "formatted_string = f\"{greeting}, {name}! Welcome to the Python session.\"\n",
    "multi_line_string = \"\"\"This is a multi-line string.\n",
    "You can write across multiple lines.\"\"\"\n",
    "\n",
    "# String Methods\n",
    "upper_case = full_greeting.upper()\n",
    "lower_case = full_greeting.lower()\n",
    "split_string = full_greeting.split(\" \")\n",
    "\n",
    "# String Slicing\n",
    "sliced_string = full_greeting[0:5]\n",
    "\n",
    "# Output the Results\n",
    "print(\"Full Greeting:\", full_greeting)\n",
    "print(\"Formatted String:\", formatted_string)\n",
    "print(\"Multi-line String:\\n\", multi_line_string)\n",
    "print(\"Upper Case:\", upper_case)\n",
    "print(\"Lower Case:\", lower_case)\n",
    "print(\"Split String:\", split_string)\n",
    "print(\"Sliced String:\", sliced_string)\n"
   ]
  },
  {
   "cell_type": "markdown",
   "metadata": {},
   "source": [
    "1.3. Data Structures: Lists, Tuples, Dictionaries, and Sets"
   ]
  },
  {
   "cell_type": "code",
   "execution_count": 3,
   "metadata": {},
   "outputs": [
    {
     "name": "stdout",
     "output_type": "stream",
     "text": [
      "List of Fruits: ['apple', 'cherry', 'date']\n",
      "Coordinates Tuple: (10.0, 20.0)\n",
      "Student Dictionary: {'name': 'Jayant', 'age': 25, 'courses': ['Python', 'LangChain']}\n",
      "Set of Unique Numbers: {1, 2, 4, 5, 6}\n"
     ]
    }
   ],
   "source": [
    "# Lists\n",
    "fruits = [\"apple\", \"banana\", \"cherry\"]\n",
    "fruits.append(\"date\")\n",
    "fruits.remove(\"banana\")\n",
    "print(\"List of Fruits:\", fruits)\n",
    "\n",
    "# Tuples\n",
    "coordinates = (10.0, 20.0)\n",
    "print(\"Coordinates Tuple:\", coordinates)\n",
    "\n",
    "# Dictionaries\n",
    "student = {\n",
    "    \"name\": \"Jayant\",\n",
    "    \"age\": 24,\n",
    "    \"courses\": [\"Python\", \"LangChain\"]\n",
    "}\n",
    "student[\"age\"] = 25\n",
    "print(\"Student Dictionary:\", student)\n",
    "\n",
    "# Sets\n",
    "unique_numbers = {1, 2, 3, 4, 5, 5, 5}\n",
    "unique_numbers.add(6)\n",
    "unique_numbers.discard(3)\n",
    "print(\"Set of Unique Numbers:\", unique_numbers)\n"
   ]
  },
  {
   "cell_type": "markdown",
   "metadata": {},
   "source": [
    "1.4. Control Structures: Advanced Loops and Conditionals"
   ]
  },
  {
   "cell_type": "code",
   "execution_count": 4,
   "metadata": {},
   "outputs": [
    {
     "name": "stdout",
     "output_type": "stream",
     "text": [
      "Score: 85, Grade: B\n",
      "1 2 3 \n",
      "4 5 6 \n",
      "7 8 9 \n"
     ]
    }
   ],
   "source": [
    "# Advanced Conditional Statements\n",
    "score = 85\n",
    "\n",
    "if score >= 90:\n",
    "    grade = 'A'\n",
    "elif score >= 80:\n",
    "    grade = 'B'\n",
    "elif score >= 70:\n",
    "    grade = 'C'\n",
    "else:\n",
    "    grade = 'F'\n",
    "\n",
    "print(f\"Score: {score}, Grade: {grade}\")\n",
    "\n",
    "# Nested Loops\n",
    "matrix = [\n",
    "    [1, 2, 3],\n",
    "    [4, 5, 6],\n",
    "    [7, 8, 9]\n",
    "]\n",
    "\n",
    "for row in matrix:\n",
    "    for num in row:\n",
    "        print(num, end=\" \")\n",
    "    print()\n"
   ]
  },
  {
   "cell_type": "markdown",
   "metadata": {},
   "source": [
    "1.5. Functions: Arguments, Return Values, and Lambda Functions"
   ]
  },
  {
   "cell_type": "code",
   "execution_count": 5,
   "metadata": {},
   "outputs": [
    {
     "name": "stdout",
     "output_type": "stream",
     "text": [
      "Area of Circle: 78.53975\n",
      "Student Details: ('Name: Jayant', 'Age: 24')\n",
      "Square of 5: 25\n"
     ]
    }
   ],
   "source": [
    "# Function with Default Arguments\n",
    "def calculate_area(radius, pi=3.14159):\n",
    "    return pi * (radius ** 2)\n",
    "\n",
    "# Function Returning Multiple Values\n",
    "def get_student_details(name, age):\n",
    "    return f\"Name: {name}\", f\"Age: {age}\"\n",
    "\n",
    "area = calculate_area(5)\n",
    "details = get_student_details(\"Jayant\", 24)\n",
    "\n",
    "print(\"Area of Circle:\", area)\n",
    "print(\"Student Details:\", details)\n",
    "\n",
    "# Lambda Functions\n",
    "square = lambda x: x * x\n",
    "print(\"Square of 5:\", square(5))\n"
   ]
  },
  {
   "cell_type": "markdown",
   "metadata": {},
   "source": [
    "1.6. Working with Files"
   ]
  },
  {
   "cell_type": "code",
   "execution_count": 6,
   "metadata": {},
   "outputs": [
    {
     "name": "stdout",
     "output_type": "stream",
     "text": [
      "File Content:\n",
      " Hello, this is a sample text file.\n",
      "We are learning Python.\n"
     ]
    }
   ],
   "source": [
    "# Writing to a File\n",
    "with open(\"example.txt\", \"w\") as file:\n",
    "    file.write(\"Hello, this is a sample text file.\\n\")\n",
    "    file.write(\"We are learning Python.\")\n",
    "\n",
    "# Reading from a File\n",
    "with open(\"example.txt\", \"r\") as file:\n",
    "    content = file.read()\n",
    "\n",
    "print(\"File Content:\\n\", content)\n"
   ]
  },
  {
   "cell_type": "markdown",
   "metadata": {},
   "source": [
    "1.7 Exception Handling"
   ]
  },
  {
   "cell_type": "code",
   "execution_count": 7,
   "metadata": {},
   "outputs": [
    {
     "name": "stdout",
     "output_type": "stream",
     "text": [
      "Error: division by zero\n",
      "This block is always executed\n",
      "Custom Error: Age must be at least 18.\n"
     ]
    }
   ],
   "source": [
    "# Basic Exception Handling\n",
    "try:\n",
    "    result = 10 / 0\n",
    "except ZeroDivisionError as e:\n",
    "    print(\"Error:\", e)\n",
    "finally:\n",
    "    print(\"This block is always executed\")\n",
    "\n",
    "# Custom Exception\n",
    "def check_age(age):\n",
    "    if age < 18:\n",
    "        raise ValueError(\"Age must be at least 18.\")\n",
    "    return \"Age is valid.\"\n",
    "\n",
    "try:\n",
    "    check_age(16)\n",
    "except ValueError as e:\n",
    "    print(\"Custom Error:\", e)\n"
   ]
  }
 ],
 "metadata": {
  "kernelspec": {
   "display_name": "Python 3 (ipykernel)",
   "language": "python",
   "name": "python3"
  },
  "language_info": {
   "codemirror_mode": {
    "name": "ipython",
    "version": 3
   },
   "file_extension": ".py",
   "mimetype": "text/x-python",
   "name": "python",
   "nbconvert_exporter": "python",
   "pygments_lexer": "ipython3",
   "version": "3.12.1"
  }
 },
 "nbformat": 4,
 "nbformat_minor": 2
}
